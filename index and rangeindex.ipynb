{
 "cells": [
  {
   "cell_type": "code",
   "execution_count": 41,
   "id": "111e15c4",
   "metadata": {},
   "outputs": [],
   "source": [
    "import pandas as pd"
   ]
  },
  {
   "cell_type": "code",
   "execution_count": 49,
   "id": "d43dcd57",
   "metadata": {},
   "outputs": [],
   "source": [
    " books_list = ['A','B','C']"
   ]
  },
  {
   "cell_type": "code",
   "execution_count": 50,
   "id": "734d1ad5",
   "metadata": {},
   "outputs": [
    {
     "data": {
      "text/plain": [
       "0    A\n",
       "1    B\n",
       "2    C\n",
       "dtype: object"
      ]
     },
     "execution_count": 50,
     "metadata": {},
     "output_type": "execute_result"
    }
   ],
   "source": [
    "pd.Series(books_list)"
   ]
  },
  {
   "cell_type": "code",
   "execution_count": 51,
   "id": "87160aec",
   "metadata": {},
   "outputs": [
    {
     "data": {
      "text/plain": [
       "funny           A\n",
       "entertaining    B\n",
       "sad             C\n",
       "dtype: object"
      ]
     },
     "execution_count": 51,
     "metadata": {},
     "output_type": "execute_result"
    }
   ],
   "source": [
    "pd.Series(data=books_list,index=['funny','entertaining','sad'])"
   ]
  },
  {
   "cell_type": "code",
   "execution_count": 53,
   "id": "a0bf9f47",
   "metadata": {},
   "outputs": [
    {
     "data": {
      "text/plain": [
       "funny           A\n",
       "entertaining    B\n",
       "sad             C\n",
       "dtype: object"
      ]
     },
     "execution_count": 53,
     "metadata": {},
     "output_type": "execute_result"
    }
   ],
   "source": [
    "pd.Series(books_list,index=['funny','entertaining','sad'],dtype = 'object' )"
   ]
  },
  {
   "cell_type": "code",
   "execution_count": 56,
   "id": "ce4f8800",
   "metadata": {},
   "outputs": [
    {
     "data": {
      "text/plain": [
       "'1.4.2'"
      ]
     },
     "execution_count": 56,
     "metadata": {},
     "output_type": "execute_result"
    }
   ],
   "source": [
    "pd.__version__"
   ]
  },
  {
   "cell_type": "code",
   "execution_count": 57,
   "id": "e004920a",
   "metadata": {},
   "outputs": [
    {
     "data": {
      "text/plain": [
       "<function list.index(value, start=0, stop=9223372036854775807, /)>"
      ]
     },
     "execution_count": 57,
     "metadata": {},
     "output_type": "execute_result"
    }
   ],
   "source": [
    "books_list.index"
   ]
  },
  {
   "cell_type": "code",
   "execution_count": 58,
   "id": "cc4fa27c",
   "metadata": {},
   "outputs": [
    {
     "data": {
      "text/plain": [
       "builtin_function_or_method"
      ]
     },
     "execution_count": 58,
     "metadata": {},
     "output_type": "execute_result"
    }
   ],
   "source": [
    "type(books_list.index)"
   ]
  },
  {
   "cell_type": "code",
   "execution_count": 59,
   "id": "b0292be9",
   "metadata": {},
   "outputs": [
    {
     "data": {
      "text/plain": [
       "[1, 3]"
      ]
     },
     "execution_count": 59,
     "metadata": {},
     "output_type": "execute_result"
    }
   ],
   "source": [
    "list(pd.RangeIndex(start=1,stop=4,step=2))"
   ]
  },
  {
   "cell_type": "code",
   "execution_count": 60,
   "id": "1a4c9e94",
   "metadata": {},
   "outputs": [
    {
     "data": {
      "text/plain": [
       "[10, 9, 8, 7, 6, 5, 4, 3, 2, 1, 0, -1, -2, -3, -4, -5, -6, -7, -8, -9, -10]"
      ]
     },
     "execution_count": 60,
     "metadata": {},
     "output_type": "execute_result"
    }
   ],
   "source": [
    "list(pd.RangeIndex(start=10,stop=-11,step=-1))"
   ]
  },
  {
   "cell_type": "code",
   "execution_count": null,
   "id": "3b160403",
   "metadata": {},
   "outputs": [],
   "source": []
  }
 ],
 "metadata": {
  "kernelspec": {
   "display_name": "Python 3 (ipykernel)",
   "language": "python",
   "name": "python3"
  },
  "language_info": {
   "codemirror_mode": {
    "name": "ipython",
    "version": 3
   },
   "file_extension": ".py",
   "mimetype": "text/x-python",
   "name": "python",
   "nbconvert_exporter": "python",
   "pygments_lexer": "ipython3",
   "version": "3.9.12"
  }
 },
 "nbformat": 4,
 "nbformat_minor": 5
}
