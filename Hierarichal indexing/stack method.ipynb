{
 "cells": [
  {
   "cell_type": "code",
   "execution_count": 451,
   "id": "0c8a9c25",
   "metadata": {},
   "outputs": [
    {
     "data": {
      "text/html": [
       "<div>\n",
       "<style scoped>\n",
       "    .dataframe tbody tr th:only-of-type {\n",
       "        vertical-align: middle;\n",
       "    }\n",
       "\n",
       "    .dataframe tbody tr th {\n",
       "        vertical-align: top;\n",
       "    }\n",
       "\n",
       "    .dataframe thead th {\n",
       "        text-align: right;\n",
       "    }\n",
       "</style>\n",
       "<table border=\"1\" class=\"dataframe\">\n",
       "  <thead>\n",
       "    <tr style=\"text-align: right;\">\n",
       "      <th></th>\n",
       "      <th></th>\n",
       "      <th></th>\n",
       "      <th>month</th>\n",
       "      <th>year</th>\n",
       "      <th>day</th>\n",
       "      <th>open</th>\n",
       "      <th>close</th>\n",
       "      <th>high</th>\n",
       "      <th>low</th>\n",
       "      <th>volume</th>\n",
       "    </tr>\n",
       "    <tr>\n",
       "      <th>date</th>\n",
       "      <th>volume_type</th>\n",
       "      <th>name</th>\n",
       "      <th></th>\n",
       "      <th></th>\n",
       "      <th></th>\n",
       "      <th></th>\n",
       "      <th></th>\n",
       "      <th></th>\n",
       "      <th></th>\n",
       "      <th></th>\n",
       "    </tr>\n",
       "  </thead>\n",
       "  <tbody>\n",
       "    <tr>\n",
       "      <th rowspan=\"5\" valign=\"top\">2014-01-02</th>\n",
       "      <th>medium</th>\n",
       "      <th>FB</th>\n",
       "      <td>1</td>\n",
       "      <td>2014</td>\n",
       "      <td>2</td>\n",
       "      <td>54.86</td>\n",
       "      <td>54.71</td>\n",
       "      <td>55.22</td>\n",
       "      <td>54.19</td>\n",
       "      <td>43257622</td>\n",
       "    </tr>\n",
       "    <tr>\n",
       "      <th>low</th>\n",
       "      <th>AAPL</th>\n",
       "      <td>1</td>\n",
       "      <td>2014</td>\n",
       "      <td>2</td>\n",
       "      <td>79.38</td>\n",
       "      <td>79.02</td>\n",
       "      <td>79.58</td>\n",
       "      <td>78.86</td>\n",
       "      <td>8398851</td>\n",
       "    </tr>\n",
       "    <tr>\n",
       "      <th rowspan=\"3\" valign=\"top\">medium</th>\n",
       "      <th>GOOGL</th>\n",
       "      <td>1</td>\n",
       "      <td>2014</td>\n",
       "      <td>2</td>\n",
       "      <td>557.73</td>\n",
       "      <td>556.56</td>\n",
       "      <td>558.88</td>\n",
       "      <td>554.13</td>\n",
       "      <td>1822719</td>\n",
       "    </tr>\n",
       "    <tr>\n",
       "      <th>MSFT</th>\n",
       "      <td>1</td>\n",
       "      <td>2014</td>\n",
       "      <td>2</td>\n",
       "      <td>37.35</td>\n",
       "      <td>37.16</td>\n",
       "      <td>37.40</td>\n",
       "      <td>37.10</td>\n",
       "      <td>30643745</td>\n",
       "    </tr>\n",
       "    <tr>\n",
       "      <th>AMZN</th>\n",
       "      <td>1</td>\n",
       "      <td>2014</td>\n",
       "      <td>2</td>\n",
       "      <td>398.80</td>\n",
       "      <td>397.97</td>\n",
       "      <td>399.36</td>\n",
       "      <td>394.02</td>\n",
       "      <td>2140246</td>\n",
       "    </tr>\n",
       "    <tr>\n",
       "      <th rowspan=\"5\" valign=\"top\">2014-01-03</th>\n",
       "      <th rowspan=\"3\" valign=\"top\">medium</th>\n",
       "      <th>FB</th>\n",
       "      <td>1</td>\n",
       "      <td>2014</td>\n",
       "      <td>3</td>\n",
       "      <td>55.00</td>\n",
       "      <td>54.56</td>\n",
       "      <td>55.65</td>\n",
       "      <td>54.53</td>\n",
       "      <td>38287706</td>\n",
       "    </tr>\n",
       "    <tr>\n",
       "      <th>GOOGL</th>\n",
       "      <td>1</td>\n",
       "      <td>2014</td>\n",
       "      <td>3</td>\n",
       "      <td>557.50</td>\n",
       "      <td>552.50</td>\n",
       "      <td>558.47</td>\n",
       "      <td>552.47</td>\n",
       "      <td>1669229</td>\n",
       "    </tr>\n",
       "    <tr>\n",
       "      <th>MSFT</th>\n",
       "      <td>1</td>\n",
       "      <td>2014</td>\n",
       "      <td>3</td>\n",
       "      <td>37.20</td>\n",
       "      <td>36.91</td>\n",
       "      <td>37.22</td>\n",
       "      <td>36.60</td>\n",
       "      <td>31134795</td>\n",
       "    </tr>\n",
       "    <tr>\n",
       "      <th>low</th>\n",
       "      <th>AAPL</th>\n",
       "      <td>1</td>\n",
       "      <td>2014</td>\n",
       "      <td>3</td>\n",
       "      <td>79.00</td>\n",
       "      <td>77.28</td>\n",
       "      <td>79.10</td>\n",
       "      <td>77.20</td>\n",
       "      <td>14043410</td>\n",
       "    </tr>\n",
       "    <tr>\n",
       "      <th>medium</th>\n",
       "      <th>AMZN</th>\n",
       "      <td>1</td>\n",
       "      <td>2014</td>\n",
       "      <td>3</td>\n",
       "      <td>398.29</td>\n",
       "      <td>396.44</td>\n",
       "      <td>402.71</td>\n",
       "      <td>396.22</td>\n",
       "      <td>2213512</td>\n",
       "    </tr>\n",
       "  </tbody>\n",
       "</table>\n",
       "</div>"
      ],
      "text/plain": [
       "                              month  year  day    open   close    high  \\\n",
       "date       volume_type name                                              \n",
       "2014-01-02 medium      FB         1  2014    2   54.86   54.71   55.22   \n",
       "           low         AAPL       1  2014    2   79.38   79.02   79.58   \n",
       "           medium      GOOGL      1  2014    2  557.73  556.56  558.88   \n",
       "                       MSFT       1  2014    2   37.35   37.16   37.40   \n",
       "                       AMZN       1  2014    2  398.80  397.97  399.36   \n",
       "2014-01-03 medium      FB         1  2014    3   55.00   54.56   55.65   \n",
       "                       GOOGL      1  2014    3  557.50  552.50  558.47   \n",
       "                       MSFT       1  2014    3   37.20   36.91   37.22   \n",
       "           low         AAPL       1  2014    3   79.00   77.28   79.10   \n",
       "           medium      AMZN       1  2014    3  398.29  396.44  402.71   \n",
       "\n",
       "                                 low    volume  \n",
       "date       volume_type name                     \n",
       "2014-01-02 medium      FB      54.19  43257622  \n",
       "           low         AAPL    78.86   8398851  \n",
       "           medium      GOOGL  554.13   1822719  \n",
       "                       MSFT    37.10  30643745  \n",
       "                       AMZN   394.02   2140246  \n",
       "2014-01-03 medium      FB      54.53  38287706  \n",
       "                       GOOGL  552.47   1669229  \n",
       "                       MSFT    36.60  31134795  \n",
       "           low         AAPL    77.20  14043410  \n",
       "           medium      AMZN   396.22   2213512  "
      ]
     },
     "execution_count": 451,
     "metadata": {},
     "output_type": "execute_result"
    }
   ],
   "source": [
    "tech.head(10)"
   ]
  },
  {
   "cell_type": "code",
   "execution_count": 453,
   "id": "b87f7f10",
   "metadata": {},
   "outputs": [],
   "source": [
    "tidx = tech.index"
   ]
  },
  {
   "cell_type": "code",
   "execution_count": 454,
   "id": "ea950fbd",
   "metadata": {},
   "outputs": [
    {
     "data": {
      "text/plain": [
       "pandas.core.indexes.multi.MultiIndex"
      ]
     },
     "execution_count": 454,
     "metadata": {},
     "output_type": "execute_result"
    }
   ],
   "source": [
    "type(tidx)"
   ]
  },
  {
   "cell_type": "code",
   "execution_count": 458,
   "id": "4c395633",
   "metadata": {},
   "outputs": [
    {
     "data": {
      "text/plain": [
       "False"
      ]
     },
     "execution_count": 458,
     "metadata": {},
     "output_type": "execute_result"
    }
   ],
   "source": [
    "tidx.is_monotonic_increasing"
   ]
  },
  {
   "cell_type": "code",
   "execution_count": 459,
   "id": "ba4576b7",
   "metadata": {},
   "outputs": [
    {
     "data": {
      "text/plain": [
       "(MultiIndex([('2019-08-23', 'medium',  'MSFT'),\n",
       "             ('2019-08-23', 'medium', 'GOOGL'),\n",
       "             ('2019-08-23', 'medium',    'FB'),\n",
       "             ('2019-08-23', 'medium',  'AMZN'),\n",
       "             ('2019-08-23', 'medium',  'AAPL'),\n",
       "             ('2019-08-22', 'medium',  'MSFT'),\n",
       "             ('2019-08-22', 'medium',  'AMZN'),\n",
       "             ('2019-08-22', 'medium',  'AAPL'),\n",
       "             ('2019-08-22',    'low', 'GOOGL'),\n",
       "             ('2019-08-22',    'low',    'FB'),\n",
       "             ...\n",
       "             ('2014-01-03', 'medium',  'MSFT'),\n",
       "             ('2014-01-03', 'medium', 'GOOGL'),\n",
       "             ('2014-01-03', 'medium',    'FB'),\n",
       "             ('2014-01-03', 'medium',  'AMZN'),\n",
       "             ('2014-01-03',    'low',  'AAPL'),\n",
       "             ('2014-01-02', 'medium',  'MSFT'),\n",
       "             ('2014-01-02', 'medium', 'GOOGL'),\n",
       "             ('2014-01-02', 'medium',    'FB'),\n",
       "             ('2014-01-02', 'medium',  'AMZN'),\n",
       "             ('2014-01-02',    'low',  'AAPL')],\n",
       "            names=['date', 'volume_type', 'name'], length=7105),\n",
       " array([7100, 7102, 7104, ...,    0,    4,    1], dtype=int64))"
      ]
     },
     "execution_count": 459,
     "metadata": {},
     "output_type": "execute_result"
    }
   ],
   "source": [
    "tidx.sortlevel(0, ascending = False, sort_remaining=True)"
   ]
  },
  {
   "cell_type": "code",
   "execution_count": 460,
   "id": "e2e02d09",
   "metadata": {},
   "outputs": [
    {
     "data": {
      "text/plain": [
       "(MultiIndex([('2014-01-02', 'medium',  'MSFT'),\n",
       "             ('2014-01-02', 'medium', 'GOOGL'),\n",
       "             ('2014-01-02', 'medium',    'FB'),\n",
       "             ('2014-01-02', 'medium',  'AMZN'),\n",
       "             ('2014-01-02',    'low',  'AAPL'),\n",
       "             ('2014-01-03', 'medium',  'MSFT'),\n",
       "             ('2014-01-03', 'medium', 'GOOGL'),\n",
       "             ('2014-01-03', 'medium',    'FB'),\n",
       "             ('2014-01-03', 'medium',  'AMZN'),\n",
       "             ('2014-01-03',    'low',  'AAPL'),\n",
       "             ...\n",
       "             ('2019-08-22', 'medium',  'MSFT'),\n",
       "             ('2019-08-22', 'medium',  'AMZN'),\n",
       "             ('2019-08-22', 'medium',  'AAPL'),\n",
       "             ('2019-08-22',    'low', 'GOOGL'),\n",
       "             ('2019-08-22',    'low',    'FB'),\n",
       "             ('2019-08-23', 'medium',  'MSFT'),\n",
       "             ('2019-08-23', 'medium', 'GOOGL'),\n",
       "             ('2019-08-23', 'medium',    'FB'),\n",
       "             ('2019-08-23', 'medium',  'AMZN'),\n",
       "             ('2019-08-23', 'medium',  'AAPL')],\n",
       "            names=['date', 'volume_type', 'name'], length=7105),\n",
       " array([   3,    2,    0, ..., 7104, 7103, 7101], dtype=int64))"
      ]
     },
     "execution_count": 460,
     "metadata": {},
     "output_type": "execute_result"
    }
   ],
   "source": [
    "tidx.sortlevel(level=(0,1,2), ascending=[True, False, False])"
   ]
  },
  {
   "cell_type": "code",
   "execution_count": 470,
   "id": "a6dd995f",
   "metadata": {},
   "outputs": [
    {
     "data": {
      "text/html": [
       "<div>\n",
       "<style scoped>\n",
       "    .dataframe tbody tr th:only-of-type {\n",
       "        vertical-align: middle;\n",
       "    }\n",
       "\n",
       "    .dataframe tbody tr th {\n",
       "        vertical-align: top;\n",
       "    }\n",
       "\n",
       "    .dataframe thead th {\n",
       "        text-align: right;\n",
       "    }\n",
       "</style>\n",
       "<table border=\"1\" class=\"dataframe\">\n",
       "  <thead>\n",
       "    <tr style=\"text-align: right;\">\n",
       "      <th></th>\n",
       "      <th></th>\n",
       "      <th></th>\n",
       "      <th>month</th>\n",
       "      <th>year</th>\n",
       "      <th>day</th>\n",
       "      <th>open</th>\n",
       "      <th>close</th>\n",
       "      <th>high</th>\n",
       "      <th>low</th>\n",
       "      <th>volume</th>\n",
       "    </tr>\n",
       "    <tr>\n",
       "      <th>Trading date</th>\n",
       "      <th>Volume Category</th>\n",
       "      <th>Ticker</th>\n",
       "      <th></th>\n",
       "      <th></th>\n",
       "      <th></th>\n",
       "      <th></th>\n",
       "      <th></th>\n",
       "      <th></th>\n",
       "      <th></th>\n",
       "      <th></th>\n",
       "    </tr>\n",
       "  </thead>\n",
       "  <tbody>\n",
       "    <tr>\n",
       "      <th rowspan=\"5\" valign=\"top\">2014-01-02</th>\n",
       "      <th>medium</th>\n",
       "      <th>FB</th>\n",
       "      <td>1</td>\n",
       "      <td>2014</td>\n",
       "      <td>2</td>\n",
       "      <td>54.86</td>\n",
       "      <td>54.71</td>\n",
       "      <td>55.22</td>\n",
       "      <td>54.19</td>\n",
       "      <td>43257622</td>\n",
       "    </tr>\n",
       "    <tr>\n",
       "      <th>low</th>\n",
       "      <th>AAPL</th>\n",
       "      <td>1</td>\n",
       "      <td>2014</td>\n",
       "      <td>2</td>\n",
       "      <td>79.38</td>\n",
       "      <td>79.02</td>\n",
       "      <td>79.58</td>\n",
       "      <td>78.86</td>\n",
       "      <td>8398851</td>\n",
       "    </tr>\n",
       "    <tr>\n",
       "      <th rowspan=\"3\" valign=\"top\">medium</th>\n",
       "      <th>GOOGL</th>\n",
       "      <td>1</td>\n",
       "      <td>2014</td>\n",
       "      <td>2</td>\n",
       "      <td>557.73</td>\n",
       "      <td>556.56</td>\n",
       "      <td>558.88</td>\n",
       "      <td>554.13</td>\n",
       "      <td>1822719</td>\n",
       "    </tr>\n",
       "    <tr>\n",
       "      <th>MSFT</th>\n",
       "      <td>1</td>\n",
       "      <td>2014</td>\n",
       "      <td>2</td>\n",
       "      <td>37.35</td>\n",
       "      <td>37.16</td>\n",
       "      <td>37.40</td>\n",
       "      <td>37.10</td>\n",
       "      <td>30643745</td>\n",
       "    </tr>\n",
       "    <tr>\n",
       "      <th>AMZN</th>\n",
       "      <td>1</td>\n",
       "      <td>2014</td>\n",
       "      <td>2</td>\n",
       "      <td>398.80</td>\n",
       "      <td>397.97</td>\n",
       "      <td>399.36</td>\n",
       "      <td>394.02</td>\n",
       "      <td>2140246</td>\n",
       "    </tr>\n",
       "  </tbody>\n",
       "</table>\n",
       "</div>"
      ],
      "text/plain": [
       "                                     month  year  day    open   close    high  \\\n",
       "Trading date Volume Category Ticker                                             \n",
       "2014-01-02   medium          FB          1  2014    2   54.86   54.71   55.22   \n",
       "             low             AAPL        1  2014    2   79.38   79.02   79.58   \n",
       "             medium          GOOGL       1  2014    2  557.73  556.56  558.88   \n",
       "                             MSFT        1  2014    2   37.35   37.16   37.40   \n",
       "                             AMZN        1  2014    2  398.80  397.97  399.36   \n",
       "\n",
       "                                        low    volume  \n",
       "Trading date Volume Category Ticker                    \n",
       "2014-01-02   medium          FB       54.19  43257622  \n",
       "             low             AAPL     78.86   8398851  \n",
       "             medium          GOOGL   554.13   1822719  \n",
       "                             MSFT     37.10  30643745  \n",
       "                             AMZN    394.02   2140246  "
      ]
     },
     "execution_count": 470,
     "metadata": {},
     "output_type": "execute_result"
    }
   ],
   "source": [
    "tech.head()"
   ]
  },
  {
   "cell_type": "code",
   "execution_count": 473,
   "id": "b20aca54",
   "metadata": {},
   "outputs": [],
   "source": [
    "stacked = tech.stack()"
   ]
  },
  {
   "cell_type": "code",
   "execution_count": 475,
   "id": "ca22aa98",
   "metadata": {},
   "outputs": [
    {
     "data": {
      "text/plain": [
       "Trading date  Volume Category  Ticker        \n",
       "2014-01-02    medium           FB      month            1.00\n",
       "                                       year          2014.00\n",
       "                                       day              2.00\n",
       "                                       open            54.86\n",
       "                                       close           54.71\n",
       "                                       high            55.22\n",
       "                                       low             54.19\n",
       "                                       volume    43257622.00\n",
       "              low              AAPL    month            1.00\n",
       "                                       year          2014.00\n",
       "dtype: float64"
      ]
     },
     "execution_count": 475,
     "metadata": {},
     "output_type": "execute_result"
    }
   ],
   "source": [
    "stacked.head(10)"
   ]
  },
  {
   "cell_type": "code",
   "execution_count": 476,
   "id": "1564c8c5",
   "metadata": {},
   "outputs": [
    {
     "data": {
      "text/plain": [
       "pandas.core.series.Series"
      ]
     },
     "execution_count": 476,
     "metadata": {},
     "output_type": "execute_result"
    }
   ],
   "source": [
    "type(stacked)"
   ]
  },
  {
   "cell_type": "code",
   "execution_count": 477,
   "id": "421fe34d",
   "metadata": {},
   "outputs": [
    {
     "data": {
      "text/plain": [
       "4"
      ]
     },
     "execution_count": 477,
     "metadata": {},
     "output_type": "execute_result"
    }
   ],
   "source": [
    "stacked.index.nlevels"
   ]
  },
  {
   "cell_type": "code",
   "execution_count": 478,
   "id": "b76a00bf",
   "metadata": {},
   "outputs": [
    {
     "data": {
      "text/plain": [
       "FrozenList(['Trading date', 'Volume Category', 'Ticker', None])"
      ]
     },
     "execution_count": 478,
     "metadata": {},
     "output_type": "execute_result"
    }
   ],
   "source": [
    "stacked.index.names\n"
   ]
  },
  {
   "cell_type": "code",
   "execution_count": null,
   "id": "0c37e625",
   "metadata": {},
   "outputs": [],
   "source": []
  }
 ],
 "metadata": {
  "kernelspec": {
   "display_name": "Python 3 (ipykernel)",
   "language": "python",
   "name": "python3"
  },
  "language_info": {
   "codemirror_mode": {
    "name": "ipython",
    "version": 3
   },
   "file_extension": ".py",
   "mimetype": "text/x-python",
   "name": "python",
   "nbconvert_exporter": "python",
   "pygments_lexer": "ipython3",
   "version": "3.9.12"
  }
 },
 "nbformat": 4,
 "nbformat_minor": 5
}
