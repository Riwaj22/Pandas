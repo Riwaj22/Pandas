{
 "cells": [
  {
   "cell_type": "code",
   "execution_count": 1,
   "id": "0663ef0c",
   "metadata": {},
   "outputs": [],
   "source": [
    "import pandas as pd\n",
    "import numpy as np"
   ]
  },
  {
   "cell_type": "code",
   "execution_count": 4,
   "id": "e453b6e2",
   "metadata": {},
   "outputs": [],
   "source": [
    "brent = pd.read_csv('https://andybek.com/pandas-oil')"
   ]
  },
  {
   "cell_type": "code",
   "execution_count": 44,
   "id": "593ffeb5",
   "metadata": {},
   "outputs": [
    {
     "data": {
      "text/html": [
       "<div>\n",
       "<style scoped>\n",
       "    .dataframe tbody tr th:only-of-type {\n",
       "        vertical-align: middle;\n",
       "    }\n",
       "\n",
       "    .dataframe tbody tr th {\n",
       "        vertical-align: top;\n",
       "    }\n",
       "\n",
       "    .dataframe thead th {\n",
       "        text-align: right;\n",
       "    }\n",
       "</style>\n",
       "<table border=\"1\" class=\"dataframe\">\n",
       "  <thead>\n",
       "    <tr style=\"text-align: right;\">\n",
       "      <th></th>\n",
       "      <th>Date</th>\n",
       "      <th>Price</th>\n",
       "    </tr>\n",
       "  </thead>\n",
       "  <tbody>\n",
       "    <tr>\n",
       "      <th>0</th>\n",
       "      <td>04-Jan-00</td>\n",
       "      <td>23.95</td>\n",
       "    </tr>\n",
       "    <tr>\n",
       "      <th>1</th>\n",
       "      <td>05-Jan-00</td>\n",
       "      <td>23.72</td>\n",
       "    </tr>\n",
       "    <tr>\n",
       "      <th>2</th>\n",
       "      <td>06-Jan-00</td>\n",
       "      <td>23.55</td>\n",
       "    </tr>\n",
       "    <tr>\n",
       "      <th>3</th>\n",
       "      <td>07-Jan-00</td>\n",
       "      <td>23.35</td>\n",
       "    </tr>\n",
       "    <tr>\n",
       "      <th>4</th>\n",
       "      <td>10-Jan-00</td>\n",
       "      <td>22.77</td>\n",
       "    </tr>\n",
       "  </tbody>\n",
       "</table>\n",
       "</div>"
      ],
      "text/plain": [
       "        Date  Price\n",
       "0  04-Jan-00  23.95\n",
       "1  05-Jan-00  23.72\n",
       "2  06-Jan-00  23.55\n",
       "3  07-Jan-00  23.35\n",
       "4  10-Jan-00  22.77"
      ]
     },
     "execution_count": 44,
     "metadata": {},
     "output_type": "execute_result"
    }
   ],
   "source": [
    "brent.head()"
   ]
  },
  {
   "cell_type": "code",
   "execution_count": 45,
   "id": "9ee16f12",
   "metadata": {},
   "outputs": [
    {
     "data": {
      "image/png": "[encoded data removed]",
      "text/plain": [
       "<Figure size 432x288 with 1 Axes>"
      ]
     },
     "metadata": {
      "needs_background": "light"
     },
     "output_type": "display_data"
    }
   ],
   "source": [
    "brent.plot(color='red');"
   ]
  },
  {
   "cell_type": "code",
   "execution_count": 62,
   "id": "242a33ce",
   "metadata": {},
   "outputs": [],
   "source": [
    "tech = pd.read_csv('https://andybek.com/pandas-tech')"
   ]
  },
  {
   "cell_type": "code",
   "execution_count": 63,
   "id": "36290cfd",
   "metadata": {},
   "outputs": [
    {
     "data": {
      "text/html": [
       "<div>\n",
       "<style scoped>\n",
       "    .dataframe tbody tr th:only-of-type {\n",
       "        vertical-align: middle;\n",
       "    }\n",
       "\n",
       "    .dataframe tbody tr th {\n",
       "        vertical-align: top;\n",
       "    }\n",
       "\n",
       "    .dataframe thead th {\n",
       "        text-align: right;\n",
       "    }\n",
       "</style>\n",
       "<table border=\"1\" class=\"dataframe\">\n",
       "  <thead>\n",
       "    <tr style=\"text-align: right;\">\n",
       "      <th></th>\n",
       "      <th>date</th>\n",
       "      <th>month</th>\n",
       "      <th>year</th>\n",
       "      <th>day</th>\n",
       "      <th>name</th>\n",
       "      <th>open</th>\n",
       "      <th>close</th>\n",
       "      <th>high</th>\n",
       "      <th>low</th>\n",
       "      <th>volume</th>\n",
       "      <th>volume_type</th>\n",
       "    </tr>\n",
       "  </thead>\n",
       "  <tbody>\n",
       "    <tr>\n",
       "      <th>0</th>\n",
       "      <td>2014-01-02</td>\n",
       "      <td>1</td>\n",
       "      <td>2014</td>\n",
       "      <td>2</td>\n",
       "      <td>FB</td>\n",
       "      <td>54.86</td>\n",
       "      <td>54.71</td>\n",
       "      <td>55.22</td>\n",
       "      <td>54.19</td>\n",
       "      <td>43257622</td>\n",
       "      <td>medium</td>\n",
       "    </tr>\n",
       "    <tr>\n",
       "      <th>1</th>\n",
       "      <td>2014-01-02</td>\n",
       "      <td>1</td>\n",
       "      <td>2014</td>\n",
       "      <td>2</td>\n",
       "      <td>AAPL</td>\n",
       "      <td>79.38</td>\n",
       "      <td>79.02</td>\n",
       "      <td>79.58</td>\n",
       "      <td>78.86</td>\n",
       "      <td>8398851</td>\n",
       "      <td>low</td>\n",
       "    </tr>\n",
       "    <tr>\n",
       "      <th>2</th>\n",
       "      <td>2014-01-02</td>\n",
       "      <td>1</td>\n",
       "      <td>2014</td>\n",
       "      <td>2</td>\n",
       "      <td>GOOGL</td>\n",
       "      <td>557.73</td>\n",
       "      <td>556.56</td>\n",
       "      <td>558.88</td>\n",
       "      <td>554.13</td>\n",
       "      <td>1822719</td>\n",
       "      <td>medium</td>\n",
       "    </tr>\n",
       "    <tr>\n",
       "      <th>3</th>\n",
       "      <td>2014-01-02</td>\n",
       "      <td>1</td>\n",
       "      <td>2014</td>\n",
       "      <td>2</td>\n",
       "      <td>MSFT</td>\n",
       "      <td>37.35</td>\n",
       "      <td>37.16</td>\n",
       "      <td>37.40</td>\n",
       "      <td>37.10</td>\n",
       "      <td>30643745</td>\n",
       "      <td>medium</td>\n",
       "    </tr>\n",
       "    <tr>\n",
       "      <th>4</th>\n",
       "      <td>2014-01-02</td>\n",
       "      <td>1</td>\n",
       "      <td>2014</td>\n",
       "      <td>2</td>\n",
       "      <td>AMZN</td>\n",
       "      <td>398.80</td>\n",
       "      <td>397.97</td>\n",
       "      <td>399.36</td>\n",
       "      <td>394.02</td>\n",
       "      <td>2140246</td>\n",
       "      <td>medium</td>\n",
       "    </tr>\n",
       "    <tr>\n",
       "      <th>5</th>\n",
       "      <td>2014-01-03</td>\n",
       "      <td>1</td>\n",
       "      <td>2014</td>\n",
       "      <td>3</td>\n",
       "      <td>FB</td>\n",
       "      <td>55.00</td>\n",
       "      <td>54.56</td>\n",
       "      <td>55.65</td>\n",
       "      <td>54.53</td>\n",
       "      <td>38287706</td>\n",
       "      <td>medium</td>\n",
       "    </tr>\n",
       "    <tr>\n",
       "      <th>6</th>\n",
       "      <td>2014-01-03</td>\n",
       "      <td>1</td>\n",
       "      <td>2014</td>\n",
       "      <td>3</td>\n",
       "      <td>GOOGL</td>\n",
       "      <td>557.50</td>\n",
       "      <td>552.50</td>\n",
       "      <td>558.47</td>\n",
       "      <td>552.47</td>\n",
       "      <td>1669229</td>\n",
       "      <td>medium</td>\n",
       "    </tr>\n",
       "    <tr>\n",
       "      <th>7</th>\n",
       "      <td>2014-01-03</td>\n",
       "      <td>1</td>\n",
       "      <td>2014</td>\n",
       "      <td>3</td>\n",
       "      <td>MSFT</td>\n",
       "      <td>37.20</td>\n",
       "      <td>36.91</td>\n",
       "      <td>37.22</td>\n",
       "      <td>36.60</td>\n",
       "      <td>31134795</td>\n",
       "      <td>medium</td>\n",
       "    </tr>\n",
       "    <tr>\n",
       "      <th>8</th>\n",
       "      <td>2014-01-03</td>\n",
       "      <td>1</td>\n",
       "      <td>2014</td>\n",
       "      <td>3</td>\n",
       "      <td>AAPL</td>\n",
       "      <td>79.00</td>\n",
       "      <td>77.28</td>\n",
       "      <td>79.10</td>\n",
       "      <td>77.20</td>\n",
       "      <td>14043410</td>\n",
       "      <td>low</td>\n",
       "    </tr>\n",
       "    <tr>\n",
       "      <th>9</th>\n",
       "      <td>2014-01-03</td>\n",
       "      <td>1</td>\n",
       "      <td>2014</td>\n",
       "      <td>3</td>\n",
       "      <td>AMZN</td>\n",
       "      <td>398.29</td>\n",
       "      <td>396.44</td>\n",
       "      <td>402.71</td>\n",
       "      <td>396.22</td>\n",
       "      <td>2213512</td>\n",
       "      <td>medium</td>\n",
       "    </tr>\n",
       "  </tbody>\n",
       "</table>\n",
       "</div>"
      ],
      "text/plain": [
       "         date  month  year  day   name    open   close    high     low  \\\n",
       "0  2014-01-02      1  2014    2     FB   54.86   54.71   55.22   54.19   \n",
       "1  2014-01-02      1  2014    2   AAPL   79.38   79.02   79.58   78.86   \n",
       "2  2014-01-02      1  2014    2  GOOGL  557.73  556.56  558.88  554.13   \n",
       "3  2014-01-02      1  2014    2   MSFT   37.35   37.16   37.40   37.10   \n",
       "4  2014-01-02      1  2014    2   AMZN  398.80  397.97  399.36  394.02   \n",
       "5  2014-01-03      1  2014    3     FB   55.00   54.56   55.65   54.53   \n",
       "6  2014-01-03      1  2014    3  GOOGL  557.50  552.50  558.47  552.47   \n",
       "7  2014-01-03      1  2014    3   MSFT   37.20   36.91   37.22   36.60   \n",
       "8  2014-01-03      1  2014    3   AAPL   79.00   77.28   79.10   77.20   \n",
       "9  2014-01-03      1  2014    3   AMZN  398.29  396.44  402.71  396.22   \n",
       "\n",
       "     volume volume_type  \n",
       "0  43257622      medium  \n",
       "1   8398851         low  \n",
       "2   1822719      medium  \n",
       "3  30643745      medium  \n",
       "4   2140246      medium  \n",
       "5  38287706      medium  \n",
       "6   1669229      medium  \n",
       "7  31134795      medium  \n",
       "8  14043410         low  \n",
       "9   2213512      medium  "
      ]
     },
     "execution_count": 63,
     "metadata": {},
     "output_type": "execute_result"
    }
   ],
   "source": [
    "tech.head(10)"
   ]
  },
  {
   "cell_type": "code",
   "execution_count": 64,
   "id": "fca5983e",
   "metadata": {},
   "outputs": [],
   "source": [
    "tech.date = tech.date.astype(np.datetime64)"
   ]
  },
  {
   "cell_type": "code",
   "execution_count": 65,
   "id": "1466cfcb",
   "metadata": {},
   "outputs": [
    {
     "name": "stdout",
     "output_type": "stream",
     "text": [
      "<class 'pandas.core.frame.DataFrame'>\n",
      "RangeIndex: 7105 entries, 0 to 7104\n",
      "Data columns (total 11 columns):\n",
      " #   Column       Non-Null Count  Dtype         \n",
      "---  ------       --------------  -----         \n",
      " 0   date         7105 non-null   datetime64[ns]\n",
      " 1   month        7105 non-null   int64         \n",
      " 2   year         7105 non-null   int64         \n",
      " 3   day          7105 non-null   int64         \n",
      " 4   name         7105 non-null   object        \n",
      " 5   open         7105 non-null   float64       \n",
      " 6   close        7105 non-null   float64       \n",
      " 7   high         7105 non-null   float64       \n",
      " 8   low          7105 non-null   float64       \n",
      " 9   volume       7105 non-null   int64         \n",
      " 10  volume_type  7105 non-null   object        \n",
      "dtypes: datetime64[ns](1), float64(4), int64(4), object(2)\n",
      "memory usage: 1.3 MB\n"
     ]
    }
   ],
   "source": [
    "tech.info(memory_usage='deep')"
   ]
  },
  {
   "cell_type": "code",
   "execution_count": 66,
   "id": "19974790",
   "metadata": {},
   "outputs": [],
   "source": [
    "tech.set_index('date', inplace=True)"
   ]
  },
  {
   "cell_type": "code",
   "execution_count": 67,
   "id": "c0ef52ab",
   "metadata": {},
   "outputs": [
    {
     "data": {
      "text/html": [
       "<div>\n",
       "<style scoped>\n",
       "    .dataframe tbody tr th:only-of-type {\n",
       "        vertical-align: middle;\n",
       "    }\n",
       "\n",
       "    .dataframe tbody tr th {\n",
       "        vertical-align: top;\n",
       "    }\n",
       "\n",
       "    .dataframe thead th {\n",
       "        text-align: right;\n",
       "    }\n",
       "</style>\n",
       "<table border=\"1\" class=\"dataframe\">\n",
       "  <thead>\n",
       "    <tr style=\"text-align: right;\">\n",
       "      <th></th>\n",
       "      <th>month</th>\n",
       "      <th>year</th>\n",
       "      <th>day</th>\n",
       "      <th>name</th>\n",
       "      <th>open</th>\n",
       "      <th>close</th>\n",
       "      <th>high</th>\n",
       "      <th>low</th>\n",
       "      <th>volume</th>\n",
       "      <th>volume_type</th>\n",
       "    </tr>\n",
       "    <tr>\n",
       "      <th>date</th>\n",
       "      <th></th>\n",
       "      <th></th>\n",
       "      <th></th>\n",
       "      <th></th>\n",
       "      <th></th>\n",
       "      <th></th>\n",
       "      <th></th>\n",
       "      <th></th>\n",
       "      <th></th>\n",
       "      <th></th>\n",
       "    </tr>\n",
       "  </thead>\n",
       "  <tbody>\n",
       "    <tr>\n",
       "      <th>2014-01-02</th>\n",
       "      <td>1</td>\n",
       "      <td>2014</td>\n",
       "      <td>2</td>\n",
       "      <td>FB</td>\n",
       "      <td>54.86</td>\n",
       "      <td>54.71</td>\n",
       "      <td>55.22</td>\n",
       "      <td>54.19</td>\n",
       "      <td>43257622</td>\n",
       "      <td>medium</td>\n",
       "    </tr>\n",
       "    <tr>\n",
       "      <th>2014-01-02</th>\n",
       "      <td>1</td>\n",
       "      <td>2014</td>\n",
       "      <td>2</td>\n",
       "      <td>AAPL</td>\n",
       "      <td>79.38</td>\n",
       "      <td>79.02</td>\n",
       "      <td>79.58</td>\n",
       "      <td>78.86</td>\n",
       "      <td>8398851</td>\n",
       "      <td>low</td>\n",
       "    </tr>\n",
       "    <tr>\n",
       "      <th>2014-01-02</th>\n",
       "      <td>1</td>\n",
       "      <td>2014</td>\n",
       "      <td>2</td>\n",
       "      <td>GOOGL</td>\n",
       "      <td>557.73</td>\n",
       "      <td>556.56</td>\n",
       "      <td>558.88</td>\n",
       "      <td>554.13</td>\n",
       "      <td>1822719</td>\n",
       "      <td>medium</td>\n",
       "    </tr>\n",
       "    <tr>\n",
       "      <th>2014-01-02</th>\n",
       "      <td>1</td>\n",
       "      <td>2014</td>\n",
       "      <td>2</td>\n",
       "      <td>MSFT</td>\n",
       "      <td>37.35</td>\n",
       "      <td>37.16</td>\n",
       "      <td>37.40</td>\n",
       "      <td>37.10</td>\n",
       "      <td>30643745</td>\n",
       "      <td>medium</td>\n",
       "    </tr>\n",
       "    <tr>\n",
       "      <th>2014-01-02</th>\n",
       "      <td>1</td>\n",
       "      <td>2014</td>\n",
       "      <td>2</td>\n",
       "      <td>AMZN</td>\n",
       "      <td>398.80</td>\n",
       "      <td>397.97</td>\n",
       "      <td>399.36</td>\n",
       "      <td>394.02</td>\n",
       "      <td>2140246</td>\n",
       "      <td>medium</td>\n",
       "    </tr>\n",
       "    <tr>\n",
       "      <th>2014-01-03</th>\n",
       "      <td>1</td>\n",
       "      <td>2014</td>\n",
       "      <td>3</td>\n",
       "      <td>FB</td>\n",
       "      <td>55.00</td>\n",
       "      <td>54.56</td>\n",
       "      <td>55.65</td>\n",
       "      <td>54.53</td>\n",
       "      <td>38287706</td>\n",
       "      <td>medium</td>\n",
       "    </tr>\n",
       "    <tr>\n",
       "      <th>2014-01-03</th>\n",
       "      <td>1</td>\n",
       "      <td>2014</td>\n",
       "      <td>3</td>\n",
       "      <td>GOOGL</td>\n",
       "      <td>557.50</td>\n",
       "      <td>552.50</td>\n",
       "      <td>558.47</td>\n",
       "      <td>552.47</td>\n",
       "      <td>1669229</td>\n",
       "      <td>medium</td>\n",
       "    </tr>\n",
       "    <tr>\n",
       "      <th>2014-01-03</th>\n",
       "      <td>1</td>\n",
       "      <td>2014</td>\n",
       "      <td>3</td>\n",
       "      <td>MSFT</td>\n",
       "      <td>37.20</td>\n",
       "      <td>36.91</td>\n",
       "      <td>37.22</td>\n",
       "      <td>36.60</td>\n",
       "      <td>31134795</td>\n",
       "      <td>medium</td>\n",
       "    </tr>\n",
       "    <tr>\n",
       "      <th>2014-01-03</th>\n",
       "      <td>1</td>\n",
       "      <td>2014</td>\n",
       "      <td>3</td>\n",
       "      <td>AAPL</td>\n",
       "      <td>79.00</td>\n",
       "      <td>77.28</td>\n",
       "      <td>79.10</td>\n",
       "      <td>77.20</td>\n",
       "      <td>14043410</td>\n",
       "      <td>low</td>\n",
       "    </tr>\n",
       "    <tr>\n",
       "      <th>2014-01-03</th>\n",
       "      <td>1</td>\n",
       "      <td>2014</td>\n",
       "      <td>3</td>\n",
       "      <td>AMZN</td>\n",
       "      <td>398.29</td>\n",
       "      <td>396.44</td>\n",
       "      <td>402.71</td>\n",
       "      <td>396.22</td>\n",
       "      <td>2213512</td>\n",
       "      <td>medium</td>\n",
       "    </tr>\n",
       "  </tbody>\n",
       "</table>\n",
       "</div>"
      ],
      "text/plain": [
       "            month  year  day   name    open   close    high     low    volume  \\\n",
       "date                                                                            \n",
       "2014-01-02      1  2014    2     FB   54.86   54.71   55.22   54.19  43257622   \n",
       "2014-01-02      1  2014    2   AAPL   79.38   79.02   79.58   78.86   8398851   \n",
       "2014-01-02      1  2014    2  GOOGL  557.73  556.56  558.88  554.13   1822719   \n",
       "2014-01-02      1  2014    2   MSFT   37.35   37.16   37.40   37.10  30643745   \n",
       "2014-01-02      1  2014    2   AMZN  398.80  397.97  399.36  394.02   2140246   \n",
       "2014-01-03      1  2014    3     FB   55.00   54.56   55.65   54.53  38287706   \n",
       "2014-01-03      1  2014    3  GOOGL  557.50  552.50  558.47  552.47   1669229   \n",
       "2014-01-03      1  2014    3   MSFT   37.20   36.91   37.22   36.60  31134795   \n",
       "2014-01-03      1  2014    3   AAPL   79.00   77.28   79.10   77.20  14043410   \n",
       "2014-01-03      1  2014    3   AMZN  398.29  396.44  402.71  396.22   2213512   \n",
       "\n",
       "           volume_type  \n",
       "date                    \n",
       "2014-01-02      medium  \n",
       "2014-01-02         low  \n",
       "2014-01-02      medium  \n",
       "2014-01-02      medium  \n",
       "2014-01-02      medium  \n",
       "2014-01-03      medium  \n",
       "2014-01-03      medium  \n",
       "2014-01-03      medium  \n",
       "2014-01-03         low  \n",
       "2014-01-03      medium  "
      ]
     },
     "execution_count": 67,
     "metadata": {},
     "output_type": "execute_result"
    }
   ],
   "source": [
    "tech.head(10)"
   ]
  },
  {
   "cell_type": "code",
   "execution_count": 68,
   "id": "eae02ba1",
   "metadata": {},
   "outputs": [
    {
     "data": {
      "text/plain": [
       "DatetimeIndex(['2014-01-02', '2014-01-02', '2014-01-02', '2014-01-02',\n",
       "               '2014-01-02', '2014-01-03', '2014-01-03', '2014-01-03',\n",
       "               '2014-01-03', '2014-01-03',\n",
       "               ...\n",
       "               '2019-08-22', '2019-08-22', '2019-08-22', '2019-08-22',\n",
       "               '2019-08-22', '2019-08-23', '2019-08-23', '2019-08-23',\n",
       "               '2019-08-23', '2019-08-23'],\n",
       "              dtype='datetime64[ns]', name='date', length=7105, freq=None)"
      ]
     },
     "execution_count": 68,
     "metadata": {},
     "output_type": "execute_result"
    }
   ],
   "source": [
    "tech.index"
   ]
  },
  {
   "cell_type": "code",
   "execution_count": 69,
   "id": "d9f45758",
   "metadata": {},
   "outputs": [],
   "source": [
    "fb = tech.loc[tech.name == 'FB', 'close'].rename('facebook')"
   ]
  },
  {
   "cell_type": "code",
   "execution_count": 70,
   "id": "072167f6",
   "metadata": {},
   "outputs": [
    {
     "data": {
      "text/plain": [
       "date\n",
       "2014-01-02     54.71\n",
       "2014-01-03     54.56\n",
       "2014-01-06     57.20\n",
       "2014-01-07     57.92\n",
       "2014-01-08     58.23\n",
       "               ...  \n",
       "2019-08-19    186.17\n",
       "2019-08-20    183.81\n",
       "2019-08-21    183.55\n",
       "2019-08-22    182.04\n",
       "2019-08-23    177.75\n",
       "Name: facebook, Length: 1421, dtype: float64"
      ]
     },
     "execution_count": 70,
     "metadata": {},
     "output_type": "execute_result"
    }
   ],
   "source": [
    "fb"
   ]
  },
  {
   "cell_type": "code",
   "execution_count": 71,
   "id": "9e5db76e",
   "metadata": {},
   "outputs": [],
   "source": [
    "ms = tech.loc[tech.name == 'MSFT', 'close'].rename('Microsoft')"
   ]
  },
  {
   "cell_type": "code",
   "execution_count": 72,
   "id": "b8e5aff7",
   "metadata": {},
   "outputs": [
    {
     "data": {
      "text/plain": [
       "date\n",
       "2014-01-02     37.16\n",
       "2014-01-03     36.91\n",
       "2014-01-06     36.13\n",
       "2014-01-07     36.41\n",
       "2014-01-08     35.76\n",
       "               ...  \n",
       "2019-08-19    138.41\n",
       "2019-08-20    137.26\n",
       "2019-08-21    138.79\n",
       "2019-08-22    137.78\n",
       "2019-08-23    133.39\n",
       "Name: Microsoft, Length: 1421, dtype: float64"
      ]
     },
     "execution_count": 72,
     "metadata": {},
     "output_type": "execute_result"
    }
   ],
   "source": [
    "ms"
   ]
  },
  {
   "cell_type": "code",
   "execution_count": 75,
   "id": "d21d33ab",
   "metadata": {},
   "outputs": [],
   "source": [
    "ap = tech.loc[tech.name == 'AAPL', 'close'].rename('Apple')"
   ]
  },
  {
   "cell_type": "code",
   "execution_count": 76,
   "id": "5a4c1e7f",
   "metadata": {},
   "outputs": [
    {
     "data": {
      "text/plain": [
       "date\n",
       "2014-01-02     79.02\n",
       "2014-01-03     77.28\n",
       "2014-01-06     77.70\n",
       "2014-01-07     77.15\n",
       "2014-01-08     77.64\n",
       "               ...  \n",
       "2019-08-19    210.35\n",
       "2019-08-20    210.36\n",
       "2019-08-21    212.64\n",
       "2019-08-22    212.46\n",
       "2019-08-23    202.64\n",
       "Name: Apple, Length: 1421, dtype: float64"
      ]
     },
     "execution_count": 76,
     "metadata": {},
     "output_type": "execute_result"
    }
   ],
   "source": [
    "ap"
   ]
  },
  {
   "cell_type": "code",
   "execution_count": 79,
   "id": "47458d06",
   "metadata": {},
   "outputs": [
    {
     "data": {
      "image/png": "[encoded data removed]",
      "text/plain": [
       "<Figure size 432x288 with 1 Axes>"
      ]
     },
     "metadata": {
      "needs_background": "light"
     },
     "output_type": "display_data"
    }
   ],
   "source": [
    "ap.plot();"
   ]
  },
  {
   "cell_type": "code",
   "execution_count": 80,
   "id": "80bffcf2",
   "metadata": {},
   "outputs": [],
   "source": [
    "dfs = pd.concat([ap, fb, ms], axis =1)"
   ]
  },
  {
   "cell_type": "code",
   "execution_count": 81,
   "id": "621accd6",
   "metadata": {},
   "outputs": [
    {
     "data": {
      "text/html": [
       "<div>\n",
       "<style scoped>\n",
       "    .dataframe tbody tr th:only-of-type {\n",
       "        vertical-align: middle;\n",
       "    }\n",
       "\n",
       "    .dataframe tbody tr th {\n",
       "        vertical-align: top;\n",
       "    }\n",
       "\n",
       "    .dataframe thead th {\n",
       "        text-align: right;\n",
       "    }\n",
       "</style>\n",
       "<table border=\"1\" class=\"dataframe\">\n",
       "  <thead>\n",
       "    <tr style=\"text-align: right;\">\n",
       "      <th></th>\n",
       "      <th>Apple</th>\n",
       "      <th>facebook</th>\n",
       "      <th>Microsoft</th>\n",
       "    </tr>\n",
       "    <tr>\n",
       "      <th>date</th>\n",
       "      <th></th>\n",
       "      <th></th>\n",
       "      <th></th>\n",
       "    </tr>\n",
       "  </thead>\n",
       "  <tbody>\n",
       "    <tr>\n",
       "      <th>2014-01-02</th>\n",
       "      <td>79.02</td>\n",
       "      <td>54.71</td>\n",
       "      <td>37.16</td>\n",
       "    </tr>\n",
       "    <tr>\n",
       "      <th>2014-01-03</th>\n",
       "      <td>77.28</td>\n",
       "      <td>54.56</td>\n",
       "      <td>36.91</td>\n",
       "    </tr>\n",
       "    <tr>\n",
       "      <th>2014-01-06</th>\n",
       "      <td>77.70</td>\n",
       "      <td>57.20</td>\n",
       "      <td>36.13</td>\n",
       "    </tr>\n",
       "    <tr>\n",
       "      <th>2014-01-07</th>\n",
       "      <td>77.15</td>\n",
       "      <td>57.92</td>\n",
       "      <td>36.41</td>\n",
       "    </tr>\n",
       "    <tr>\n",
       "      <th>2014-01-08</th>\n",
       "      <td>77.64</td>\n",
       "      <td>58.23</td>\n",
       "      <td>35.76</td>\n",
       "    </tr>\n",
       "    <tr>\n",
       "      <th>...</th>\n",
       "      <td>...</td>\n",
       "      <td>...</td>\n",
       "      <td>...</td>\n",
       "    </tr>\n",
       "    <tr>\n",
       "      <th>2019-08-19</th>\n",
       "      <td>210.35</td>\n",
       "      <td>186.17</td>\n",
       "      <td>138.41</td>\n",
       "    </tr>\n",
       "    <tr>\n",
       "      <th>2019-08-20</th>\n",
       "      <td>210.36</td>\n",
       "      <td>183.81</td>\n",
       "      <td>137.26</td>\n",
       "    </tr>\n",
       "    <tr>\n",
       "      <th>2019-08-21</th>\n",
       "      <td>212.64</td>\n",
       "      <td>183.55</td>\n",
       "      <td>138.79</td>\n",
       "    </tr>\n",
       "    <tr>\n",
       "      <th>2019-08-22</th>\n",
       "      <td>212.46</td>\n",
       "      <td>182.04</td>\n",
       "      <td>137.78</td>\n",
       "    </tr>\n",
       "    <tr>\n",
       "      <th>2019-08-23</th>\n",
       "      <td>202.64</td>\n",
       "      <td>177.75</td>\n",
       "      <td>133.39</td>\n",
       "    </tr>\n",
       "  </tbody>\n",
       "</table>\n",
       "<p>1421 rows × 3 columns</p>\n",
       "</div>"
      ],
      "text/plain": [
       "             Apple  facebook  Microsoft\n",
       "date                                   \n",
       "2014-01-02   79.02     54.71      37.16\n",
       "2014-01-03   77.28     54.56      36.91\n",
       "2014-01-06   77.70     57.20      36.13\n",
       "2014-01-07   77.15     57.92      36.41\n",
       "2014-01-08   77.64     58.23      35.76\n",
       "...            ...       ...        ...\n",
       "2019-08-19  210.35    186.17     138.41\n",
       "2019-08-20  210.36    183.81     137.26\n",
       "2019-08-21  212.64    183.55     138.79\n",
       "2019-08-22  212.46    182.04     137.78\n",
       "2019-08-23  202.64    177.75     133.39\n",
       "\n",
       "[1421 rows x 3 columns]"
      ]
     },
     "execution_count": 81,
     "metadata": {},
     "output_type": "execute_result"
    }
   ],
   "source": [
    "dfs"
   ]
  },
  {
   "cell_type": "code",
   "execution_count": 83,
   "id": "363a69dd",
   "metadata": {},
   "outputs": [
    {
     "data": {
      "image/png": "[encoded data removed]",
      "text/plain": [
       "<Figure size 432x288 with 1 Axes>"
      ]
     },
     "metadata": {
      "needs_background": "light"
     },
     "output_type": "display_data"
    }
   ],
   "source": [
    "dfs.plot();"
   ]
  },
  {
   "cell_type": "code",
   "execution_count": null,
   "id": "4aa9c0c7",
   "metadata": {},
   "outputs": [],
   "source": [
    "dfs.plot(subplots = True);"
   ]
  },
  {
   "cell_type": "code",
   "execution_count": 87,
   "id": "ae9b704b",
   "metadata": {},
   "outputs": [
    {
     "data": {
      "text/plain": [
       "array([<AxesSubplot:xlabel='date'>, <AxesSubplot:xlabel='date'>,\n",
       "       <AxesSubplot:xlabel='date'>], dtype=object)"
      ]
     },
     "execution_count": 87,
     "metadata": {},
     "output_type": "execute_result"
    },
    {
     "data": {
      "image/png": "[encoded data removed]",
      "text/plain": [
       "<Figure size 936x432 with 3 Axes>"
      ]
     },
     "metadata": {
      "needs_background": "light"
     },
     "output_type": "display_data"
    }
   ],
   "source": [
    "dfs.plot(subplots = True, linewidth = .7, figsize=(13,6))"
   ]
  },
  {
   "cell_type": "code",
   "execution_count": null,
   "id": "f050c0d8",
   "metadata": {},
   "outputs": [],
   "source": []
  }
 ],
 "metadata": {
  "kernelspec": {
   "display_name": "Python 3 (ipykernel)",
   "language": "python",
   "name": "python3"
  },
  "language_info": {
   "codemirror_mode": {
    "name": "ipython",
    "version": 3
   },
   "file_extension": ".py",
   "mimetype": "text/x-python",
   "name": "python",
   "nbconvert_exporter": "python",
   "pygments_lexer": "ipython3",
   "version": "3.9.12"
  }
 },
 "nbformat": 4,
 "nbformat_minor": 5
}
