{
 "cells": [
  {
   "cell_type": "code",
   "execution_count": 126,
   "id": "a521c898",
   "metadata": {},
   "outputs": [],
   "source": [
    "import pandas as pd\n",
    "import numpy as np"
   ]
  },
  {
   "cell_type": "code",
   "execution_count": 179,
   "id": "8b1472fe",
   "metadata": {},
   "outputs": [],
   "source": [
    "sat = pd.read_csv('https://andybek.com/pandas-sat')"
   ]
  },
  {
   "cell_type": "code",
   "execution_count": 180,
   "id": "f1671b05",
   "metadata": {},
   "outputs": [
    {
     "data": {
      "text/html": [
       "<div>\n",
       "<style scoped>\n",
       "    .dataframe tbody tr th:only-of-type {\n",
       "        vertical-align: middle;\n",
       "    }\n",
       "\n",
       "    .dataframe tbody tr th {\n",
       "        vertical-align: top;\n",
       "    }\n",
       "\n",
       "    .dataframe thead th {\n",
       "        text-align: right;\n",
       "    }\n",
       "</style>\n",
       "<table border=\"1\" class=\"dataframe\">\n",
       "  <thead>\n",
       "    <tr style=\"text-align: right;\">\n",
       "      <th></th>\n",
       "      <th>School Name</th>\n",
       "      <th>Borough</th>\n",
       "      <th>Student Enrollment</th>\n",
       "      <th>Percent Tested</th>\n",
       "      <th>SAT Section</th>\n",
       "      <th>Score</th>\n",
       "    </tr>\n",
       "  </thead>\n",
       "  <tbody>\n",
       "    <tr>\n",
       "      <th>0</th>\n",
       "      <td>A. Philip Randolph Campus High School</td>\n",
       "      <td>Manhattan</td>\n",
       "      <td>1354</td>\n",
       "      <td>74.00%</td>\n",
       "      <td>Math</td>\n",
       "      <td>459</td>\n",
       "    </tr>\n",
       "    <tr>\n",
       "      <th>1</th>\n",
       "      <td>A. Philip Randolph Campus High School</td>\n",
       "      <td>Manhattan</td>\n",
       "      <td>1354</td>\n",
       "      <td>74.00%</td>\n",
       "      <td>Reading</td>\n",
       "      <td>453</td>\n",
       "    </tr>\n",
       "    <tr>\n",
       "      <th>2</th>\n",
       "      <td>A. Philip Randolph Campus High School</td>\n",
       "      <td>Manhattan</td>\n",
       "      <td>1354</td>\n",
       "      <td>74.00%</td>\n",
       "      <td>Writing</td>\n",
       "      <td>447</td>\n",
       "    </tr>\n",
       "    <tr>\n",
       "      <th>3</th>\n",
       "      <td>Abraham Lincoln High School</td>\n",
       "      <td>Brooklyn</td>\n",
       "      <td>2341</td>\n",
       "      <td>54.90%</td>\n",
       "      <td>Math</td>\n",
       "      <td>441</td>\n",
       "    </tr>\n",
       "    <tr>\n",
       "      <th>4</th>\n",
       "      <td>Abraham Lincoln High School</td>\n",
       "      <td>Brooklyn</td>\n",
       "      <td>2341</td>\n",
       "      <td>54.90%</td>\n",
       "      <td>Reading</td>\n",
       "      <td>422</td>\n",
       "    </tr>\n",
       "  </tbody>\n",
       "</table>\n",
       "</div>"
      ],
      "text/plain": [
       "                             School Name    Borough  Student Enrollment  \\\n",
       "0  A. Philip Randolph Campus High School  Manhattan                1354   \n",
       "1  A. Philip Randolph Campus High School  Manhattan                1354   \n",
       "2  A. Philip Randolph Campus High School  Manhattan                1354   \n",
       "3            Abraham Lincoln High School   Brooklyn                2341   \n",
       "4            Abraham Lincoln High School   Brooklyn                2341   \n",
       "\n",
       "  Percent Tested SAT Section  Score  \n",
       "0         74.00%        Math    459  \n",
       "1         74.00%     Reading    453  \n",
       "2         74.00%     Writing    447  \n",
       "3         54.90%        Math    441  \n",
       "4         54.90%     Reading    422  "
      ]
     },
     "execution_count": 180,
     "metadata": {},
     "output_type": "execute_result"
    }
   ],
   "source": [
    "sat.head()"
   ]
  },
  {
   "cell_type": "code",
   "execution_count": 216,
   "id": "234eaf80",
   "metadata": {},
   "outputs": [],
   "source": [
    "math = sat[sat['SAT Section'] == 'Math'].Score.reset_index(drop=True)"
   ]
  },
  {
   "cell_type": "code",
   "execution_count": 217,
   "id": "0cb93f2a",
   "metadata": {},
   "outputs": [
    {
     "data": {
      "text/plain": [
       "0      459\n",
       "1      441\n",
       "2      444\n",
       "3      386\n",
       "4      381\n",
       "      ... \n",
       "370    484\n",
       "371    496\n",
       "372    478\n",
       "373    483\n",
       "374    415\n",
       "Name: Score, Length: 375, dtype: int64"
      ]
     },
     "execution_count": 217,
     "metadata": {},
     "output_type": "execute_result"
    }
   ],
   "source": [
    "math"
   ]
  },
  {
   "cell_type": "code",
   "execution_count": 224,
   "id": "4859c503",
   "metadata": {},
   "outputs": [],
   "source": [
    "Reading = sat[sat['SAT Section'] == 'Reading'].Score.reset_index(drop=True)"
   ]
  },
  {
   "cell_type": "code",
   "execution_count": 225,
   "id": "91098efc",
   "metadata": {},
   "outputs": [],
   "source": [
    "Writing = sat[sat['SAT Section'] == 'Writing'].Score.reset_index(drop=True)"
   ]
  },
  {
   "cell_type": "code",
   "execution_count": 226,
   "id": "d69701a7",
   "metadata": {},
   "outputs": [
    {
     "data": {
      "text/plain": [
       "0      453\n",
       "1      422\n",
       "2      458\n",
       "3      397\n",
       "4      397\n",
       "      ... \n",
       "370    491\n",
       "371    481\n",
       "372    465\n",
       "373    464\n",
       "374    420\n",
       "Name: Score, Length: 375, dtype: int64"
      ]
     },
     "execution_count": 226,
     "metadata": {},
     "output_type": "execute_result"
    }
   ],
   "source": [
    "Reading"
   ]
  },
  {
   "cell_type": "code",
   "execution_count": 227,
   "id": "880a45fb",
   "metadata": {},
   "outputs": [
    {
     "data": {
      "text/plain": [
       "0      447\n",
       "1      422\n",
       "2      444\n",
       "3      393\n",
       "4      390\n",
       "      ... \n",
       "370    487\n",
       "371    473\n",
       "372    472\n",
       "373    477\n",
       "374    433\n",
       "Name: Score, Length: 375, dtype: int64"
      ]
     },
     "execution_count": 227,
     "metadata": {},
     "output_type": "execute_result"
    }
   ],
   "source": [
    "Writing"
   ]
  },
  {
   "cell_type": "code",
   "execution_count": 230,
   "id": "261fd102",
   "metadata": {},
   "outputs": [],
   "source": [
    "scores = pd.concat([math, Reading, Writing], axis =1)"
   ]
  },
  {
   "cell_type": "code",
   "execution_count": 233,
   "id": "c2e8e345",
   "metadata": {},
   "outputs": [],
   "source": [
    "scores.columns = ['Math', 'Reading','Writing']"
   ]
  },
  {
   "cell_type": "code",
   "execution_count": 234,
   "id": "eb5f6a04",
   "metadata": {},
   "outputs": [
    {
     "data": {
      "text/html": [
       "<div>\n",
       "<style scoped>\n",
       "    .dataframe tbody tr th:only-of-type {\n",
       "        vertical-align: middle;\n",
       "    }\n",
       "\n",
       "    .dataframe tbody tr th {\n",
       "        vertical-align: top;\n",
       "    }\n",
       "\n",
       "    .dataframe thead th {\n",
       "        text-align: right;\n",
       "    }\n",
       "</style>\n",
       "<table border=\"1\" class=\"dataframe\">\n",
       "  <thead>\n",
       "    <tr style=\"text-align: right;\">\n",
       "      <th></th>\n",
       "      <th>Math</th>\n",
       "      <th>Reading</th>\n",
       "      <th>Writing</th>\n",
       "    </tr>\n",
       "  </thead>\n",
       "  <tbody>\n",
       "    <tr>\n",
       "      <th>0</th>\n",
       "      <td>459</td>\n",
       "      <td>453</td>\n",
       "      <td>447</td>\n",
       "    </tr>\n",
       "    <tr>\n",
       "      <th>1</th>\n",
       "      <td>441</td>\n",
       "      <td>422</td>\n",
       "      <td>422</td>\n",
       "    </tr>\n",
       "    <tr>\n",
       "      <th>2</th>\n",
       "      <td>444</td>\n",
       "      <td>458</td>\n",
       "      <td>444</td>\n",
       "    </tr>\n",
       "    <tr>\n",
       "      <th>3</th>\n",
       "      <td>386</td>\n",
       "      <td>397</td>\n",
       "      <td>393</td>\n",
       "    </tr>\n",
       "    <tr>\n",
       "      <th>4</th>\n",
       "      <td>381</td>\n",
       "      <td>397</td>\n",
       "      <td>390</td>\n",
       "    </tr>\n",
       "    <tr>\n",
       "      <th>...</th>\n",
       "      <td>...</td>\n",
       "      <td>...</td>\n",
       "      <td>...</td>\n",
       "    </tr>\n",
       "    <tr>\n",
       "      <th>370</th>\n",
       "      <td>484</td>\n",
       "      <td>491</td>\n",
       "      <td>487</td>\n",
       "    </tr>\n",
       "    <tr>\n",
       "      <th>371</th>\n",
       "      <td>496</td>\n",
       "      <td>481</td>\n",
       "      <td>473</td>\n",
       "    </tr>\n",
       "    <tr>\n",
       "      <th>372</th>\n",
       "      <td>478</td>\n",
       "      <td>465</td>\n",
       "      <td>472</td>\n",
       "    </tr>\n",
       "    <tr>\n",
       "      <th>373</th>\n",
       "      <td>483</td>\n",
       "      <td>464</td>\n",
       "      <td>477</td>\n",
       "    </tr>\n",
       "    <tr>\n",
       "      <th>374</th>\n",
       "      <td>415</td>\n",
       "      <td>420</td>\n",
       "      <td>433</td>\n",
       "    </tr>\n",
       "  </tbody>\n",
       "</table>\n",
       "<p>375 rows × 3 columns</p>\n",
       "</div>"
      ],
      "text/plain": [
       "     Math  Reading  Writing\n",
       "0     459      453      447\n",
       "1     441      422      422\n",
       "2     444      458      444\n",
       "3     386      397      393\n",
       "4     381      397      390\n",
       "..    ...      ...      ...\n",
       "370   484      491      487\n",
       "371   496      481      473\n",
       "372   478      465      472\n",
       "373   483      464      477\n",
       "374   415      420      433\n",
       "\n",
       "[375 rows x 3 columns]"
      ]
     },
     "execution_count": 234,
     "metadata": {},
     "output_type": "execute_result"
    }
   ],
   "source": [
    "scores"
   ]
  },
  {
   "cell_type": "code",
   "execution_count": 240,
   "id": "434299ac",
   "metadata": {},
   "outputs": [
    {
     "data": {
      "image/png": "[encoded data removed]",
      "text/plain": [
       "<Figure size 432x288 with 1 Axes>"
      ]
     },
     "metadata": {
      "needs_background": "light"
     },
     "output_type": "display_data"
    }
   ],
   "source": [
    "scores.plot(kind='scatter',\n",
    "            x='Math',\n",
    "            y='Writing'\n",
    "           );"
   ]
  },
  {
   "cell_type": "code",
   "execution_count": 241,
   "id": "10c545ca",
   "metadata": {},
   "outputs": [
    {
     "data": {
      "text/plain": [
       "0.9341552744743178"
      ]
     },
     "execution_count": 241,
     "metadata": {},
     "output_type": "execute_result"
    }
   ],
   "source": [
    "math.corr(Writing)"
   ]
  },
  {
   "cell_type": "code",
   "execution_count": 242,
   "id": "f82bc4d5",
   "metadata": {},
   "outputs": [
    {
     "data": {
      "image/png": "[encoded data removed]",
      "text/plain": [
       "<Figure size 432x288 with 1 Axes>"
      ]
     },
     "metadata": {
      "needs_background": "light"
     },
     "output_type": "display_data"
    }
   ],
   "source": [
    "scores.plot(kind='scatter',\n",
    "            x='Reading',\n",
    "            y='Writing'\n",
    "           );"
   ]
  },
  {
   "cell_type": "code",
   "execution_count": 243,
   "id": "5a3922a0",
   "metadata": {},
   "outputs": [
    {
     "data": {
      "text/plain": [
       "0.9854389581058105"
      ]
     },
     "execution_count": 243,
     "metadata": {},
     "output_type": "execute_result"
    }
   ],
   "source": [
    "Reading.corr(Writing)"
   ]
  },
  {
   "cell_type": "code",
   "execution_count": 244,
   "id": "a9b5b587",
   "metadata": {},
   "outputs": [
    {
     "data": {
      "image/png": "[encoded data removed]",
      "text/plain": [
       "<Figure size 432x288 with 1 Axes>"
      ]
     },
     "metadata": {
      "needs_background": "light"
     },
     "output_type": "display_data"
    }
   ],
   "source": [
    "scores.plot(kind='scatter',\n",
    "            x='Reading',\n",
    "            y='Math'\n",
    "           );"
   ]
  },
  {
   "cell_type": "code",
   "execution_count": 245,
   "id": "477713ac",
   "metadata": {},
   "outputs": [
    {
     "data": {
      "text/plain": [
       "0.9282390476055351"
      ]
     },
     "execution_count": 245,
     "metadata": {},
     "output_type": "execute_result"
    }
   ],
   "source": [
    "Reading.corr(math)"
   ]
  },
  {
   "cell_type": "code",
   "execution_count": null,
   "id": "1deac166",
   "metadata": {},
   "outputs": [],
   "source": []
  }
 ],
 "metadata": {
  "kernelspec": {
   "display_name": "Python 3 (ipykernel)",
   "language": "python",
   "name": "python3"
  },
  "language_info": {
   "codemirror_mode": {
    "name": "ipython",
    "version": 3
   },
   "file_extension": ".py",
   "mimetype": "text/x-python",
   "name": "python",
   "nbconvert_exporter": "python",
   "pygments_lexer": "ipython3",
   "version": "3.9.12"
  }
 },
 "nbformat": 4,
 "nbformat_minor": 5
}
