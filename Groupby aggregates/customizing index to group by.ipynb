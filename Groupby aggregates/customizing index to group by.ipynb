{
 "cells": [
  {
   "cell_type": "code",
   "execution_count": 1,
   "id": "7ff8829c",
   "metadata": {},
   "outputs": [],
   "source": [
    "import numpy as np\n",
    "import pandas as pd"
   ]
  },
  {
   "cell_type": "code",
   "execution_count": 68,
   "id": "b788128d",
   "metadata": {},
   "outputs": [],
   "source": [
    "sales_url = 'https://andybek.com/pandas-games'"
   ]
  },
  {
   "cell_type": "code",
   "execution_count": 69,
   "id": "cae9c7ef",
   "metadata": {},
   "outputs": [
    {
     "data": {
      "text/html": [
       "<div>\n",
       "<style scoped>\n",
       "    .dataframe tbody tr th:only-of-type {\n",
       "        vertical-align: middle;\n",
       "    }\n",
       "\n",
       "    .dataframe tbody tr th {\n",
       "        vertical-align: top;\n",
       "    }\n",
       "\n",
       "    .dataframe thead th {\n",
       "        text-align: right;\n",
       "    }\n",
       "</style>\n",
       "<table border=\"1\" class=\"dataframe\">\n",
       "  <thead>\n",
       "    <tr style=\"text-align: right;\">\n",
       "      <th></th>\n",
       "      <th>Name</th>\n",
       "      <th>Platform</th>\n",
       "      <th>Year</th>\n",
       "      <th>Genre</th>\n",
       "      <th>Publisher</th>\n",
       "      <th>NA_Sales</th>\n",
       "      <th>EU_Sales</th>\n",
       "      <th>JP_Sales</th>\n",
       "      <th>Other_Sales</th>\n",
       "      <th>Global_Sales</th>\n",
       "    </tr>\n",
       "  </thead>\n",
       "  <tbody>\n",
       "    <tr>\n",
       "      <th>0</th>\n",
       "      <td>Kinect Adventures!</td>\n",
       "      <td>X360</td>\n",
       "      <td>2010.0</td>\n",
       "      <td>Misc</td>\n",
       "      <td>Microsoft Game Studios</td>\n",
       "      <td>14.97</td>\n",
       "      <td>4.94</td>\n",
       "      <td>0.24</td>\n",
       "      <td>1.67</td>\n",
       "      <td>21.82</td>\n",
       "    </tr>\n",
       "    <tr>\n",
       "      <th>1</th>\n",
       "      <td>Grand Theft Auto V</td>\n",
       "      <td>PS3</td>\n",
       "      <td>2013.0</td>\n",
       "      <td>Action</td>\n",
       "      <td>Take-Two Interactive</td>\n",
       "      <td>7.01</td>\n",
       "      <td>9.27</td>\n",
       "      <td>0.97</td>\n",
       "      <td>4.14</td>\n",
       "      <td>21.40</td>\n",
       "    </tr>\n",
       "    <tr>\n",
       "      <th>2</th>\n",
       "      <td>Grand Theft Auto V</td>\n",
       "      <td>X360</td>\n",
       "      <td>2013.0</td>\n",
       "      <td>Action</td>\n",
       "      <td>Take-Two Interactive</td>\n",
       "      <td>9.63</td>\n",
       "      <td>5.31</td>\n",
       "      <td>0.06</td>\n",
       "      <td>1.38</td>\n",
       "      <td>16.38</td>\n",
       "    </tr>\n",
       "    <tr>\n",
       "      <th>3</th>\n",
       "      <td>Call of Duty: Modern Warfare 3</td>\n",
       "      <td>X360</td>\n",
       "      <td>2011.0</td>\n",
       "      <td>Shooter</td>\n",
       "      <td>Activision</td>\n",
       "      <td>9.03</td>\n",
       "      <td>4.28</td>\n",
       "      <td>0.13</td>\n",
       "      <td>1.32</td>\n",
       "      <td>14.76</td>\n",
       "    </tr>\n",
       "    <tr>\n",
       "      <th>4</th>\n",
       "      <td>Call of Duty: Black Ops</td>\n",
       "      <td>X360</td>\n",
       "      <td>2010.0</td>\n",
       "      <td>Shooter</td>\n",
       "      <td>Activision</td>\n",
       "      <td>9.67</td>\n",
       "      <td>3.73</td>\n",
       "      <td>0.11</td>\n",
       "      <td>1.13</td>\n",
       "      <td>14.64</td>\n",
       "    </tr>\n",
       "  </tbody>\n",
       "</table>\n",
       "</div>"
      ],
      "text/plain": [
       "                             Name Platform    Year    Genre  \\\n",
       "0              Kinect Adventures!     X360  2010.0     Misc   \n",
       "1              Grand Theft Auto V      PS3  2013.0   Action   \n",
       "2              Grand Theft Auto V     X360  2013.0   Action   \n",
       "3  Call of Duty: Modern Warfare 3     X360  2011.0  Shooter   \n",
       "4         Call of Duty: Black Ops     X360  2010.0  Shooter   \n",
       "\n",
       "                Publisher  NA_Sales  EU_Sales  JP_Sales  Other_Sales  \\\n",
       "0  Microsoft Game Studios     14.97      4.94      0.24         1.67   \n",
       "1    Take-Two Interactive      7.01      9.27      0.97         4.14   \n",
       "2    Take-Two Interactive      9.63      5.31      0.06         1.38   \n",
       "3              Activision      9.03      4.28      0.13         1.32   \n",
       "4              Activision      9.67      3.73      0.11         1.13   \n",
       "\n",
       "   Global_Sales  \n",
       "0         21.82  \n",
       "1         21.40  \n",
       "2         16.38  \n",
       "3         14.76  \n",
       "4         14.64  "
      ]
     },
     "execution_count": 69,
     "metadata": {},
     "output_type": "execute_result"
    }
   ],
   "source": [
    "games.head()"
   ]
  },
  {
   "cell_type": "code",
   "execution_count": 87,
   "id": "a70f5eb7",
   "metadata": {},
   "outputs": [
    {
     "data": {
      "text/plain": [
       "Name            .hack: Sekai no Mukou ni + Versus\n",
       "Global_Sales                                 0.01\n",
       "dtype: object"
      ]
     },
     "execution_count": 87,
     "metadata": {},
     "output_type": "execute_result"
    }
   ],
   "source": [
    " games.loc[:,['Name', 'Global_Sales']].drop_duplicates().min()"
   ]
  },
  {
   "cell_type": "code",
   "execution_count": 91,
   "id": "d696d9ea",
   "metadata": {},
   "outputs": [
    {
     "data": {
      "text/html": [
       "<div>\n",
       "<style scoped>\n",
       "    .dataframe tbody tr th:only-of-type {\n",
       "        vertical-align: middle;\n",
       "    }\n",
       "\n",
       "    .dataframe tbody tr th {\n",
       "        vertical-align: top;\n",
       "    }\n",
       "\n",
       "    .dataframe thead th {\n",
       "        text-align: right;\n",
       "    }\n",
       "</style>\n",
       "<table border=\"1\" class=\"dataframe\">\n",
       "  <thead>\n",
       "    <tr style=\"text-align: right;\">\n",
       "      <th></th>\n",
       "      <th>Year</th>\n",
       "      <th>NA_Sales</th>\n",
       "      <th>EU_Sales</th>\n",
       "      <th>JP_Sales</th>\n",
       "      <th>Other_Sales</th>\n",
       "      <th>Global_Sales</th>\n",
       "    </tr>\n",
       "    <tr>\n",
       "      <th>Platform</th>\n",
       "      <th></th>\n",
       "      <th></th>\n",
       "      <th></th>\n",
       "      <th></th>\n",
       "      <th></th>\n",
       "      <th></th>\n",
       "    </tr>\n",
       "  </thead>\n",
       "  <tbody>\n",
       "    <tr>\n",
       "      <th>PS3</th>\n",
       "      <td>2622109.0</td>\n",
       "      <td>392.26</td>\n",
       "      <td>343.71</td>\n",
       "      <td>79.99</td>\n",
       "      <td>141.93</td>\n",
       "      <td>957.84</td>\n",
       "    </tr>\n",
       "    <tr>\n",
       "      <th>PS4</th>\n",
       "      <td>677042.0</td>\n",
       "      <td>96.80</td>\n",
       "      <td>123.70</td>\n",
       "      <td>14.30</td>\n",
       "      <td>43.36</td>\n",
       "      <td>278.10</td>\n",
       "    </tr>\n",
       "    <tr>\n",
       "      <th>X360</th>\n",
       "      <td>2482205.0</td>\n",
       "      <td>601.05</td>\n",
       "      <td>280.58</td>\n",
       "      <td>12.43</td>\n",
       "      <td>85.54</td>\n",
       "      <td>979.96</td>\n",
       "    </tr>\n",
       "    <tr>\n",
       "      <th>XOne</th>\n",
       "      <td>429150.0</td>\n",
       "      <td>83.19</td>\n",
       "      <td>45.65</td>\n",
       "      <td>0.34</td>\n",
       "      <td>11.92</td>\n",
       "      <td>141.06</td>\n",
       "    </tr>\n",
       "  </tbody>\n",
       "</table>\n",
       "</div>"
      ],
      "text/plain": [
       "               Year  NA_Sales  EU_Sales  JP_Sales  Other_Sales  Global_Sales\n",
       "Platform                                                                    \n",
       "PS3       2622109.0    392.26    343.71     79.99       141.93        957.84\n",
       "PS4        677042.0     96.80    123.70     14.30        43.36        278.10\n",
       "X360      2482205.0    601.05    280.58     12.43        85.54        979.96\n",
       "XOne       429150.0     83.19     45.65      0.34        11.92        141.06"
      ]
     },
     "execution_count": 91,
     "metadata": {},
     "output_type": "execute_result"
    }
   ],
   "source": [
    "games.groupby('Platform').sum()"
   ]
  },
  {
   "cell_type": "code",
   "execution_count": 93,
   "id": "fcda7ab3",
   "metadata": {},
   "outputs": [
    {
     "data": {
      "text/plain": [
       "array(['X360', 'PS3', 'PS4', 'XOne'], dtype=object)"
      ]
     },
     "execution_count": 93,
     "metadata": {},
     "output_type": "execute_result"
    }
   ],
   "source": [
    "sales.Platform.unique()"
   ]
  },
  {
   "cell_type": "code",
   "execution_count": 101,
   "id": "cf17c47b",
   "metadata": {},
   "outputs": [],
   "source": [
    "platform_names = {\n",
    "    'PS3':'PlayStation3',\n",
    "    'PS4':'Playstation4',\n",
    "    'X360':'Xbox',\n",
    "    'XOne':'Xbox'\n",
    "}"
   ]
  },
  {
   "cell_type": "code",
   "execution_count": 102,
   "id": "42d9ceb9",
   "metadata": {},
   "outputs": [
    {
     "data": {
      "text/plain": [
       "{'PS3': 'PlayStation3', 'PS4': 'Playstation4', 'X360': 'Xbox', 'XOne': 'Xbox'}"
      ]
     },
     "execution_count": 102,
     "metadata": {},
     "output_type": "execute_result"
    }
   ],
   "source": [
    "platform_names\n"
   ]
  },
  {
   "cell_type": "code",
   "execution_count": 103,
   "id": "f85989dd",
   "metadata": {},
   "outputs": [
    {
     "data": {
      "text/html": [
       "<div>\n",
       "<style scoped>\n",
       "    .dataframe tbody tr th:only-of-type {\n",
       "        vertical-align: middle;\n",
       "    }\n",
       "\n",
       "    .dataframe tbody tr th {\n",
       "        vertical-align: top;\n",
       "    }\n",
       "\n",
       "    .dataframe thead th {\n",
       "        text-align: right;\n",
       "    }\n",
       "</style>\n",
       "<table border=\"1\" class=\"dataframe\">\n",
       "  <thead>\n",
       "    <tr style=\"text-align: right;\">\n",
       "      <th></th>\n",
       "      <th>Year</th>\n",
       "      <th>NA_Sales</th>\n",
       "      <th>EU_Sales</th>\n",
       "      <th>JP_Sales</th>\n",
       "      <th>Other_Sales</th>\n",
       "      <th>Global_Sales</th>\n",
       "    </tr>\n",
       "    <tr>\n",
       "      <th>Platform</th>\n",
       "      <th></th>\n",
       "      <th></th>\n",
       "      <th></th>\n",
       "      <th></th>\n",
       "      <th></th>\n",
       "      <th></th>\n",
       "    </tr>\n",
       "  </thead>\n",
       "  <tbody>\n",
       "    <tr>\n",
       "      <th>PlayStation3</th>\n",
       "      <td>2622109.0</td>\n",
       "      <td>392.26</td>\n",
       "      <td>343.71</td>\n",
       "      <td>79.99</td>\n",
       "      <td>141.93</td>\n",
       "      <td>957.84</td>\n",
       "    </tr>\n",
       "    <tr>\n",
       "      <th>Playstation4</th>\n",
       "      <td>677042.0</td>\n",
       "      <td>96.80</td>\n",
       "      <td>123.70</td>\n",
       "      <td>14.30</td>\n",
       "      <td>43.36</td>\n",
       "      <td>278.10</td>\n",
       "    </tr>\n",
       "    <tr>\n",
       "      <th>Xbox</th>\n",
       "      <td>2911355.0</td>\n",
       "      <td>684.24</td>\n",
       "      <td>326.23</td>\n",
       "      <td>12.77</td>\n",
       "      <td>97.46</td>\n",
       "      <td>1121.02</td>\n",
       "    </tr>\n",
       "  </tbody>\n",
       "</table>\n",
       "</div>"
      ],
      "text/plain": [
       "                   Year  NA_Sales  EU_Sales  JP_Sales  Other_Sales  \\\n",
       "Platform                                                             \n",
       "PlayStation3  2622109.0    392.26    343.71     79.99       141.93   \n",
       "Playstation4   677042.0     96.80    123.70     14.30        43.36   \n",
       "Xbox          2911355.0    684.24    326.23     12.77        97.46   \n",
       "\n",
       "              Global_Sales  \n",
       "Platform                    \n",
       "PlayStation3        957.84  \n",
       "Playstation4        278.10  \n",
       "Xbox               1121.02  "
      ]
     },
     "execution_count": 103,
     "metadata": {},
     "output_type": "execute_result"
    }
   ],
   "source": [
    "games.set_index('Platform').groupby(platform_names).sum()"
   ]
  },
  {
   "cell_type": "code",
   "execution_count": 104,
   "id": "db95ac38",
   "metadata": {},
   "outputs": [
    {
     "data": {
      "text/plain": [
       "array(['X360', 'PS3', 'PS4', 'XOne'], dtype=object)"
      ]
     },
     "execution_count": 104,
     "metadata": {},
     "output_type": "execute_result"
    }
   ],
   "source": [
    "games.Platform.unique()"
   ]
  },
  {
   "cell_type": "code",
   "execution_count": null,
   "id": "f4dd4562",
   "metadata": {},
   "outputs": [],
   "source": []
  },
  {
   "cell_type": "code",
   "execution_count": null,
   "id": "4ca9367c",
   "metadata": {},
   "outputs": [],
   "source": []
  }
 ],
 "metadata": {
  "kernelspec": {
   "display_name": "Python 3 (ipykernel)",
   "language": "python",
   "name": "python3"
  },
  "language_info": {
   "codemirror_mode": {
    "name": "ipython",
    "version": 3
   },
   "file_extension": ".py",
   "mimetype": "text/x-python",
   "name": "python",
   "nbconvert_exporter": "python",
   "pygments_lexer": "ipython3",
   "version": "3.9.12"
  }
 },
 "nbformat": 4,
 "nbformat_minor": 5
}
