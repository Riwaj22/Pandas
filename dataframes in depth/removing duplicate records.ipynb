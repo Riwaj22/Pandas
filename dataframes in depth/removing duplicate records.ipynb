{
 "cells": [
  {
   "cell_type": "code",
   "execution_count": 1,
   "id": "11425eff",
   "metadata": {},
   "outputs": [],
   "source": [
    "import numpy as np"
   ]
  },
  {
   "cell_type": "code",
   "execution_count": 2,
   "id": "d7ec11f9",
   "metadata": {},
   "outputs": [],
   "source": [
    "import pandas as pd"
   ]
  },
  {
   "cell_type": "code",
   "execution_count": 19,
   "id": "5095c853",
   "metadata": {},
   "outputs": [],
   "source": [
    "players = pd.read_csv(r\"C:\\Users\\97798\\Desktop\\Pandas\\dataframes in depth\\soccer.csv\")"
   ]
  },
  {
   "cell_type": "code",
   "execution_count": 24,
   "id": "20341887",
   "metadata": {},
   "outputs": [
    {
     "data": {
      "text/html": [
       "<div>\n",
       "<style scoped>\n",
       "    .dataframe tbody tr th:only-of-type {\n",
       "        vertical-align: middle;\n",
       "    }\n",
       "\n",
       "    .dataframe tbody tr th {\n",
       "        vertical-align: top;\n",
       "    }\n",
       "\n",
       "    .dataframe thead th {\n",
       "        text-align: right;\n",
       "    }\n",
       "</style>\n",
       "<table border=\"1\" class=\"dataframe\">\n",
       "  <thead>\n",
       "    <tr style=\"text-align: right;\">\n",
       "      <th></th>\n",
       "      <th>name</th>\n",
       "      <th>club</th>\n",
       "      <th>age</th>\n",
       "      <th>position</th>\n",
       "      <th>position_cat</th>\n",
       "      <th>market_value</th>\n",
       "      <th>page_views</th>\n",
       "      <th>fpl_value</th>\n",
       "      <th>fpl_sel</th>\n",
       "      <th>fpl_points</th>\n",
       "      <th>region</th>\n",
       "      <th>nationality</th>\n",
       "      <th>new_foreign</th>\n",
       "      <th>age_cat</th>\n",
       "      <th>club_id</th>\n",
       "      <th>big_club</th>\n",
       "      <th>new_signing</th>\n",
       "    </tr>\n",
       "  </thead>\n",
       "  <tbody>\n",
       "    <tr>\n",
       "      <th>11</th>\n",
       "      <td>Granit Xhaka</td>\n",
       "      <td>Arsenal</td>\n",
       "      <td>24</td>\n",
       "      <td>DM</td>\n",
       "      <td>2</td>\n",
       "      <td>35.0</td>\n",
       "      <td>1815</td>\n",
       "      <td>5.5</td>\n",
       "      <td>2.00%</td>\n",
       "      <td>85</td>\n",
       "      <td>2</td>\n",
       "      <td>Switzerland</td>\n",
       "      <td>0</td>\n",
       "      <td>2</td>\n",
       "      <td>1</td>\n",
       "      <td>1</td>\n",
       "      <td>0</td>\n",
       "    </tr>\n",
       "    <tr>\n",
       "      <th>13</th>\n",
       "      <td>Alex Oxlade-Chamberlain</td>\n",
       "      <td>Arsenal</td>\n",
       "      <td>23</td>\n",
       "      <td>RM</td>\n",
       "      <td>2</td>\n",
       "      <td>22.0</td>\n",
       "      <td>1519</td>\n",
       "      <td>6.0</td>\n",
       "      <td>1.80%</td>\n",
       "      <td>83</td>\n",
       "      <td>1</td>\n",
       "      <td>England</td>\n",
       "      <td>0</td>\n",
       "      <td>2</td>\n",
       "      <td>1</td>\n",
       "      <td>1</td>\n",
       "      <td>0</td>\n",
       "    </tr>\n",
       "    <tr>\n",
       "      <th>23</th>\n",
       "      <td>Alex Oxlade-Chamberlain</td>\n",
       "      <td>Arsenal</td>\n",
       "      <td>23</td>\n",
       "      <td>RM</td>\n",
       "      <td>2</td>\n",
       "      <td>22.0</td>\n",
       "      <td>1519</td>\n",
       "      <td>6.0</td>\n",
       "      <td>1.80%</td>\n",
       "      <td>83</td>\n",
       "      <td>1</td>\n",
       "      <td>England</td>\n",
       "      <td>0</td>\n",
       "      <td>2</td>\n",
       "      <td>1</td>\n",
       "      <td>1</td>\n",
       "      <td>0</td>\n",
       "    </tr>\n",
       "  </tbody>\n",
       "</table>\n",
       "</div>"
      ],
      "text/plain": [
       "                       name     club  age position  position_cat  \\\n",
       "11             Granit Xhaka  Arsenal   24       DM             2   \n",
       "13  Alex Oxlade-Chamberlain  Arsenal   23       RM             2   \n",
       "23  Alex Oxlade-Chamberlain  Arsenal   23       RM             2   \n",
       "\n",
       "    market_value  page_views  fpl_value fpl_sel  fpl_points  region  \\\n",
       "11          35.0        1815        5.5   2.00%          85       2   \n",
       "13          22.0        1519        6.0   1.80%          83       1   \n",
       "23          22.0        1519        6.0   1.80%          83       1   \n",
       "\n",
       "    nationality  new_foreign  age_cat  club_id  big_club  new_signing  \n",
       "11  Switzerland            0        2        1         1            0  \n",
       "13      England            0        2        1         1            0  \n",
       "23      England            0        2        1         1            0  "
      ]
     },
     "execution_count": 24,
     "metadata": {},
     "output_type": "execute_result"
    }
   ],
   "source": [
    "players[players.duplicated(subset = None, keep = 'first')]"
   ]
  },
  {
   "cell_type": "code",
   "execution_count": 23,
   "id": "5a08a2c8",
   "metadata": {},
   "outputs": [
    {
     "data": {
      "text/plain": [
       "11.125649350649349"
      ]
     },
     "execution_count": 23,
     "metadata": {},
     "output_type": "execute_result"
    }
   ],
   "source": [
    "players.market_value.mean()"
   ]
  },
  {
   "cell_type": "code",
   "execution_count": 29,
   "id": "192dc8fa",
   "metadata": {},
   "outputs": [
    {
     "data": {
      "text/plain": [
       "11.026252723311545"
      ]
     },
     "execution_count": 29,
     "metadata": {},
     "output_type": "execute_result"
    }
   ],
   "source": [
    "players.drop_duplicates(keep = 'first').market_value.mean()"
   ]
  },
  {
   "cell_type": "code",
   "execution_count": null,
   "id": "a2bb74ca",
   "metadata": {},
   "outputs": [],
   "source": []
  }
 ],
 "metadata": {
  "kernelspec": {
   "display_name": "Python 3 (ipykernel)",
   "language": "python",
   "name": "python3"
  },
  "language_info": {
   "codemirror_mode": {
    "name": "ipython",
    "version": 3
   },
   "file_extension": ".py",
   "mimetype": "text/x-python",
   "name": "python",
   "nbconvert_exporter": "python",
   "pygments_lexer": "ipython3",
   "version": "3.9.12"
  }
 },
 "nbformat": 4,
 "nbformat_minor": 5
}
