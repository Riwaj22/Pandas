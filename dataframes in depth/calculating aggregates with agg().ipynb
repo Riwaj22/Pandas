{
 "cells": [
  {
   "cell_type": "code",
   "execution_count": 1,
   "id": "a67f2cdf",
   "metadata": {},
   "outputs": [],
   "source": [
    "import numpy as np"
   ]
  },
  {
   "cell_type": "code",
   "execution_count": 2,
   "id": "0c590c90",
   "metadata": {},
   "outputs": [],
   "source": [
    "import pandas as pd"
   ]
  },
  {
   "cell_type": "code",
   "execution_count": 44,
   "id": "d96385ee",
   "metadata": {},
   "outputs": [],
   "source": [
    "players = pd.read_csv(r\"C:\\Users\\97798\\Desktop\\Pandas\\dataframes in depth\\soccer.csv\")"
   ]
  },
  {
   "cell_type": "code",
   "execution_count": 108,
   "id": "b7016d15",
   "metadata": {},
   "outputs": [
    {
     "data": {
      "text/html": [
       "<div>\n",
       "<style scoped>\n",
       "    .dataframe tbody tr th:only-of-type {\n",
       "        vertical-align: middle;\n",
       "    }\n",
       "\n",
       "    .dataframe tbody tr th {\n",
       "        vertical-align: top;\n",
       "    }\n",
       "\n",
       "    .dataframe thead th {\n",
       "        text-align: right;\n",
       "    }\n",
       "</style>\n",
       "<table border=\"1\" class=\"dataframe\">\n",
       "  <thead>\n",
       "    <tr style=\"text-align: right;\">\n",
       "      <th></th>\n",
       "      <th>name</th>\n",
       "      <th>club</th>\n",
       "      <th>age</th>\n",
       "      <th>position</th>\n",
       "      <th>position_cat</th>\n",
       "      <th>market_value</th>\n",
       "      <th>page_views</th>\n",
       "      <th>fpl_value</th>\n",
       "      <th>fpl_sel</th>\n",
       "      <th>fpl_points</th>\n",
       "      <th>region</th>\n",
       "      <th>nationality</th>\n",
       "      <th>new_foreign</th>\n",
       "      <th>age_cat</th>\n",
       "      <th>club_id</th>\n",
       "      <th>big_club</th>\n",
       "      <th>new_signing</th>\n",
       "    </tr>\n",
       "  </thead>\n",
       "  <tbody>\n",
       "    <tr>\n",
       "      <th>0</th>\n",
       "      <td>Alexis Sanchez</td>\n",
       "      <td>Arsenal</td>\n",
       "      <td>28</td>\n",
       "      <td>LW</td>\n",
       "      <td>1</td>\n",
       "      <td>65.0</td>\n",
       "      <td>4329</td>\n",
       "      <td>12.0</td>\n",
       "      <td>17.10%</td>\n",
       "      <td>264</td>\n",
       "      <td>3</td>\n",
       "      <td>Chile</td>\n",
       "      <td>0</td>\n",
       "      <td>4</td>\n",
       "      <td>1</td>\n",
       "      <td>1</td>\n",
       "      <td>0</td>\n",
       "    </tr>\n",
       "    <tr>\n",
       "      <th>1</th>\n",
       "      <td>Mesut Ozil</td>\n",
       "      <td>Arsenal</td>\n",
       "      <td>28</td>\n",
       "      <td>AM</td>\n",
       "      <td>1</td>\n",
       "      <td>50.0</td>\n",
       "      <td>4395</td>\n",
       "      <td>9.5</td>\n",
       "      <td>5.60%</td>\n",
       "      <td>167</td>\n",
       "      <td>2</td>\n",
       "      <td>Germany</td>\n",
       "      <td>0</td>\n",
       "      <td>4</td>\n",
       "      <td>1</td>\n",
       "      <td>1</td>\n",
       "      <td>0</td>\n",
       "    </tr>\n",
       "    <tr>\n",
       "      <th>2</th>\n",
       "      <td>Petr Cech</td>\n",
       "      <td>Arsenal</td>\n",
       "      <td>35</td>\n",
       "      <td>GK</td>\n",
       "      <td>4</td>\n",
       "      <td>7.0</td>\n",
       "      <td>1529</td>\n",
       "      <td>5.5</td>\n",
       "      <td>5.90%</td>\n",
       "      <td>134</td>\n",
       "      <td>2</td>\n",
       "      <td>Czech Republic</td>\n",
       "      <td>0</td>\n",
       "      <td>6</td>\n",
       "      <td>1</td>\n",
       "      <td>1</td>\n",
       "      <td>0</td>\n",
       "    </tr>\n",
       "    <tr>\n",
       "      <th>3</th>\n",
       "      <td>Theo Walcott</td>\n",
       "      <td>Arsenal</td>\n",
       "      <td>28</td>\n",
       "      <td>RW</td>\n",
       "      <td>1</td>\n",
       "      <td>20.0</td>\n",
       "      <td>2393</td>\n",
       "      <td>7.5</td>\n",
       "      <td>1.50%</td>\n",
       "      <td>122</td>\n",
       "      <td>1</td>\n",
       "      <td>England</td>\n",
       "      <td>0</td>\n",
       "      <td>4</td>\n",
       "      <td>1</td>\n",
       "      <td>1</td>\n",
       "      <td>0</td>\n",
       "    </tr>\n",
       "    <tr>\n",
       "      <th>4</th>\n",
       "      <td>Laurent Koscielny</td>\n",
       "      <td>Arsenal</td>\n",
       "      <td>31</td>\n",
       "      <td>CB</td>\n",
       "      <td>3</td>\n",
       "      <td>22.0</td>\n",
       "      <td>912</td>\n",
       "      <td>6.0</td>\n",
       "      <td>0.70%</td>\n",
       "      <td>121</td>\n",
       "      <td>2</td>\n",
       "      <td>France</td>\n",
       "      <td>0</td>\n",
       "      <td>4</td>\n",
       "      <td>1</td>\n",
       "      <td>1</td>\n",
       "      <td>0</td>\n",
       "    </tr>\n",
       "  </tbody>\n",
       "</table>\n",
       "</div>"
      ],
      "text/plain": [
       "                name     club  age position  position_cat  market_value  \\\n",
       "0     Alexis Sanchez  Arsenal   28       LW             1          65.0   \n",
       "1         Mesut Ozil  Arsenal   28       AM             1          50.0   \n",
       "2          Petr Cech  Arsenal   35       GK             4           7.0   \n",
       "3       Theo Walcott  Arsenal   28       RW             1          20.0   \n",
       "4  Laurent Koscielny  Arsenal   31       CB             3          22.0   \n",
       "\n",
       "   page_views  fpl_value fpl_sel  fpl_points  region     nationality  \\\n",
       "0        4329       12.0  17.10%         264       3           Chile   \n",
       "1        4395        9.5   5.60%         167       2         Germany   \n",
       "2        1529        5.5   5.90%         134       2  Czech Republic   \n",
       "3        2393        7.5   1.50%         122       1         England   \n",
       "4         912        6.0   0.70%         121       2          France   \n",
       "\n",
       "   new_foreign  age_cat  club_id  big_club  new_signing  \n",
       "0            0        4        1         1            0  \n",
       "1            0        4        1         1            0  \n",
       "2            0        6        1         1            0  \n",
       "3            0        4        1         1            0  \n",
       "4            0        4        1         1            0  "
      ]
     },
     "execution_count": 108,
     "metadata": {},
     "output_type": "execute_result"
    }
   ],
   "source": [
    "players.head()"
   ]
  },
  {
   "cell_type": "code",
   "execution_count": 109,
   "id": "9a8ac7ab",
   "metadata": {},
   "outputs": [
    {
     "name": "stderr",
     "output_type": "stream",
     "text": [
      "C:\\Users\\97798\\AppData\\Local\\Temp\\ipykernel_14484\\3820880281.py:1: FutureWarning: Dropping of nuisance columns in DataFrame reductions (with 'numeric_only=None') is deprecated; in a future version this will raise TypeError.  Select only valid columns before calling the reduction.\n",
      "  players.agg('mean')\n"
     ]
    },
    {
     "data": {
      "text/plain": [
       "age              26.776344\n",
       "position_cat      2.178495\n",
       "market_value     11.125649\n",
       "page_views      771.546237\n",
       "fpl_value         5.450538\n",
       "fpl_points       57.544086\n",
       "region            1.989247\n",
       "new_foreign       0.034409\n",
       "age_cat           3.195699\n",
       "club_id          10.253763\n",
       "big_club          0.309677\n",
       "new_signing       0.144086\n",
       "dtype: float64"
      ]
     },
     "execution_count": 109,
     "metadata": {},
     "output_type": "execute_result"
    }
   ],
   "source": [
    "players.agg('mean')"
   ]
  },
  {
   "cell_type": "code",
   "execution_count": 110,
   "id": "0e62bc10",
   "metadata": {},
   "outputs": [
    {
     "data": {
      "text/plain": [
       "0.14408602150537633"
      ]
     },
     "execution_count": 110,
     "metadata": {},
     "output_type": "execute_result"
    }
   ],
   "source": [
    "players.new_signing.mean()"
   ]
  },
  {
   "cell_type": "code",
   "execution_count": 111,
   "id": "a573bc38",
   "metadata": {},
   "outputs": [
    {
     "ename": "TypeError",
     "evalue": "Could not convert ArsenalArsenalArsenalArsenalArsenalArsenalArsenalArsenalArsenalArsenalArsenalArsenalArsenalArsenalArsenalArsenalArsenalArsenalArsenalArsenalArsenalArsenalArsenalArsenalArsenalArsenalArsenalArsenalArsenalArsenalArsenalArsenalBournemouthBournemouthBournemouthBournemouthBournemouthBournemouthBournemouthBournemouthBournemouthBournemouthBournemouthBournemouthBournemouthBournemouthBournemouthBournemouthBournemouthBournemouthBournemouthBournemouthBournemouthBournemouthBournemouthBournemouthBrighton+and+HoveBrighton+and+HoveBrighton+and+HoveBrighton+and+HoveBrighton+and+HoveBrighton+and+HoveBrighton+and+HoveBrighton+and+HoveBrighton+and+HoveBrighton+and+HoveBrighton+and+HoveBrighton+and+HoveBrighton+and+HoveBrighton+and+HoveBrighton+and+HoveBrighton+and+HoveBrighton+and+HoveBrighton+and+HoveBrighton+and+HoveBrighton+and+HoveBrighton+and+HoveBrighton+and+HoveBurnleyBurnleyBurnleyBurnleyBurnleyBurnleyBurnleyBurnleyBurnleyBurnleyBurnleyBurnleyBurnleyBurnleyBurnleyBurnleyBurnleyBurnleyChelseaChelseaChelseaChelseaChelseaChelseaChelseaChelseaChelseaChelseaChelseaChelseaChelseaChelseaChelseaChelseaChelseaChelseaChelseaChelseaCrystal+PalaceCrystal+PalaceCrystal+PalaceCrystal+PalaceCrystal+PalaceCrystal+PalaceCrystal+PalaceCrystal+PalaceCrystal+PalaceCrystal+PalaceCrystal+PalaceCrystal+PalaceCrystal+PalaceCrystal+PalaceCrystal+PalaceCrystal+PalaceCrystal+PalaceCrystal+PalaceCrystal+PalaceCrystal+PalaceCrystal+PalaceEvertonEvertonEvertonEvertonEvertonEvertonEvertonEvertonEvertonEvertonEvertonEvertonEvertonEvertonEvertonEvertonEvertonEvertonEvertonEvertonEvertonEvertonEvertonEvertonEvertonEvertonEvertonEvertonHuddersfieldHuddersfieldHuddersfieldHuddersfieldHuddersfieldHuddersfieldHuddersfieldHuddersfieldHuddersfieldHuddersfieldHuddersfieldHuddersfieldHuddersfieldHuddersfieldHuddersfieldHuddersfieldHuddersfieldHuddersfieldHuddersfieldHuddersfieldHuddersfieldHuddersfieldHuddersfieldHuddersfieldHuddersfieldHuddersfieldHuddersfieldHuddersfieldLeicester+CityLeicester+CityLeicester+CityLeicester+CityLeicester+CityLeicester+CityLeicester+CityLeicester+CityLeicester+CityLeicester+CityLeicester+CityLeicester+CityLeicester+CityLeicester+CityLeicester+CityLeicester+CityLeicester+CityLeicester+CityLeicester+CityLeicester+CityLeicester+CityLeicester+CityLeicester+CityLeicester+CityLiverpoolLiverpoolLiverpoolLiverpoolLiverpoolLiverpoolLiverpoolLiverpoolLiverpoolLiverpoolLiverpoolLiverpoolLiverpoolLiverpoolLiverpoolLiverpoolLiverpoolLiverpoolLiverpoolLiverpoolLiverpoolLiverpoolLiverpoolLiverpoolLiverpoolLiverpoolLiverpoolManchester+CityManchester+CityManchester+CityManchester+CityManchester+CityManchester+CityManchester+CityManchester+CityManchester+CityManchester+CityManchester+CityManchester+CityManchester+CityManchester+CityManchester+CityManchester+CityManchester+CityManchester+CityManchester+CityManchester+CityManchester+UnitedManchester+UnitedManchester+UnitedManchester+UnitedManchester+UnitedManchester+UnitedManchester+UnitedManchester+UnitedManchester+UnitedManchester+UnitedManchester+UnitedManchester+UnitedManchester+UnitedManchester+UnitedManchester+UnitedManchester+UnitedManchester+UnitedManchester+UnitedManchester+UnitedManchester+UnitedManchester+UnitedManchester+UnitedManchester+UnitedManchester+UnitedManchester+UnitedNewcastle+UnitedNewcastle+UnitedNewcastle+UnitedNewcastle+UnitedNewcastle+UnitedNewcastle+UnitedNewcastle+UnitedNewcastle+UnitedNewcastle+UnitedNewcastle+UnitedNewcastle+UnitedNewcastle+UnitedNewcastle+UnitedNewcastle+UnitedNewcastle+UnitedNewcastle+UnitedNewcastle+UnitedNewcastle+UnitedNewcastle+UnitedNewcastle+UnitedNewcastle+UnitedSouthamptonSouthamptonSouthamptonSouthamptonSouthamptonSouthamptonSouthamptonSouthamptonSouthamptonSouthamptonSouthamptonSouthamptonSouthamptonSouthamptonSouthamptonSouthamptonSouthamptonSouthamptonSouthamptonSouthamptonSouthamptonSouthamptonSouthamptonStoke+CityStoke+CityStoke+CityStoke+CityStoke+CityStoke+CityStoke+CityStoke+CityStoke+CityStoke+CityStoke+CityStoke+CityStoke+CityStoke+CityStoke+CityStoke+CityStoke+CityStoke+CityStoke+CityStoke+CityStoke+CityStoke+CitySwanseaSwanseaSwanseaSwanseaSwanseaSwanseaSwanseaSwanseaSwanseaSwanseaSwanseaSwanseaSwanseaSwanseaSwanseaSwanseaSwanseaSwanseaSwanseaSwanseaSwanseaSwanseaSwanseaSwanseaSwanseaTottenhamTottenhamTottenhamTottenhamTottenhamTottenhamTottenhamTottenhamTottenhamTottenhamTottenhamTottenhamTottenhamTottenhamTottenhamTottenhamTottenhamTottenhamTottenhamTottenhamWatfordWatfordWatfordWatfordWatfordWatfordWatfordWatfordWatfordWatfordWatfordWatfordWatfordWatfordWatfordWatfordWatfordWatfordWatfordWatfordWatfordWatfordWatfordWatfordWest+BromWest+BromWest+BromWest+BromWest+BromWest+BromWest+BromWest+BromWest+BromWest+BromWest+BromWest+BromWest+BromWest+BromWest+BromWest+BromWest+BromWest+BromWest+BromWest+HamWest+HamWest+HamWest+HamWest+HamWest+HamWest+HamWest+HamWest+HamWest+HamWest+HamWest+HamWest+HamWest+HamWest+HamWest+HamWest+HamWest+HamWest+HamWest+HamWest+HamWest+Ham to numeric",
     "output_type": "error",
     "traceback": [
      "\u001b[1;31m---------------------------------------------------------------------------\u001b[0m",
      "\u001b[1;31mValueError\u001b[0m                                Traceback (most recent call last)",
      "File \u001b[1;32m~\\anaconda3\\lib\\site-packages\\pandas\\core\\nanops.py:1622\u001b[0m, in \u001b[0;36m_ensure_numeric\u001b[1;34m(x)\u001b[0m\n\u001b[0;32m   1621\u001b[0m \u001b[38;5;28;01mtry\u001b[39;00m:\n\u001b[1;32m-> 1622\u001b[0m     x \u001b[38;5;241m=\u001b[39m \u001b[38;5;28;43mfloat\u001b[39;49m\u001b[43m(\u001b[49m\u001b[43mx\u001b[49m\u001b[43m)\u001b[49m\n\u001b[0;32m   1623\u001b[0m \u001b[38;5;28;01mexcept\u001b[39;00m (\u001b[38;5;167;01mTypeError\u001b[39;00m, \u001b[38;5;167;01mValueError\u001b[39;00m):\n\u001b[0;32m   1624\u001b[0m     \u001b[38;5;66;03m# e.g. \"1+1j\" or \"foo\"\u001b[39;00m\n",
      "\u001b[1;31mValueError\u001b[0m: could not convert string to float: 'ArsenalArsenalArsenalArsenalArsenalArsenalArsenalArsenalArsenalArsenalArsenalArsenalArsenalArsenalArsenalArsenalArsenalArsenalArsenalArsenalArsenalArsenalArsenalArsenalArsenalArsenalArsenalArsenalArsenalArsenalArsenalArsenalBournemouthBournemouthBournemouthBournemouthBournemouthBournemouthBournemouthBournemouthBournemouthBournemouthBournemouthBournemouthBournemouthBournemouthBournemouthBournemouthBournemouthBournemouthBournemouthBournemouthBournemouthBournemouthBournemouthBournemouthBrighton+and+HoveBrighton+and+HoveBrighton+and+HoveBrighton+and+HoveBrighton+and+HoveBrighton+and+HoveBrighton+and+HoveBrighton+and+HoveBrighton+and+HoveBrighton+and+HoveBrighton+and+HoveBrighton+and+HoveBrighton+and+HoveBrighton+and+HoveBrighton+and+HoveBrighton+and+HoveBrighton+and+HoveBrighton+and+HoveBrighton+and+HoveBrighton+and+HoveBrighton+and+HoveBrighton+and+HoveBurnleyBurnleyBurnleyBurnleyBurnleyBurnleyBurnleyBurnleyBurnleyBurnleyBurnleyBurnleyBurnleyBurnleyBurnleyBurnleyBurnleyBurnleyChelseaChelseaChelseaChelseaChelseaChelseaChelseaChelseaChelseaChelseaChelseaChelseaChelseaChelseaChelseaChelseaChelseaChelseaChelseaChelseaCrystal+PalaceCrystal+PalaceCrystal+PalaceCrystal+PalaceCrystal+PalaceCrystal+PalaceCrystal+PalaceCrystal+PalaceCrystal+PalaceCrystal+PalaceCrystal+PalaceCrystal+PalaceCrystal+PalaceCrystal+PalaceCrystal+PalaceCrystal+PalaceCrystal+PalaceCrystal+PalaceCrystal+PalaceCrystal+PalaceCrystal+PalaceEvertonEvertonEvertonEvertonEvertonEvertonEvertonEvertonEvertonEvertonEvertonEvertonEvertonEvertonEvertonEvertonEvertonEvertonEvertonEvertonEvertonEvertonEvertonEvertonEvertonEvertonEvertonEvertonHuddersfieldHuddersfieldHuddersfieldHuddersfieldHuddersfieldHuddersfieldHuddersfieldHuddersfieldHuddersfieldHuddersfieldHuddersfieldHuddersfieldHuddersfieldHuddersfieldHuddersfieldHuddersfieldHuddersfieldHuddersfieldHuddersfieldHuddersfieldHuddersfieldHuddersfieldHuddersfieldHuddersfieldHuddersfieldHuddersfieldHuddersfieldHuddersfieldLeicester+CityLeicester+CityLeicester+CityLeicester+CityLeicester+CityLeicester+CityLeicester+CityLeicester+CityLeicester+CityLeicester+CityLeicester+CityLeicester+CityLeicester+CityLeicester+CityLeicester+CityLeicester+CityLeicester+CityLeicester+CityLeicester+CityLeicester+CityLeicester+CityLeicester+CityLeicester+CityLeicester+CityLiverpoolLiverpoolLiverpoolLiverpoolLiverpoolLiverpoolLiverpoolLiverpoolLiverpoolLiverpoolLiverpoolLiverpoolLiverpoolLiverpoolLiverpoolLiverpoolLiverpoolLiverpoolLiverpoolLiverpoolLiverpoolLiverpoolLiverpoolLiverpoolLiverpoolLiverpoolLiverpoolManchester+CityManchester+CityManchester+CityManchester+CityManchester+CityManchester+CityManchester+CityManchester+CityManchester+CityManchester+CityManchester+CityManchester+CityManchester+CityManchester+CityManchester+CityManchester+CityManchester+CityManchester+CityManchester+CityManchester+CityManchester+UnitedManchester+UnitedManchester+UnitedManchester+UnitedManchester+UnitedManchester+UnitedManchester+UnitedManchester+UnitedManchester+UnitedManchester+UnitedManchester+UnitedManchester+UnitedManchester+UnitedManchester+UnitedManchester+UnitedManchester+UnitedManchester+UnitedManchester+UnitedManchester+UnitedManchester+UnitedManchester+UnitedManchester+UnitedManchester+UnitedManchester+UnitedManchester+UnitedNewcastle+UnitedNewcastle+UnitedNewcastle+UnitedNewcastle+UnitedNewcastle+UnitedNewcastle+UnitedNewcastle+UnitedNewcastle+UnitedNewcastle+UnitedNewcastle+UnitedNewcastle+UnitedNewcastle+UnitedNewcastle+UnitedNewcastle+UnitedNewcastle+UnitedNewcastle+UnitedNewcastle+UnitedNewcastle+UnitedNewcastle+UnitedNewcastle+UnitedNewcastle+UnitedSouthamptonSouthamptonSouthamptonSouthamptonSouthamptonSouthamptonSouthamptonSouthamptonSouthamptonSouthamptonSouthamptonSouthamptonSouthamptonSouthamptonSouthamptonSouthamptonSouthamptonSouthamptonSouthamptonSouthamptonSouthamptonSouthamptonSouthamptonStoke+CityStoke+CityStoke+CityStoke+CityStoke+CityStoke+CityStoke+CityStoke+CityStoke+CityStoke+CityStoke+CityStoke+CityStoke+CityStoke+CityStoke+CityStoke+CityStoke+CityStoke+CityStoke+CityStoke+CityStoke+CityStoke+CitySwanseaSwanseaSwanseaSwanseaSwanseaSwanseaSwanseaSwanseaSwanseaSwanseaSwanseaSwanseaSwanseaSwanseaSwanseaSwanseaSwanseaSwanseaSwanseaSwanseaSwanseaSwanseaSwanseaSwanseaSwanseaTottenhamTottenhamTottenhamTottenhamTottenhamTottenhamTottenhamTottenhamTottenhamTottenhamTottenhamTottenhamTottenhamTottenhamTottenhamTottenhamTottenhamTottenhamTottenhamTottenhamWatfordWatfordWatfordWatfordWatfordWatfordWatfordWatfordWatfordWatfordWatfordWatfordWatfordWatfordWatfordWatfordWatfordWatfordWatfordWatfordWatfordWatfordWatfordWatfordWest+BromWest+BromWest+BromWest+BromWest+BromWest+BromWest+BromWest+BromWest+BromWest+BromWest+BromWest+BromWest+BromWest+BromWest+BromWest+BromWest+BromWest+BromWest+BromWest+HamWest+HamWest+HamWest+HamWest+HamWest+HamWest+HamWest+HamWest+HamWest+HamWest+HamWest+HamWest+HamWest+HamWest+HamWest+HamWest+HamWest+HamWest+HamWest+HamWest+HamWest+Ham'",
      "\nDuring handling of the above exception, another exception occurred:\n",
      "\u001b[1;31mValueError\u001b[0m                                Traceback (most recent call last)",
      "File \u001b[1;32m~\\anaconda3\\lib\\site-packages\\pandas\\core\\nanops.py:1626\u001b[0m, in \u001b[0;36m_ensure_numeric\u001b[1;34m(x)\u001b[0m\n\u001b[0;32m   1625\u001b[0m \u001b[38;5;28;01mtry\u001b[39;00m:\n\u001b[1;32m-> 1626\u001b[0m     x \u001b[38;5;241m=\u001b[39m \u001b[38;5;28;43mcomplex\u001b[39;49m\u001b[43m(\u001b[49m\u001b[43mx\u001b[49m\u001b[43m)\u001b[49m\n\u001b[0;32m   1627\u001b[0m \u001b[38;5;28;01mexcept\u001b[39;00m \u001b[38;5;167;01mValueError\u001b[39;00m \u001b[38;5;28;01mas\u001b[39;00m err:\n\u001b[0;32m   1628\u001b[0m     \u001b[38;5;66;03m# e.g. \"foo\"\u001b[39;00m\n",
      "\u001b[1;31mValueError\u001b[0m: complex() arg is a malformed string",
      "\nThe above exception was the direct cause of the following exception:\n",
      "\u001b[1;31mTypeError\u001b[0m                                 Traceback (most recent call last)",
      "Input \u001b[1;32mIn [111]\u001b[0m, in \u001b[0;36m<cell line: 1>\u001b[1;34m()\u001b[0m\n\u001b[1;32m----> 1\u001b[0m \u001b[43mplayers\u001b[49m\u001b[38;5;241;43m.\u001b[39;49m\u001b[43mclub\u001b[49m\u001b[38;5;241;43m.\u001b[39;49m\u001b[43mmean\u001b[49m\u001b[43m(\u001b[49m\u001b[43m)\u001b[49m\n",
      "File \u001b[1;32m~\\anaconda3\\lib\\site-packages\\pandas\\core\\generic.py:11117\u001b[0m, in \u001b[0;36mNDFrame._add_numeric_operations.<locals>.mean\u001b[1;34m(self, axis, skipna, level, numeric_only, **kwargs)\u001b[0m\n\u001b[0;32m  11099\u001b[0m \u001b[38;5;129m@doc\u001b[39m(\n\u001b[0;32m  11100\u001b[0m     _num_doc,\n\u001b[0;32m  11101\u001b[0m     desc\u001b[38;5;241m=\u001b[39m\u001b[38;5;124m\"\u001b[39m\u001b[38;5;124mReturn the mean of the values over the requested axis.\u001b[39m\u001b[38;5;124m\"\u001b[39m,\n\u001b[1;32m   (...)\u001b[0m\n\u001b[0;32m  11115\u001b[0m     \u001b[38;5;241m*\u001b[39m\u001b[38;5;241m*\u001b[39mkwargs,\n\u001b[0;32m  11116\u001b[0m ):\n\u001b[1;32m> 11117\u001b[0m     \u001b[38;5;28;01mreturn\u001b[39;00m NDFrame\u001b[38;5;241m.\u001b[39mmean(\u001b[38;5;28mself\u001b[39m, axis, skipna, level, numeric_only, \u001b[38;5;241m*\u001b[39m\u001b[38;5;241m*\u001b[39mkwargs)\n",
      "File \u001b[1;32m~\\anaconda3\\lib\\site-packages\\pandas\\core\\generic.py:10687\u001b[0m, in \u001b[0;36mNDFrame.mean\u001b[1;34m(self, axis, skipna, level, numeric_only, **kwargs)\u001b[0m\n\u001b[0;32m  10679\u001b[0m \u001b[38;5;28;01mdef\u001b[39;00m \u001b[38;5;21mmean\u001b[39m(\n\u001b[0;32m  10680\u001b[0m     \u001b[38;5;28mself\u001b[39m,\n\u001b[0;32m  10681\u001b[0m     axis: Axis \u001b[38;5;241m|\u001b[39m \u001b[38;5;28;01mNone\u001b[39;00m \u001b[38;5;241m|\u001b[39m lib\u001b[38;5;241m.\u001b[39mNoDefault \u001b[38;5;241m=\u001b[39m lib\u001b[38;5;241m.\u001b[39mno_default,\n\u001b[1;32m   (...)\u001b[0m\n\u001b[0;32m  10685\u001b[0m     \u001b[38;5;241m*\u001b[39m\u001b[38;5;241m*\u001b[39mkwargs,\n\u001b[0;32m  10686\u001b[0m ) \u001b[38;5;241m-\u001b[39m\u001b[38;5;241m>\u001b[39m Series \u001b[38;5;241m|\u001b[39m \u001b[38;5;28mfloat\u001b[39m:\n\u001b[1;32m> 10687\u001b[0m     \u001b[38;5;28;01mreturn\u001b[39;00m \u001b[38;5;28mself\u001b[39m\u001b[38;5;241m.\u001b[39m_stat_function(\n\u001b[0;32m  10688\u001b[0m         \u001b[38;5;124m\"\u001b[39m\u001b[38;5;124mmean\u001b[39m\u001b[38;5;124m\"\u001b[39m, nanops\u001b[38;5;241m.\u001b[39mnanmean, axis, skipna, level, numeric_only, \u001b[38;5;241m*\u001b[39m\u001b[38;5;241m*\u001b[39mkwargs\n\u001b[0;32m  10689\u001b[0m     )\n",
      "File \u001b[1;32m~\\anaconda3\\lib\\site-packages\\pandas\\core\\generic.py:10639\u001b[0m, in \u001b[0;36mNDFrame._stat_function\u001b[1;34m(self, name, func, axis, skipna, level, numeric_only, **kwargs)\u001b[0m\n\u001b[0;32m  10629\u001b[0m     warnings\u001b[38;5;241m.\u001b[39mwarn(\n\u001b[0;32m  10630\u001b[0m         \u001b[38;5;124m\"\u001b[39m\u001b[38;5;124mUsing the level keyword in DataFrame and Series aggregations is \u001b[39m\u001b[38;5;124m\"\u001b[39m\n\u001b[0;32m  10631\u001b[0m         \u001b[38;5;124m\"\u001b[39m\u001b[38;5;124mdeprecated and will be removed in a future version. Use groupby \u001b[39m\u001b[38;5;124m\"\u001b[39m\n\u001b[1;32m   (...)\u001b[0m\n\u001b[0;32m  10634\u001b[0m         stacklevel\u001b[38;5;241m=\u001b[39mfind_stack_level(),\n\u001b[0;32m  10635\u001b[0m     )\n\u001b[0;32m  10636\u001b[0m     \u001b[38;5;28;01mreturn\u001b[39;00m \u001b[38;5;28mself\u001b[39m\u001b[38;5;241m.\u001b[39m_agg_by_level(\n\u001b[0;32m  10637\u001b[0m         name, axis\u001b[38;5;241m=\u001b[39maxis, level\u001b[38;5;241m=\u001b[39mlevel, skipna\u001b[38;5;241m=\u001b[39mskipna, numeric_only\u001b[38;5;241m=\u001b[39mnumeric_only\n\u001b[0;32m  10638\u001b[0m     )\n\u001b[1;32m> 10639\u001b[0m \u001b[38;5;28;01mreturn\u001b[39;00m \u001b[38;5;28;43mself\u001b[39;49m\u001b[38;5;241;43m.\u001b[39;49m\u001b[43m_reduce\u001b[49m\u001b[43m(\u001b[49m\n\u001b[0;32m  10640\u001b[0m \u001b[43m    \u001b[49m\u001b[43mfunc\u001b[49m\u001b[43m,\u001b[49m\u001b[43m \u001b[49m\u001b[43mname\u001b[49m\u001b[38;5;241;43m=\u001b[39;49m\u001b[43mname\u001b[49m\u001b[43m,\u001b[49m\u001b[43m \u001b[49m\u001b[43maxis\u001b[49m\u001b[38;5;241;43m=\u001b[39;49m\u001b[43maxis\u001b[49m\u001b[43m,\u001b[49m\u001b[43m \u001b[49m\u001b[43mskipna\u001b[49m\u001b[38;5;241;43m=\u001b[39;49m\u001b[43mskipna\u001b[49m\u001b[43m,\u001b[49m\u001b[43m \u001b[49m\u001b[43mnumeric_only\u001b[49m\u001b[38;5;241;43m=\u001b[39;49m\u001b[43mnumeric_only\u001b[49m\n\u001b[0;32m  10641\u001b[0m \u001b[43m\u001b[49m\u001b[43m)\u001b[49m\n",
      "File \u001b[1;32m~\\anaconda3\\lib\\site-packages\\pandas\\core\\series.py:4471\u001b[0m, in \u001b[0;36mSeries._reduce\u001b[1;34m(self, op, name, axis, skipna, numeric_only, filter_type, **kwds)\u001b[0m\n\u001b[0;32m   4467\u001b[0m     \u001b[38;5;28;01mraise\u001b[39;00m \u001b[38;5;167;01mNotImplementedError\u001b[39;00m(\n\u001b[0;32m   4468\u001b[0m         \u001b[38;5;124mf\u001b[39m\u001b[38;5;124m\"\u001b[39m\u001b[38;5;124mSeries.\u001b[39m\u001b[38;5;132;01m{\u001b[39;00mname\u001b[38;5;132;01m}\u001b[39;00m\u001b[38;5;124m does not implement \u001b[39m\u001b[38;5;132;01m{\u001b[39;00mkwd_name\u001b[38;5;132;01m}\u001b[39;00m\u001b[38;5;124m.\u001b[39m\u001b[38;5;124m\"\u001b[39m\n\u001b[0;32m   4469\u001b[0m     )\n\u001b[0;32m   4470\u001b[0m \u001b[38;5;28;01mwith\u001b[39;00m np\u001b[38;5;241m.\u001b[39merrstate(\u001b[38;5;28mall\u001b[39m\u001b[38;5;241m=\u001b[39m\u001b[38;5;124m\"\u001b[39m\u001b[38;5;124mignore\u001b[39m\u001b[38;5;124m\"\u001b[39m):\n\u001b[1;32m-> 4471\u001b[0m     \u001b[38;5;28;01mreturn\u001b[39;00m op(delegate, skipna\u001b[38;5;241m=\u001b[39mskipna, \u001b[38;5;241m*\u001b[39m\u001b[38;5;241m*\u001b[39mkwds)\n",
      "File \u001b[1;32m~\\anaconda3\\lib\\site-packages\\pandas\\core\\nanops.py:93\u001b[0m, in \u001b[0;36mdisallow.__call__.<locals>._f\u001b[1;34m(*args, **kwargs)\u001b[0m\n\u001b[0;32m     91\u001b[0m \u001b[38;5;28;01mtry\u001b[39;00m:\n\u001b[0;32m     92\u001b[0m     \u001b[38;5;28;01mwith\u001b[39;00m np\u001b[38;5;241m.\u001b[39merrstate(invalid\u001b[38;5;241m=\u001b[39m\u001b[38;5;124m\"\u001b[39m\u001b[38;5;124mignore\u001b[39m\u001b[38;5;124m\"\u001b[39m):\n\u001b[1;32m---> 93\u001b[0m         \u001b[38;5;28;01mreturn\u001b[39;00m f(\u001b[38;5;241m*\u001b[39margs, \u001b[38;5;241m*\u001b[39m\u001b[38;5;241m*\u001b[39mkwargs)\n\u001b[0;32m     94\u001b[0m \u001b[38;5;28;01mexcept\u001b[39;00m \u001b[38;5;167;01mValueError\u001b[39;00m \u001b[38;5;28;01mas\u001b[39;00m e:\n\u001b[0;32m     95\u001b[0m     \u001b[38;5;66;03m# we want to transform an object array\u001b[39;00m\n\u001b[0;32m     96\u001b[0m     \u001b[38;5;66;03m# ValueError message to the more typical TypeError\u001b[39;00m\n\u001b[0;32m     97\u001b[0m     \u001b[38;5;66;03m# e.g. this is normally a disallowed function on\u001b[39;00m\n\u001b[0;32m     98\u001b[0m     \u001b[38;5;66;03m# object arrays that contain strings\u001b[39;00m\n\u001b[0;32m     99\u001b[0m     \u001b[38;5;28;01mif\u001b[39;00m is_object_dtype(args[\u001b[38;5;241m0\u001b[39m]):\n",
      "File \u001b[1;32m~\\anaconda3\\lib\\site-packages\\pandas\\core\\nanops.py:155\u001b[0m, in \u001b[0;36mbottleneck_switch.__call__.<locals>.f\u001b[1;34m(values, axis, skipna, **kwds)\u001b[0m\n\u001b[0;32m    153\u001b[0m         result \u001b[38;5;241m=\u001b[39m alt(values, axis\u001b[38;5;241m=\u001b[39maxis, skipna\u001b[38;5;241m=\u001b[39mskipna, \u001b[38;5;241m*\u001b[39m\u001b[38;5;241m*\u001b[39mkwds)\n\u001b[0;32m    154\u001b[0m \u001b[38;5;28;01melse\u001b[39;00m:\n\u001b[1;32m--> 155\u001b[0m     result \u001b[38;5;241m=\u001b[39m alt(values, axis\u001b[38;5;241m=\u001b[39maxis, skipna\u001b[38;5;241m=\u001b[39mskipna, \u001b[38;5;241m*\u001b[39m\u001b[38;5;241m*\u001b[39mkwds)\n\u001b[0;32m    157\u001b[0m \u001b[38;5;28;01mreturn\u001b[39;00m result\n",
      "File \u001b[1;32m~\\anaconda3\\lib\\site-packages\\pandas\\core\\nanops.py:410\u001b[0m, in \u001b[0;36m_datetimelike_compat.<locals>.new_func\u001b[1;34m(values, axis, skipna, mask, **kwargs)\u001b[0m\n\u001b[0;32m    407\u001b[0m \u001b[38;5;28;01mif\u001b[39;00m datetimelike \u001b[38;5;129;01mand\u001b[39;00m mask \u001b[38;5;129;01mis\u001b[39;00m \u001b[38;5;28;01mNone\u001b[39;00m:\n\u001b[0;32m    408\u001b[0m     mask \u001b[38;5;241m=\u001b[39m isna(values)\n\u001b[1;32m--> 410\u001b[0m result \u001b[38;5;241m=\u001b[39m func(values, axis\u001b[38;5;241m=\u001b[39maxis, skipna\u001b[38;5;241m=\u001b[39mskipna, mask\u001b[38;5;241m=\u001b[39mmask, \u001b[38;5;241m*\u001b[39m\u001b[38;5;241m*\u001b[39mkwargs)\n\u001b[0;32m    412\u001b[0m \u001b[38;5;28;01mif\u001b[39;00m datetimelike:\n\u001b[0;32m    413\u001b[0m     result \u001b[38;5;241m=\u001b[39m _wrap_results(result, orig_values\u001b[38;5;241m.\u001b[39mdtype, fill_value\u001b[38;5;241m=\u001b[39miNaT)\n",
      "File \u001b[1;32m~\\anaconda3\\lib\\site-packages\\pandas\\core\\nanops.py:698\u001b[0m, in \u001b[0;36mnanmean\u001b[1;34m(values, axis, skipna, mask)\u001b[0m\n\u001b[0;32m    695\u001b[0m     dtype_count \u001b[38;5;241m=\u001b[39m dtype\n\u001b[0;32m    697\u001b[0m count \u001b[38;5;241m=\u001b[39m _get_counts(values\u001b[38;5;241m.\u001b[39mshape, mask, axis, dtype\u001b[38;5;241m=\u001b[39mdtype_count)\n\u001b[1;32m--> 698\u001b[0m the_sum \u001b[38;5;241m=\u001b[39m \u001b[43m_ensure_numeric\u001b[49m\u001b[43m(\u001b[49m\u001b[43mvalues\u001b[49m\u001b[38;5;241;43m.\u001b[39;49m\u001b[43msum\u001b[49m\u001b[43m(\u001b[49m\u001b[43maxis\u001b[49m\u001b[43m,\u001b[49m\u001b[43m \u001b[49m\u001b[43mdtype\u001b[49m\u001b[38;5;241;43m=\u001b[39;49m\u001b[43mdtype_sum\u001b[49m\u001b[43m)\u001b[49m\u001b[43m)\u001b[49m\n\u001b[0;32m    700\u001b[0m \u001b[38;5;28;01mif\u001b[39;00m axis \u001b[38;5;129;01mis\u001b[39;00m \u001b[38;5;129;01mnot\u001b[39;00m \u001b[38;5;28;01mNone\u001b[39;00m \u001b[38;5;129;01mand\u001b[39;00m \u001b[38;5;28mgetattr\u001b[39m(the_sum, \u001b[38;5;124m\"\u001b[39m\u001b[38;5;124mndim\u001b[39m\u001b[38;5;124m\"\u001b[39m, \u001b[38;5;28;01mFalse\u001b[39;00m):\n\u001b[0;32m    701\u001b[0m     count \u001b[38;5;241m=\u001b[39m cast(np\u001b[38;5;241m.\u001b[39mndarray, count)\n",
      "File \u001b[1;32m~\\anaconda3\\lib\\site-packages\\pandas\\core\\nanops.py:1629\u001b[0m, in \u001b[0;36m_ensure_numeric\u001b[1;34m(x)\u001b[0m\n\u001b[0;32m   1626\u001b[0m             x \u001b[38;5;241m=\u001b[39m \u001b[38;5;28mcomplex\u001b[39m(x)\n\u001b[0;32m   1627\u001b[0m         \u001b[38;5;28;01mexcept\u001b[39;00m \u001b[38;5;167;01mValueError\u001b[39;00m \u001b[38;5;28;01mas\u001b[39;00m err:\n\u001b[0;32m   1628\u001b[0m             \u001b[38;5;66;03m# e.g. \"foo\"\u001b[39;00m\n\u001b[1;32m-> 1629\u001b[0m             \u001b[38;5;28;01mraise\u001b[39;00m \u001b[38;5;167;01mTypeError\u001b[39;00m(\u001b[38;5;124mf\u001b[39m\u001b[38;5;124m\"\u001b[39m\u001b[38;5;124mCould not convert \u001b[39m\u001b[38;5;132;01m{\u001b[39;00mx\u001b[38;5;132;01m}\u001b[39;00m\u001b[38;5;124m to numeric\u001b[39m\u001b[38;5;124m\"\u001b[39m) \u001b[38;5;28;01mfrom\u001b[39;00m \u001b[38;5;21;01merr\u001b[39;00m\n\u001b[0;32m   1630\u001b[0m \u001b[38;5;28;01mreturn\u001b[39;00m x\n",
      "\u001b[1;31mTypeError\u001b[0m: Could not convert ArsenalArsenalArsenalArsenalArsenalArsenalArsenalArsenalArsenalArsenalArsenalArsenalArsenalArsenalArsenalArsenalArsenalArsenalArsenalArsenalArsenalArsenalArsenalArsenalArsenalArsenalArsenalArsenalArsenalArsenalArsenalArsenalBournemouthBournemouthBournemouthBournemouthBournemouthBournemouthBournemouthBournemouthBournemouthBournemouthBournemouthBournemouthBournemouthBournemouthBournemouthBournemouthBournemouthBournemouthBournemouthBournemouthBournemouthBournemouthBournemouthBournemouthBrighton+and+HoveBrighton+and+HoveBrighton+and+HoveBrighton+and+HoveBrighton+and+HoveBrighton+and+HoveBrighton+and+HoveBrighton+and+HoveBrighton+and+HoveBrighton+and+HoveBrighton+and+HoveBrighton+and+HoveBrighton+and+HoveBrighton+and+HoveBrighton+and+HoveBrighton+and+HoveBrighton+and+HoveBrighton+and+HoveBrighton+and+HoveBrighton+and+HoveBrighton+and+HoveBrighton+and+HoveBurnleyBurnleyBurnleyBurnleyBurnleyBurnleyBurnleyBurnleyBurnleyBurnleyBurnleyBurnleyBurnleyBurnleyBurnleyBurnleyBurnleyBurnleyChelseaChelseaChelseaChelseaChelseaChelseaChelseaChelseaChelseaChelseaChelseaChelseaChelseaChelseaChelseaChelseaChelseaChelseaChelseaChelseaCrystal+PalaceCrystal+PalaceCrystal+PalaceCrystal+PalaceCrystal+PalaceCrystal+PalaceCrystal+PalaceCrystal+PalaceCrystal+PalaceCrystal+PalaceCrystal+PalaceCrystal+PalaceCrystal+PalaceCrystal+PalaceCrystal+PalaceCrystal+PalaceCrystal+PalaceCrystal+PalaceCrystal+PalaceCrystal+PalaceCrystal+PalaceEvertonEvertonEvertonEvertonEvertonEvertonEvertonEvertonEvertonEvertonEvertonEvertonEvertonEvertonEvertonEvertonEvertonEvertonEvertonEvertonEvertonEvertonEvertonEvertonEvertonEvertonEvertonEvertonHuddersfieldHuddersfieldHuddersfieldHuddersfieldHuddersfieldHuddersfieldHuddersfieldHuddersfieldHuddersfieldHuddersfieldHuddersfieldHuddersfieldHuddersfieldHuddersfieldHuddersfieldHuddersfieldHuddersfieldHuddersfieldHuddersfieldHuddersfieldHuddersfieldHuddersfieldHuddersfieldHuddersfieldHuddersfieldHuddersfieldHuddersfieldHuddersfieldLeicester+CityLeicester+CityLeicester+CityLeicester+CityLeicester+CityLeicester+CityLeicester+CityLeicester+CityLeicester+CityLeicester+CityLeicester+CityLeicester+CityLeicester+CityLeicester+CityLeicester+CityLeicester+CityLeicester+CityLeicester+CityLeicester+CityLeicester+CityLeicester+CityLeicester+CityLeicester+CityLeicester+CityLiverpoolLiverpoolLiverpoolLiverpoolLiverpoolLiverpoolLiverpoolLiverpoolLiverpoolLiverpoolLiverpoolLiverpoolLiverpoolLiverpoolLiverpoolLiverpoolLiverpoolLiverpoolLiverpoolLiverpoolLiverpoolLiverpoolLiverpoolLiverpoolLiverpoolLiverpoolLiverpoolManchester+CityManchester+CityManchester+CityManchester+CityManchester+CityManchester+CityManchester+CityManchester+CityManchester+CityManchester+CityManchester+CityManchester+CityManchester+CityManchester+CityManchester+CityManchester+CityManchester+CityManchester+CityManchester+CityManchester+CityManchester+UnitedManchester+UnitedManchester+UnitedManchester+UnitedManchester+UnitedManchester+UnitedManchester+UnitedManchester+UnitedManchester+UnitedManchester+UnitedManchester+UnitedManchester+UnitedManchester+UnitedManchester+UnitedManchester+UnitedManchester+UnitedManchester+UnitedManchester+UnitedManchester+UnitedManchester+UnitedManchester+UnitedManchester+UnitedManchester+UnitedManchester+UnitedManchester+UnitedNewcastle+UnitedNewcastle+UnitedNewcastle+UnitedNewcastle+UnitedNewcastle+UnitedNewcastle+UnitedNewcastle+UnitedNewcastle+UnitedNewcastle+UnitedNewcastle+UnitedNewcastle+UnitedNewcastle+UnitedNewcastle+UnitedNewcastle+UnitedNewcastle+UnitedNewcastle+UnitedNewcastle+UnitedNewcastle+UnitedNewcastle+UnitedNewcastle+UnitedNewcastle+UnitedSouthamptonSouthamptonSouthamptonSouthamptonSouthamptonSouthamptonSouthamptonSouthamptonSouthamptonSouthamptonSouthamptonSouthamptonSouthamptonSouthamptonSouthamptonSouthamptonSouthamptonSouthamptonSouthamptonSouthamptonSouthamptonSouthamptonSouthamptonStoke+CityStoke+CityStoke+CityStoke+CityStoke+CityStoke+CityStoke+CityStoke+CityStoke+CityStoke+CityStoke+CityStoke+CityStoke+CityStoke+CityStoke+CityStoke+CityStoke+CityStoke+CityStoke+CityStoke+CityStoke+CityStoke+CitySwanseaSwanseaSwanseaSwanseaSwanseaSwanseaSwanseaSwanseaSwanseaSwanseaSwanseaSwanseaSwanseaSwanseaSwanseaSwanseaSwanseaSwanseaSwanseaSwanseaSwanseaSwanseaSwanseaSwanseaSwanseaTottenhamTottenhamTottenhamTottenhamTottenhamTottenhamTottenhamTottenhamTottenhamTottenhamTottenhamTottenhamTottenhamTottenhamTottenhamTottenhamTottenhamTottenhamTottenhamTottenhamWatfordWatfordWatfordWatfordWatfordWatfordWatfordWatfordWatfordWatfordWatfordWatfordWatfordWatfordWatfordWatfordWatfordWatfordWatfordWatfordWatfordWatfordWatfordWatfordWest+BromWest+BromWest+BromWest+BromWest+BromWest+BromWest+BromWest+BromWest+BromWest+BromWest+BromWest+BromWest+BromWest+BromWest+BromWest+BromWest+BromWest+BromWest+BromWest+HamWest+HamWest+HamWest+HamWest+HamWest+HamWest+HamWest+HamWest+HamWest+HamWest+HamWest+HamWest+HamWest+HamWest+HamWest+HamWest+HamWest+HamWest+HamWest+HamWest+HamWest+Ham to numeric"
     ]
    }
   ],
   "source": [
    "players.club.mean()"
   ]
  },
  {
   "cell_type": "code",
   "execution_count": 113,
   "id": "0797c409",
   "metadata": {},
   "outputs": [
    {
     "name": "stderr",
     "output_type": "stream",
     "text": [
      "C:\\Users\\97798\\AppData\\Local\\Temp\\ipykernel_14484\\3860056659.py:1: FutureWarning: Dropping of nuisance columns in DataFrame reductions (with 'numeric_only=None') is deprecated; in a future version this will raise TypeError.  Select only valid columns before calling the reduction.\n",
      "  players.agg(np.min)\n"
     ]
    },
    {
     "data": {
      "text/plain": [
       "name            Aaron Cresswell\n",
       "club                    Arsenal\n",
       "age                          17\n",
       "position_cat                  1\n",
       "market_value               0.05\n",
       "page_views                    3\n",
       "fpl_value                   4.0\n",
       "fpl_sel                   0.00%\n",
       "fpl_points                    0\n",
       "region                        1\n",
       "nationality             Algeria\n",
       "new_foreign                   0\n",
       "age_cat                       1\n",
       "club_id                       1\n",
       "big_club                      0\n",
       "new_signing                   0\n",
       "dtype: object"
      ]
     },
     "execution_count": 113,
     "metadata": {},
     "output_type": "execute_result"
    }
   ],
   "source": [
    "players.agg(np.min)"
   ]
  },
  {
   "cell_type": "code",
   "execution_count": 116,
   "id": "78c3aaf5",
   "metadata": {},
   "outputs": [
    {
     "name": "stderr",
     "output_type": "stream",
     "text": [
      "C:\\Users\\97798\\AppData\\Local\\Temp\\ipykernel_14484\\3254025435.py:1: FutureWarning: Dropping of nuisance columns in DataFrame reductions (with 'numeric_only=None') is deprecated; in a future version this will raise TypeError.  Select only valid columns before calling the reduction.\n",
      "  players.aggregate('min')\n"
     ]
    },
    {
     "data": {
      "text/plain": [
       "name            Aaron Cresswell\n",
       "club                    Arsenal\n",
       "age                          17\n",
       "position_cat                  1\n",
       "market_value               0.05\n",
       "page_views                    3\n",
       "fpl_value                   4.0\n",
       "fpl_sel                   0.00%\n",
       "fpl_points                    0\n",
       "region                        1\n",
       "nationality             Algeria\n",
       "new_foreign                   0\n",
       "age_cat                       1\n",
       "club_id                       1\n",
       "big_club                      0\n",
       "new_signing                   0\n",
       "dtype: object"
      ]
     },
     "execution_count": 116,
     "metadata": {},
     "output_type": "execute_result"
    }
   ],
   "source": [
    "players.aggregate('min')"
   ]
  },
  {
   "cell_type": "code",
   "execution_count": 117,
   "id": "8121588c",
   "metadata": {},
   "outputs": [
    {
     "name": "stderr",
     "output_type": "stream",
     "text": [
      "C:\\Users\\97798\\AppData\\Local\\Temp\\ipykernel_14484\\2065333010.py:1: FutureWarning: Dropping of nuisance columns in DataFrame reductions (with 'numeric_only=None') is deprecated; in a future version this will raise TypeError.  Select only valid columns before calling the reduction.\n",
      "  players.aggregate('max')\n"
     ]
    },
    {
     "data": {
      "text/plain": [
       "name            Åukasz FabiaÅ„ski\n",
       "club                      West+Ham\n",
       "age                             38\n",
       "position_cat                     4\n",
       "market_value                  75.0\n",
       "page_views                    7664\n",
       "fpl_value                     12.5\n",
       "fpl_sel                      9.70%\n",
       "fpl_points                     264\n",
       "region                           4\n",
       "nationality                  Wales\n",
       "new_foreign                      1\n",
       "age_cat                          6\n",
       "club_id                         20\n",
       "big_club                         1\n",
       "new_signing                      1\n",
       "dtype: object"
      ]
     },
     "execution_count": 117,
     "metadata": {},
     "output_type": "execute_result"
    }
   ],
   "source": [
    "players.aggregate('max')"
   ]
  },
  {
   "cell_type": "code",
   "execution_count": 119,
   "id": "3f62b259",
   "metadata": {},
   "outputs": [
    {
     "data": {
      "text/html": [
       "<div>\n",
       "<style scoped>\n",
       "    .dataframe tbody tr th:only-of-type {\n",
       "        vertical-align: middle;\n",
       "    }\n",
       "\n",
       "    .dataframe tbody tr th {\n",
       "        vertical-align: top;\n",
       "    }\n",
       "\n",
       "    .dataframe thead th {\n",
       "        text-align: right;\n",
       "    }\n",
       "</style>\n",
       "<table border=\"1\" class=\"dataframe\">\n",
       "  <thead>\n",
       "    <tr style=\"text-align: right;\">\n",
       "      <th></th>\n",
       "      <th>age</th>\n",
       "      <th>position_cat</th>\n",
       "      <th>market_value</th>\n",
       "      <th>page_views</th>\n",
       "      <th>fpl_value</th>\n",
       "      <th>fpl_points</th>\n",
       "      <th>region</th>\n",
       "      <th>new_foreign</th>\n",
       "      <th>age_cat</th>\n",
       "      <th>club_id</th>\n",
       "      <th>big_club</th>\n",
       "      <th>new_signing</th>\n",
       "    </tr>\n",
       "  </thead>\n",
       "  <tbody>\n",
       "    <tr>\n",
       "      <th>amin</th>\n",
       "      <td>17.000000</td>\n",
       "      <td>1.000000</td>\n",
       "      <td>0.050000</td>\n",
       "      <td>3.000000</td>\n",
       "      <td>4.000000</td>\n",
       "      <td>0.000000</td>\n",
       "      <td>1.000000</td>\n",
       "      <td>0.000000</td>\n",
       "      <td>1.000000</td>\n",
       "      <td>1.000000</td>\n",
       "      <td>0.000000</td>\n",
       "      <td>0.000000</td>\n",
       "    </tr>\n",
       "    <tr>\n",
       "      <th>amax</th>\n",
       "      <td>38.000000</td>\n",
       "      <td>4.000000</td>\n",
       "      <td>75.000000</td>\n",
       "      <td>7664.000000</td>\n",
       "      <td>12.500000</td>\n",
       "      <td>264.000000</td>\n",
       "      <td>4.000000</td>\n",
       "      <td>1.000000</td>\n",
       "      <td>6.000000</td>\n",
       "      <td>20.000000</td>\n",
       "      <td>1.000000</td>\n",
       "      <td>1.000000</td>\n",
       "    </tr>\n",
       "    <tr>\n",
       "      <th>median</th>\n",
       "      <td>27.000000</td>\n",
       "      <td>2.000000</td>\n",
       "      <td>7.000000</td>\n",
       "      <td>461.000000</td>\n",
       "      <td>5.000000</td>\n",
       "      <td>51.000000</td>\n",
       "      <td>2.000000</td>\n",
       "      <td>0.000000</td>\n",
       "      <td>3.000000</td>\n",
       "      <td>10.000000</td>\n",
       "      <td>0.000000</td>\n",
       "      <td>0.000000</td>\n",
       "    </tr>\n",
       "    <tr>\n",
       "      <th>mean</th>\n",
       "      <td>26.776344</td>\n",
       "      <td>2.178495</td>\n",
       "      <td>11.125649</td>\n",
       "      <td>771.546237</td>\n",
       "      <td>5.450538</td>\n",
       "      <td>57.544086</td>\n",
       "      <td>1.989247</td>\n",
       "      <td>0.034409</td>\n",
       "      <td>3.195699</td>\n",
       "      <td>10.253763</td>\n",
       "      <td>0.309677</td>\n",
       "      <td>0.144086</td>\n",
       "    </tr>\n",
       "  </tbody>\n",
       "</table>\n",
       "</div>"
      ],
      "text/plain": [
       "              age  position_cat  market_value   page_views  fpl_value  \\\n",
       "amin    17.000000      1.000000      0.050000     3.000000   4.000000   \n",
       "amax    38.000000      4.000000     75.000000  7664.000000  12.500000   \n",
       "median  27.000000      2.000000      7.000000   461.000000   5.000000   \n",
       "mean    26.776344      2.178495     11.125649   771.546237   5.450538   \n",
       "\n",
       "        fpl_points    region  new_foreign   age_cat    club_id  big_club  \\\n",
       "amin      0.000000  1.000000     0.000000  1.000000   1.000000  0.000000   \n",
       "amax    264.000000  4.000000     1.000000  6.000000  20.000000  1.000000   \n",
       "median   51.000000  2.000000     0.000000  3.000000  10.000000  0.000000   \n",
       "mean     57.544086  1.989247     0.034409  3.195699  10.253763  0.309677   \n",
       "\n",
       "        new_signing  \n",
       "amin       0.000000  \n",
       "amax       1.000000  \n",
       "median     0.000000  \n",
       "mean       0.144086  "
      ]
     },
     "execution_count": 119,
     "metadata": {},
     "output_type": "execute_result"
    }
   ],
   "source": [
    "players.select_dtypes(np.number).aggregate([np.min,np.max,np.median,np.mean])"
   ]
  },
  {
   "cell_type": "code",
   "execution_count": null,
   "id": "850d43fa",
   "metadata": {},
   "outputs": [],
   "source": []
  }
 ],
 "metadata": {
  "kernelspec": {
   "display_name": "Python 3 (ipykernel)",
   "language": "python",
   "name": "python3"
  },
  "language_info": {
   "codemirror_mode": {
    "name": "ipython",
    "version": 3
   },
   "file_extension": ".py",
   "mimetype": "text/x-python",
   "name": "python",
   "nbconvert_exporter": "python",
   "pygments_lexer": "ipython3",
   "version": "3.9.12"
  }
 },
 "nbformat": 4,
 "nbformat_minor": 5
}
