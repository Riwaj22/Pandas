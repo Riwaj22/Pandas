{
 "cells": [
  {
   "cell_type": "code",
   "execution_count": 6,
   "id": "54429a2b",
   "metadata": {},
   "outputs": [],
   "source": [
    "import numpy as np\n",
    "import pandas as pd"
   ]
  },
  {
   "cell_type": "code",
   "execution_count": 7,
   "id": "0e8c183e",
   "metadata": {},
   "outputs": [],
   "source": [
    "from datetime import date"
   ]
  },
  {
   "cell_type": "code",
   "execution_count": 8,
   "id": "e2275094",
   "metadata": {},
   "outputs": [],
   "source": [
    "date_A = date(2020,2,2)"
   ]
  },
  {
   "cell_type": "code",
   "execution_count": 9,
   "id": "61fc68ff",
   "metadata": {},
   "outputs": [
    {
     "data": {
      "text/plain": [
       "datetime.date"
      ]
     },
     "execution_count": 9,
     "metadata": {},
     "output_type": "execute_result"
    }
   ],
   "source": [
    "type(date_A)"
   ]
  },
  {
   "cell_type": "code",
   "execution_count": 10,
   "id": "9fff9141",
   "metadata": {},
   "outputs": [],
   "source": [
    "# number of seconds between two days 15 apart "
   ]
  },
  {
   "cell_type": "code",
   "execution_count": 11,
   "id": "020bd198",
   "metadata": {},
   "outputs": [
    {
     "data": {
      "text/plain": [
       "2"
      ]
     },
     "execution_count": 11,
     "metadata": {},
     "output_type": "execute_result"
    }
   ],
   "source": [
    "date_A.day"
   ]
  },
  {
   "cell_type": "code",
   "execution_count": 12,
   "id": "0aec363c",
   "metadata": {},
   "outputs": [],
   "source": [
    "from datetime import time"
   ]
  },
  {
   "cell_type": "code",
   "execution_count": 13,
   "id": "0fd36180",
   "metadata": {},
   "outputs": [
    {
     "data": {
      "text/plain": [
       "2020"
      ]
     },
     "execution_count": 13,
     "metadata": {},
     "output_type": "execute_result"
    }
   ],
   "source": [
    "date_A.year"
   ]
  },
  {
   "cell_type": "code",
   "execution_count": 14,
   "id": "3cfe2f93",
   "metadata": {},
   "outputs": [
    {
     "data": {
      "text/plain": [
       "<function date.isoformat>"
      ]
     },
     "execution_count": 14,
     "metadata": {},
     "output_type": "execute_result"
    }
   ],
   "source": [
    "date_A.isoformat"
   ]
  },
  {
   "cell_type": "code",
   "execution_count": 15,
   "id": "908ab307",
   "metadata": {},
   "outputs": [],
   "source": [
    "from datetime import datetime"
   ]
  },
  {
   "cell_type": "code",
   "execution_count": 16,
   "id": "d40edfd6",
   "metadata": {},
   "outputs": [],
   "source": [
    "# the datetime class"
   ]
  },
  {
   "cell_type": "code",
   "execution_count": 17,
   "id": "8ae58011",
   "metadata": {},
   "outputs": [],
   "source": [
    "df_ = datetime(2020,2,2,2,2,2)"
   ]
  },
  {
   "cell_type": "code",
   "execution_count": 18,
   "id": "f17b98cb",
   "metadata": {},
   "outputs": [],
   "source": [
    "dt = datetime.now()"
   ]
  },
  {
   "cell_type": "code",
   "execution_count": 19,
   "id": "6ce6d673",
   "metadata": {},
   "outputs": [
    {
     "data": {
      "text/plain": [
       "datetime.datetime(2023, 5, 23, 11, 53, 47, 988175)"
      ]
     },
     "execution_count": 19,
     "metadata": {},
     "output_type": "execute_result"
    }
   ],
   "source": [
    "dt"
   ]
  },
  {
   "cell_type": "code",
   "execution_count": 20,
   "id": "4145ce87",
   "metadata": {},
   "outputs": [
    {
     "data": {
      "text/plain": [
       "'2023'"
      ]
     },
     "execution_count": 20,
     "metadata": {},
     "output_type": "execute_result"
    }
   ],
   "source": [
    "dt.strftime('%Y')"
   ]
  },
  {
   "cell_type": "code",
   "execution_count": 21,
   "id": "bc5016d4",
   "metadata": {},
   "outputs": [
    {
     "data": {
      "text/plain": [
       "'53'"
      ]
     },
     "execution_count": 21,
     "metadata": {},
     "output_type": "execute_result"
    }
   ],
   "source": [
    "dt.strftime('%M')"
   ]
  },
  {
   "cell_type": "code",
   "execution_count": 23,
   "id": "4871c6cd",
   "metadata": {},
   "outputs": [
    {
     "data": {
      "text/plain": [
       "'Year : 2023'"
      ]
     },
     "execution_count": 23,
     "metadata": {},
     "output_type": "execute_result"
    }
   ],
   "source": [
    "dt.strftime('Year : %Y')"
   ]
  },
  {
   "cell_type": "code",
   "execution_count": 24,
   "id": "3715544b",
   "metadata": {},
   "outputs": [
    {
     "data": {
      "text/plain": [
       "'Tue May 23 11:53:47 2023'"
      ]
     },
     "execution_count": 24,
     "metadata": {},
     "output_type": "execute_result"
    }
   ],
   "source": [
    "dt.strftime('%c')"
   ]
  },
  {
   "cell_type": "code",
   "execution_count": 25,
   "id": "a590c5dc",
   "metadata": {},
   "outputs": [],
   "source": [
    "# an alternative method"
   ]
  },
  {
   "cell_type": "code",
   "execution_count": 30,
   "id": "b7f92937",
   "metadata": {},
   "outputs": [
    {
     "data": {
      "text/plain": [
       "'My date is Tue May 23 11:53:47 2023'"
      ]
     },
     "execution_count": 30,
     "metadata": {},
     "output_type": "execute_result"
    }
   ],
   "source": [
    "'My date is {:%c}'.format(dt)"
   ]
  },
  {
   "cell_type": "code",
   "execution_count": null,
   "id": "bc0e6498",
   "metadata": {},
   "outputs": [],
   "source": []
  }
 ],
 "metadata": {
  "kernelspec": {
   "display_name": "Python 3 (ipykernel)",
   "language": "python",
   "name": "python3"
  },
  "language_info": {
   "codemirror_mode": {
    "name": "ipython",
    "version": 3
   },
   "file_extension": ".py",
   "mimetype": "text/x-python",
   "name": "python",
   "nbconvert_exporter": "python",
   "pygments_lexer": "ipython3",
   "version": "3.9.12"
  }
 },
 "nbformat": 4,
 "nbformat_minor": 5
}
