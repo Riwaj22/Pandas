{
 "cells": [
  {
   "cell_type": "code",
   "execution_count": 6,
   "id": "392303b9",
   "metadata": {},
   "outputs": [],
   "source": [
    "import numpy as np\n",
    "import pandas as pd"
   ]
  },
  {
   "cell_type": "code",
   "execution_count": 74,
   "id": "d8c19611",
   "metadata": {},
   "outputs": [],
   "source": [
    "from datetime import date"
   ]
  },
  {
   "cell_type": "code",
   "execution_count": 75,
   "id": "bc3f928d",
   "metadata": {},
   "outputs": [],
   "source": [
    "oil_url = 'https://andybek.com/pandas-oil'"
   ]
  },
  {
   "cell_type": "code",
   "execution_count": 76,
   "id": "4c97a589",
   "metadata": {},
   "outputs": [],
   "source": [
    "brent = pd.read_csv(oil_url)"
   ]
  },
  {
   "cell_type": "code",
   "execution_count": 203,
   "id": "a7dd7e73",
   "metadata": {},
   "outputs": [
    {
     "data": {
      "text/html": [
       "<div>\n",
       "<style scoped>\n",
       "    .dataframe tbody tr th:only-of-type {\n",
       "        vertical-align: middle;\n",
       "    }\n",
       "\n",
       "    .dataframe tbody tr th {\n",
       "        vertical-align: top;\n",
       "    }\n",
       "\n",
       "    .dataframe thead th {\n",
       "        text-align: right;\n",
       "    }\n",
       "</style>\n",
       "<table border=\"1\" class=\"dataframe\">\n",
       "  <thead>\n",
       "    <tr style=\"text-align: right;\">\n",
       "      <th></th>\n",
       "      <th>Price</th>\n",
       "    </tr>\n",
       "    <tr>\n",
       "      <th>Date</th>\n",
       "      <th></th>\n",
       "    </tr>\n",
       "  </thead>\n",
       "  <tbody>\n",
       "    <tr>\n",
       "      <th>2000-01-04</th>\n",
       "      <td>23.95</td>\n",
       "    </tr>\n",
       "    <tr>\n",
       "      <th>2000-01-05</th>\n",
       "      <td>23.72</td>\n",
       "    </tr>\n",
       "    <tr>\n",
       "      <th>2000-01-06</th>\n",
       "      <td>23.55</td>\n",
       "    </tr>\n",
       "    <tr>\n",
       "      <th>2000-01-07</th>\n",
       "      <td>23.35</td>\n",
       "    </tr>\n",
       "    <tr>\n",
       "      <th>2000-01-10</th>\n",
       "      <td>22.77</td>\n",
       "    </tr>\n",
       "  </tbody>\n",
       "</table>\n",
       "</div>"
      ],
      "text/plain": [
       "            Price\n",
       "Date             \n",
       "2000-01-04  23.95\n",
       "2000-01-05  23.72\n",
       "2000-01-06  23.55\n",
       "2000-01-07  23.35\n",
       "2000-01-10  22.77"
      ]
     },
     "execution_count": 203,
     "metadata": {},
     "output_type": "execute_result"
    }
   ],
   "source": [
    "brent.head(\n",
    ")\n"
   ]
  },
  {
   "cell_type": "code",
   "execution_count": 204,
   "id": "13be94d1",
   "metadata": {},
   "outputs": [
    {
     "data": {
      "text/plain": [
       "DatetimeIndex(['2000-01-04', '2000-01-05', '2000-01-06', '2000-01-07',\n",
       "               '2000-01-10', '2000-01-11', '2000-01-12', '2000-01-13',\n",
       "               '2000-01-14', '2000-01-17',\n",
       "               ...\n",
       "               '2019-09-17', '2019-09-18', '2019-09-19', '2019-09-20',\n",
       "               '2019-09-23', '2019-09-24', '2019-09-25', '2019-09-26',\n",
       "               '2019-09-27', '2019-09-30'],\n",
       "              dtype='datetime64[ns]', name='Date', length=5016, freq=None)"
      ]
     },
     "execution_count": 204,
     "metadata": {},
     "output_type": "execute_result"
    }
   ],
   "source": [
    "brent.index"
   ]
  },
  {
   "cell_type": "code",
   "execution_count": 206,
   "id": "46fb7d06",
   "metadata": {},
   "outputs": [
    {
     "data": {
      "text/plain": [
       "Index(['Tuesday', 'Wednesday', 'Thursday', 'Friday', 'Monday', 'Tuesday',\n",
       "       'Wednesday', 'Thursday', 'Friday', 'Monday',\n",
       "       ...\n",
       "       'Tuesday', 'Wednesday', 'Thursday', 'Friday', 'Monday', 'Tuesday',\n",
       "       'Wednesday', 'Thursday', 'Friday', 'Monday'],\n",
       "      dtype='object', name='Date', length=5016)"
      ]
     },
     "execution_count": 206,
     "metadata": {},
     "output_type": "execute_result"
    }
   ],
   "source": [
    "brent.index.day_name()"
   ]
  },
  {
   "cell_type": "code",
   "execution_count": 208,
   "id": "b920c14d",
   "metadata": {},
   "outputs": [
    {
     "data": {
      "text/plain": [
       "Int64Index([ 4,  5,  6,  7, 10, 11, 12, 13, 14, 17,\n",
       "            ...\n",
       "            17, 18, 19, 20, 23, 24, 25, 26, 27, 30],\n",
       "           dtype='int64', name='Date', length=5016)"
      ]
     },
     "execution_count": 208,
     "metadata": {},
     "output_type": "execute_result"
    }
   ],
   "source": [
    "brent.index.day"
   ]
  },
  {
   "cell_type": "code",
   "execution_count": 209,
   "id": "a4b003db",
   "metadata": {},
   "outputs": [
    {
     "name": "stderr",
     "output_type": "stream",
     "text": [
      "C:\\Users\\97798\\AppData\\Local\\Temp\\ipykernel_7124\\1436609126.py:1: FutureWarning: weekofyear and week have been deprecated, please use DatetimeIndex.isocalendar().week instead, which returns a Series. To exactly reproduce the behavior of week and weekofyear and return an Index, you may call pd.Int64Index(idx.isocalendar().week)\n",
      "  brent.index.week\n"
     ]
    },
    {
     "data": {
      "text/plain": [
       "Int64Index([ 1,  1,  1,  1,  2,  2,  2,  2,  2,  3,\n",
       "            ...\n",
       "            38, 38, 38, 38, 39, 39, 39, 39, 39, 40],\n",
       "           dtype='int64', name='Date', length=5016)"
      ]
     },
     "execution_count": 209,
     "metadata": {},
     "output_type": "execute_result"
    }
   ],
   "source": [
    "brent.index.week"
   ]
  },
  {
   "cell_type": "code",
   "execution_count": 210,
   "id": "5d1847f9",
   "metadata": {},
   "outputs": [
    {
     "data": {
      "text/plain": [
       "Int64Index([1, 1, 1, 1, 1, 1, 1, 1, 1, 1,\n",
       "            ...\n",
       "            9, 9, 9, 9, 9, 9, 9, 9, 9, 9],\n",
       "           dtype='int64', name='Date', length=5016)"
      ]
     },
     "execution_count": 210,
     "metadata": {},
     "output_type": "execute_result"
    }
   ],
   "source": [
    "brent.index.month"
   ]
  },
  {
   "cell_type": "code",
   "execution_count": 211,
   "id": "4cd015ce",
   "metadata": {},
   "outputs": [],
   "source": [
    "# what day has registered the lowest price on average in the past 19 years"
   ]
  },
  {
   "cell_type": "code",
   "execution_count": 215,
   "id": "8bf249d9",
   "metadata": {},
   "outputs": [],
   "source": [
    "brent['dayname'] = brent.index.day_name()"
   ]
  },
  {
   "cell_type": "code",
   "execution_count": 216,
   "id": "67efae94",
   "metadata": {},
   "outputs": [
    {
     "data": {
      "text/html": [
       "<div>\n",
       "<style scoped>\n",
       "    .dataframe tbody tr th:only-of-type {\n",
       "        vertical-align: middle;\n",
       "    }\n",
       "\n",
       "    .dataframe tbody tr th {\n",
       "        vertical-align: top;\n",
       "    }\n",
       "\n",
       "    .dataframe thead th {\n",
       "        text-align: right;\n",
       "    }\n",
       "</style>\n",
       "<table border=\"1\" class=\"dataframe\">\n",
       "  <thead>\n",
       "    <tr style=\"text-align: right;\">\n",
       "      <th></th>\n",
       "      <th>Price</th>\n",
       "      <th>dayname</th>\n",
       "    </tr>\n",
       "    <tr>\n",
       "      <th>Date</th>\n",
       "      <th></th>\n",
       "      <th></th>\n",
       "    </tr>\n",
       "  </thead>\n",
       "  <tbody>\n",
       "    <tr>\n",
       "      <th>2000-01-04</th>\n",
       "      <td>23.95</td>\n",
       "      <td>Tuesday</td>\n",
       "    </tr>\n",
       "    <tr>\n",
       "      <th>2000-01-05</th>\n",
       "      <td>23.72</td>\n",
       "      <td>Wednesday</td>\n",
       "    </tr>\n",
       "    <tr>\n",
       "      <th>2000-01-06</th>\n",
       "      <td>23.55</td>\n",
       "      <td>Thursday</td>\n",
       "    </tr>\n",
       "    <tr>\n",
       "      <th>2000-01-07</th>\n",
       "      <td>23.35</td>\n",
       "      <td>Friday</td>\n",
       "    </tr>\n",
       "    <tr>\n",
       "      <th>2000-01-10</th>\n",
       "      <td>22.77</td>\n",
       "      <td>Monday</td>\n",
       "    </tr>\n",
       "  </tbody>\n",
       "</table>\n",
       "</div>"
      ],
      "text/plain": [
       "            Price    dayname\n",
       "Date                        \n",
       "2000-01-04  23.95    Tuesday\n",
       "2000-01-05  23.72  Wednesday\n",
       "2000-01-06  23.55   Thursday\n",
       "2000-01-07  23.35     Friday\n",
       "2000-01-10  22.77     Monday"
      ]
     },
     "execution_count": 216,
     "metadata": {},
     "output_type": "execute_result"
    }
   ],
   "source": [
    "brent.head()"
   ]
  },
  {
   "cell_type": "code",
   "execution_count": 234,
   "id": "acec5d92",
   "metadata": {},
   "outputs": [
    {
     "data": {
      "text/plain": [
       "Price    Monday\n",
       "dtype: object"
      ]
     },
     "execution_count": 234,
     "metadata": {},
     "output_type": "execute_result"
    }
   ],
   "source": [
    "(brent.groupby('dayname').agg('mean')).idxmin()"
   ]
  },
  {
   "cell_type": "code",
   "execution_count": 236,
   "id": "1b91e76c",
   "metadata": {},
   "outputs": [],
   "source": [
    "brent.drop('dayname', axis =1 , inplace=True)"
   ]
  },
  {
   "cell_type": "code",
   "execution_count": 237,
   "id": "5dcdeb2e",
   "metadata": {},
   "outputs": [
    {
     "data": {
      "text/html": [
       "<div>\n",
       "<style scoped>\n",
       "    .dataframe tbody tr th:only-of-type {\n",
       "        vertical-align: middle;\n",
       "    }\n",
       "\n",
       "    .dataframe tbody tr th {\n",
       "        vertical-align: top;\n",
       "    }\n",
       "\n",
       "    .dataframe thead th {\n",
       "        text-align: right;\n",
       "    }\n",
       "</style>\n",
       "<table border=\"1\" class=\"dataframe\">\n",
       "  <thead>\n",
       "    <tr style=\"text-align: right;\">\n",
       "      <th></th>\n",
       "      <th>Price</th>\n",
       "    </tr>\n",
       "    <tr>\n",
       "      <th>Date</th>\n",
       "      <th></th>\n",
       "    </tr>\n",
       "  </thead>\n",
       "  <tbody>\n",
       "    <tr>\n",
       "      <th>2000-01-04</th>\n",
       "      <td>23.95</td>\n",
       "    </tr>\n",
       "    <tr>\n",
       "      <th>2000-01-05</th>\n",
       "      <td>23.72</td>\n",
       "    </tr>\n",
       "    <tr>\n",
       "      <th>2000-01-06</th>\n",
       "      <td>23.55</td>\n",
       "    </tr>\n",
       "    <tr>\n",
       "      <th>2000-01-07</th>\n",
       "      <td>23.35</td>\n",
       "    </tr>\n",
       "    <tr>\n",
       "      <th>2000-01-10</th>\n",
       "      <td>22.77</td>\n",
       "    </tr>\n",
       "  </tbody>\n",
       "</table>\n",
       "</div>"
      ],
      "text/plain": [
       "            Price\n",
       "Date             \n",
       "2000-01-04  23.95\n",
       "2000-01-05  23.72\n",
       "2000-01-06  23.55\n",
       "2000-01-07  23.35\n",
       "2000-01-10  22.77"
      ]
     },
     "execution_count": 237,
     "metadata": {},
     "output_type": "execute_result"
    }
   ],
   "source": [
    "brent.head()"
   ]
  },
  {
   "cell_type": "code",
   "execution_count": 238,
   "id": "400f2cdf",
   "metadata": {},
   "outputs": [],
   "source": [
    "# bool marks with datetimeindex attributes"
   ]
  },
  {
   "cell_type": "code",
   "execution_count": 239,
   "id": "610081fc",
   "metadata": {},
   "outputs": [],
   "source": [
    "# find the average Brent prices in all leap years Feb"
   ]
  },
  {
   "cell_type": "code",
   "execution_count": 244,
   "id": "12946701",
   "metadata": {},
   "outputs": [
    {
     "data": {
      "text/plain": [
       "Price    60.696634\n",
       "dtype: float64"
      ]
     },
     "execution_count": 244,
     "metadata": {},
     "output_type": "execute_result"
    }
   ],
   "source": [
    "brent[(brent.index.is_leap_year == True) & (brent.index.month == 2)].mean()"
   ]
  },
  {
   "cell_type": "code",
   "execution_count": null,
   "id": "61da7692",
   "metadata": {},
   "outputs": [],
   "source": []
  }
 ],
 "metadata": {
  "kernelspec": {
   "display_name": "Python 3 (ipykernel)",
   "language": "python",
   "name": "python3"
  },
  "language_info": {
   "codemirror_mode": {
    "name": "ipython",
    "version": 3
   },
   "file_extension": ".py",
   "mimetype": "text/x-python",
   "name": "python",
   "nbconvert_exporter": "python",
   "pygments_lexer": "ipython3",
   "version": "3.9.12"
  }
 },
 "nbformat": 4,
 "nbformat_minor": 5
}
