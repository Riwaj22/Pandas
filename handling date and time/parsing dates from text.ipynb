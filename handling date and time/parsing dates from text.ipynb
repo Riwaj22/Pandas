{
 "cells": [
  {
   "cell_type": "code",
   "execution_count": 1,
   "id": "6f055530",
   "metadata": {},
   "outputs": [],
   "source": [
    "import numpy as np\n",
    "import pandas as pd"
   ]
  },
  {
   "cell_type": "code",
   "execution_count": 2,
   "id": "621e1dca",
   "metadata": {},
   "outputs": [],
   "source": [
    "from datetime import date"
   ]
  },
  {
   "cell_type": "code",
   "execution_count": 4,
   "id": "ef22439d",
   "metadata": {},
   "outputs": [],
   "source": [
    "date_A = date(2020,2,2)"
   ]
  },
  {
   "cell_type": "code",
   "execution_count": 5,
   "id": "31192832",
   "metadata": {},
   "outputs": [
    {
     "data": {
      "text/plain": [
       "datetime.date"
      ]
     },
     "execution_count": 5,
     "metadata": {},
     "output_type": "execute_result"
    }
   ],
   "source": [
    "type(date_A)"
   ]
  },
  {
   "cell_type": "code",
   "execution_count": 8,
   "id": "d3d93ad7",
   "metadata": {},
   "outputs": [],
   "source": [
    "# number of seconds between two days 15 apart "
   ]
  },
  {
   "cell_type": "code",
   "execution_count": 9,
   "id": "5c2a6084",
   "metadata": {},
   "outputs": [
    {
     "data": {
      "text/plain": [
       "2"
      ]
     },
     "execution_count": 9,
     "metadata": {},
     "output_type": "execute_result"
    }
   ],
   "source": [
    "date_A.day"
   ]
  },
  {
   "cell_type": "code",
   "execution_count": 10,
   "id": "d1ba06a4",
   "metadata": {},
   "outputs": [],
   "source": [
    "from datetime import time"
   ]
  },
  {
   "cell_type": "code",
   "execution_count": 11,
   "id": "4f6f7afe",
   "metadata": {},
   "outputs": [
    {
     "data": {
      "text/plain": [
       "2020"
      ]
     },
     "execution_count": 11,
     "metadata": {},
     "output_type": "execute_result"
    }
   ],
   "source": [
    "date_A.year"
   ]
  },
  {
   "cell_type": "code",
   "execution_count": 16,
   "id": "a3e2f29c",
   "metadata": {},
   "outputs": [
    {
     "data": {
      "text/plain": [
       "<function date.isoformat>"
      ]
     },
     "execution_count": 16,
     "metadata": {},
     "output_type": "execute_result"
    }
   ],
   "source": [
    "date_A.isoformat"
   ]
  },
  {
   "cell_type": "code",
   "execution_count": 20,
   "id": "4795f361",
   "metadata": {},
   "outputs": [],
   "source": [
    "from datetime import datetime"
   ]
  },
  {
   "cell_type": "code",
   "execution_count": 18,
   "id": "31bfc092",
   "metadata": {},
   "outputs": [],
   "source": [
    "# the datetime class"
   ]
  },
  {
   "cell_type": "code",
   "execution_count": 21,
   "id": "efca28b3",
   "metadata": {},
   "outputs": [],
   "source": [
    "df_ = datetime(2020,2,2,2,2,2)"
   ]
  },
  {
   "cell_type": "code",
   "execution_count": 23,
   "id": "1bb27e87",
   "metadata": {},
   "outputs": [
    {
     "data": {
      "text/plain": [
       "datetime.datetime(2023, 5, 23, 11, 41, 40, 917531)"
      ]
     },
     "execution_count": 23,
     "metadata": {},
     "output_type": "execute_result"
    }
   ],
   "source": [
    "datetime.now()"
   ]
  },
  {
   "cell_type": "code",
   "execution_count": 26,
   "id": "cc9fe42b",
   "metadata": {},
   "outputs": [
    {
     "data": {
      "text/plain": [
       "<attribute 'year' of 'datetime.date' objects>"
      ]
     },
     "execution_count": 26,
     "metadata": {},
     "output_type": "execute_result"
    }
   ],
   "source": [
    "datetime.year"
   ]
  },
  {
   "cell_type": "code",
   "execution_count": 28,
   "id": "798ab185",
   "metadata": {},
   "outputs": [],
   "source": [
    "dt_n = datetime.strptime('2019-01-01', '%Y-%m-%d') "
   ]
  },
  {
   "cell_type": "code",
   "execution_count": 29,
   "id": "f58bc464",
   "metadata": {},
   "outputs": [
    {
     "data": {
      "text/plain": [
       "datetime.datetime(2019, 1, 1, 0, 0)"
      ]
     },
     "execution_count": 29,
     "metadata": {},
     "output_type": "execute_result"
    }
   ],
   "source": [
    "dt_n"
   ]
  },
  {
   "cell_type": "code",
   "execution_count": 30,
   "id": "9f2de9c9",
   "metadata": {},
   "outputs": [
    {
     "data": {
      "text/plain": [
       "'2019-01-01T00:00:00'"
      ]
     },
     "execution_count": 30,
     "metadata": {},
     "output_type": "execute_result"
    }
   ],
   "source": [
    "dt_n.isoformat()"
   ]
  },
  {
   "cell_type": "code",
   "execution_count": 31,
   "id": "fb79cc43",
   "metadata": {},
   "outputs": [],
   "source": [
    "# another example:"
   ]
  },
  {
   "cell_type": "code",
   "execution_count": 32,
   "id": "555e7cae",
   "metadata": {},
   "outputs": [],
   "source": [
    "try_this = 'jan 20 2090 4pm'"
   ]
  },
  {
   "cell_type": "code",
   "execution_count": 39,
   "id": "31d6fa18",
   "metadata": {},
   "outputs": [],
   "source": [
    "try_this = datetime.strptime(try_this,'%b %d %Y %I%p')"
   ]
  },
  {
   "cell_type": "code",
   "execution_count": 42,
   "id": "62be3c60",
   "metadata": {},
   "outputs": [],
   "source": [
    "try_this = try_this.isoformat()"
   ]
  },
  {
   "cell_type": "code",
   "execution_count": 43,
   "id": "be669cd4",
   "metadata": {},
   "outputs": [
    {
     "data": {
      "text/plain": [
       "str"
      ]
     },
     "execution_count": 43,
     "metadata": {},
     "output_type": "execute_result"
    }
   ],
   "source": [
    "type(try_this)"
   ]
  },
  {
   "cell_type": "code",
   "execution_count": 44,
   "id": "e077146f",
   "metadata": {},
   "outputs": [],
   "source": [
    "# dateutil"
   ]
  },
  {
   "cell_type": "code",
   "execution_count": 45,
   "id": "2bf8f172",
   "metadata": {},
   "outputs": [
    {
     "name": "stdout",
     "output_type": "stream",
     "text": [
      "Requirement already satisfied: python-dateutil in c:\\users\\97798\\anaconda3\\lib\\site-packages (2.8.2)\n",
      "Requirement already satisfied: six>=1.5 in c:\\users\\97798\\anaconda3\\lib\\site-packages (from python-dateutil) (1.16.0)\n",
      "Note: you may need to restart the kernel to use updated packages.\n"
     ]
    }
   ],
   "source": [
    "pip install python-dateutil\n"
   ]
  },
  {
   "cell_type": "code",
   "execution_count": 1,
   "id": "77320a31",
   "metadata": {},
   "outputs": [],
   "source": [
    "from dateutil import parser"
   ]
  },
  {
   "cell_type": "code",
   "execution_count": 2,
   "id": "95375176",
   "metadata": {},
   "outputs": [
    {
     "data": {
      "text/plain": [
       "datetime.datetime(1990, 1, 21, 0, 0)"
      ]
     },
     "execution_count": 2,
     "metadata": {},
     "output_type": "execute_result"
    }
   ],
   "source": [
    "parser.parse('jan 21st 1990')"
   ]
  },
  {
   "cell_type": "code",
   "execution_count": 3,
   "id": "ed442ce9",
   "metadata": {},
   "outputs": [
    {
     "data": {
      "text/plain": [
       "datetime.datetime(2068, 4, 22, 16, 40)"
      ]
     },
     "execution_count": 3,
     "metadata": {},
     "output_type": "execute_result"
    }
   ],
   "source": [
    "parser.parse('22 april 2068 and 4 pm at 40 minutes')"
   ]
  },
  {
   "cell_type": "code",
   "execution_count": null,
   "id": "a610d4b2",
   "metadata": {},
   "outputs": [],
   "source": []
  }
 ],
 "metadata": {
  "kernelspec": {
   "display_name": "Python 3 (ipykernel)",
   "language": "python",
   "name": "python3"
  },
  "language_info": {
   "codemirror_mode": {
    "name": "ipython",
    "version": 3
   },
   "file_extension": ".py",
   "mimetype": "text/x-python",
   "name": "python",
   "nbconvert_exporter": "python",
   "pygments_lexer": "ipython3",
   "version": "3.9.12"
  }
 },
 "nbformat": 4,
 "nbformat_minor": 5
}
