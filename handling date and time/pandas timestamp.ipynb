{
 "cells": [
  {
   "cell_type": "code",
   "execution_count": 6,
   "id": "dc98f0f5",
   "metadata": {},
   "outputs": [],
   "source": [
    "import numpy as np\n",
    "import pandas as pd"
   ]
  },
  {
   "cell_type": "code",
   "execution_count": 60,
   "id": "90ac7398",
   "metadata": {},
   "outputs": [],
   "source": [
    "from datetime import date"
   ]
  },
  {
   "cell_type": "code",
   "execution_count": 62,
   "id": "2951fc42",
   "metadata": {},
   "outputs": [
    {
     "data": {
      "text/plain": [
       "'4 th of july 1775'"
      ]
     },
     "execution_count": 62,
     "metadata": {},
     "output_type": "execute_result"
    }
   ],
   "source": [
    "'4 th of july 1775'\n"
   ]
  },
  {
   "cell_type": "code",
   "execution_count": 63,
   "id": "93b31e99",
   "metadata": {},
   "outputs": [
    {
     "data": {
      "text/plain": [
       "Timestamp('1775-07-04 00:00:00')"
      ]
     },
     "execution_count": 63,
     "metadata": {},
     "output_type": "execute_result"
    }
   ],
   "source": [
    "pd.Timestamp('4 th of july 1775')"
   ]
  },
  {
   "cell_type": "code",
   "execution_count": 64,
   "id": "cefadb74",
   "metadata": {},
   "outputs": [],
   "source": [
    "from dateutil import parser"
   ]
  },
  {
   "cell_type": "code",
   "execution_count": 65,
   "id": "dcdccf8a",
   "metadata": {},
   "outputs": [
    {
     "data": {
      "text/plain": [
       "datetime.datetime(1775, 7, 4, 0, 0)"
      ]
     },
     "execution_count": 65,
     "metadata": {},
     "output_type": "execute_result"
    }
   ],
   "source": [
    "parser.parse('4 th of july 1775')"
   ]
  },
  {
   "cell_type": "code",
   "execution_count": 67,
   "id": "e52c8724",
   "metadata": {},
   "outputs": [],
   "source": [
    "pdts = pd.to_datetime('4/7/1776', dayfirst=True)"
   ]
  },
  {
   "cell_type": "code",
   "execution_count": 68,
   "id": "991e42eb",
   "metadata": {},
   "outputs": [
    {
     "data": {
      "text/plain": [
       "'Thursday'"
      ]
     },
     "execution_count": 68,
     "metadata": {},
     "output_type": "execute_result"
    }
   ],
   "source": [
    "pdts.day_name()"
   ]
  },
  {
   "cell_type": "code",
   "execution_count": 70,
   "id": "918057d9",
   "metadata": {},
   "outputs": [
    {
     "data": {
      "text/plain": [
       "3"
      ]
     },
     "execution_count": 70,
     "metadata": {},
     "output_type": "execute_result"
    }
   ],
   "source": [
    "pdts.quarter"
   ]
  },
  {
   "cell_type": "code",
   "execution_count": 73,
   "id": "8e59da2d",
   "metadata": {},
   "outputs": [
    {
     "data": {
      "text/plain": [
       "datetime.IsoCalendarDate(year=1776, week=27, weekday=4)"
      ]
     },
     "execution_count": 73,
     "metadata": {},
     "output_type": "execute_result"
    }
   ],
   "source": [
    "pdts.isocalendar()"
   ]
  },
  {
   "cell_type": "code",
   "execution_count": null,
   "id": "9dd8b91b",
   "metadata": {},
   "outputs": [],
   "source": []
  }
 ],
 "metadata": {
  "kernelspec": {
   "display_name": "Python 3 (ipykernel)",
   "language": "python",
   "name": "python3"
  },
  "language_info": {
   "codemirror_mode": {
    "name": "ipython",
    "version": 3
   },
   "file_extension": ".py",
   "mimetype": "text/x-python",
   "name": "python",
   "nbconvert_exporter": "python",
   "pygments_lexer": "ipython3",
   "version": "3.9.12"
  }
 },
 "nbformat": 4,
 "nbformat_minor": 5
}
