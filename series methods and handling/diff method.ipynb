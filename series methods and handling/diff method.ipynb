{
 "cells": [
  {
   "cell_type": "code",
   "execution_count": 159,
   "id": "e9a8db71",
   "metadata": {},
   "outputs": [],
   "source": [
    "import pandas as pd"
   ]
  },
  {
   "cell_type": "code",
   "execution_count": 191,
   "id": "3ec9e043",
   "metadata": {},
   "outputs": [],
   "source": [
    "alcohol = pd.read_csv(r\"C:\\Users\\97798\\Desktop\\Pandas\\series methods and handling\\drinks.csv\",usecols=['country','wine_servings'],index_col='country')"
   ]
  },
  {
   "cell_type": "code",
   "execution_count": 193,
   "id": "9918b354",
   "metadata": {},
   "outputs": [],
   "source": [
    "alcohol = alcohol.squeeze()"
   ]
  },
  {
   "cell_type": "code",
   "execution_count": 207,
   "id": "0e418edc",
   "metadata": {},
   "outputs": [
    {
     "data": {
      "text/plain": [
       "country\n",
       "Afghanistan      NaN\n",
       "Albania         54.0\n",
       "Algeria         14.0\n",
       "Andorra        312.0\n",
       "Angola          45.0\n",
       "               ...  \n",
       "Venezuela        3.0\n",
       "Vietnam          1.0\n",
       "Yemen            NaN\n",
       "Zambia           4.0\n",
       "Zimbabwe         4.0\n",
       "Name: wine_servings, Length: 193, dtype: float64"
      ]
     },
     "execution_count": 207,
     "metadata": {},
     "output_type": "execute_result"
    }
   ],
   "source": [
    "alcohol"
   ]
  },
  {
   "cell_type": "code",
   "execution_count": 208,
   "id": "6705e011",
   "metadata": {},
   "outputs": [],
   "source": [
    "# pairwise difference "
   ]
  },
  {
   "cell_type": "code",
   "execution_count": 209,
   "id": "9c87bd53",
   "metadata": {},
   "outputs": [
    {
     "data": {
      "text/plain": [
       "country\n",
       "Afghanistan      NaN\n",
       "Albania         54.0\n",
       "Algeria         14.0\n",
       "Andorra        312.0\n",
       "Angola          45.0\n",
       "Name: wine_servings, dtype: float64"
      ]
     },
     "execution_count": 209,
     "metadata": {},
     "output_type": "execute_result"
    }
   ],
   "source": [
    "alcohol.head()"
   ]
  },
  {
   "cell_type": "code",
   "execution_count": 211,
   "id": "3b48d6a9",
   "metadata": {},
   "outputs": [
    {
     "data": {
      "text/plain": [
       "country\n",
       "Afghanistan      NaN\n",
       "Albania          NaN\n",
       "Algeria        -40.0\n",
       "Andorra        298.0\n",
       "Angola        -267.0\n",
       "Name: wine_servings, dtype: float64"
      ]
     },
     "execution_count": 211,
     "metadata": {},
     "output_type": "execute_result"
    }
   ],
   "source": [
    "alcohol.diff().head()"
   ]
  },
  {
   "cell_type": "code",
   "execution_count": 212,
   "id": "1f4416c4",
   "metadata": {},
   "outputs": [
    {
     "data": {
      "text/plain": [
       "country\n",
       "Afghanistan      NaN\n",
       "Albania          NaN\n",
       "Algeria          NaN\n",
       "Andorra        258.0\n",
       "Angola          31.0\n",
       "Name: wine_servings, dtype: float64"
      ]
     },
     "execution_count": 212,
     "metadata": {},
     "output_type": "execute_result"
    }
   ],
   "source": [
    "alcohol.diff(periods=2).head()"
   ]
  },
  {
   "cell_type": "code",
   "execution_count": null,
   "id": "4951ccda",
   "metadata": {},
   "outputs": [],
   "source": []
  }
 ],
 "metadata": {
  "kernelspec": {
   "display_name": "Python 3 (ipykernel)",
   "language": "python",
   "name": "python3"
  },
  "language_info": {
   "codemirror_mode": {
    "name": "ipython",
    "version": 3
   },
   "file_extension": ".py",
   "mimetype": "text/x-python",
   "name": "python",
   "nbconvert_exporter": "python",
   "pygments_lexer": "ipython3",
   "version": "3.9.12"
  }
 },
 "nbformat": 4,
 "nbformat_minor": 5
}
