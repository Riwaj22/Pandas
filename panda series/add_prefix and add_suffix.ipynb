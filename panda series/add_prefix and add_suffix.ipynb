{
 "cells": [
  {
   "cell_type": "code",
   "execution_count": 19,
   "id": "afb796f3",
   "metadata": {},
   "outputs": [],
   "source": [
    "import pandas as pd"
   ]
  },
  {
   "cell_type": "code",
   "execution_count": 47,
   "id": "60319765",
   "metadata": {},
   "outputs": [],
   "source": [
    "from string import ascii_lowercase,ascii_uppercase"
   ]
  },
  {
   "cell_type": "code",
   "execution_count": 48,
   "id": "70c8165e",
   "metadata": {},
   "outputs": [
    {
     "data": {
      "text/plain": [
       "'abcdefghijklmnopqrstuvwxyz'"
      ]
     },
     "execution_count": 48,
     "metadata": {},
     "output_type": "execute_result"
    }
   ],
   "source": [
    "ascii_lowercase"
   ]
  },
  {
   "cell_type": "code",
   "execution_count": 49,
   "id": "dfebc6a5",
   "metadata": {},
   "outputs": [
    {
     "data": {
      "text/plain": [
       "'ABCDEFGHIJKLMNOPQRSTUVWXYZ'"
      ]
     },
     "execution_count": 49,
     "metadata": {},
     "output_type": "execute_result"
    }
   ],
   "source": [
    "ascii_uppercase"
   ]
  },
  {
   "cell_type": "code",
   "execution_count": 52,
   "id": "51bef6f5",
   "metadata": {},
   "outputs": [],
   "source": [
    "labeled_alphabet = pd.Series(data = list(ascii_lowercase), index=map(lambda x: 'label_'+x,list(ascii_uppercase)))"
   ]
  },
  {
   "cell_type": "code",
   "execution_count": 54,
   "id": "78860e79",
   "metadata": {
    "scrolled": true
   },
   "outputs": [
    {
     "data": {
      "text/plain": [
       "label_A    a\n",
       "label_B    b\n",
       "label_C    c\n",
       "label_D    d\n",
       "label_E    e\n",
       "dtype: object"
      ]
     },
     "execution_count": 54,
     "metadata": {},
     "output_type": "execute_result"
    }
   ],
   "source": [
    "labeled_alphabet.head()"
   ]
  },
  {
   "cell_type": "code",
   "execution_count": 55,
   "id": "0dc0f002",
   "metadata": {},
   "outputs": [],
   "source": [
    "# first letter\n",
    "# 11th letter\n",
    "# first 3 letters \n",
    "# sixth through 10th letter\n",
    "# last 6 letters"
   ]
  },
  {
   "cell_type": "code",
   "execution_count": 56,
   "id": "edcecca2",
   "metadata": {},
   "outputs": [
    {
     "data": {
      "text/plain": [
       "'a'"
      ]
     },
     "execution_count": 56,
     "metadata": {},
     "output_type": "execute_result"
    }
   ],
   "source": [
    "labeled_alphabet[0]"
   ]
  },
  {
   "cell_type": "code",
   "execution_count": 57,
   "id": "169bab75",
   "metadata": {},
   "outputs": [
    {
     "data": {
      "text/plain": [
       "'a'"
      ]
     },
     "execution_count": 57,
     "metadata": {},
     "output_type": "execute_result"
    }
   ],
   "source": [
    "labeled_alphabet['label_A']"
   ]
  },
  {
   "cell_type": "code",
   "execution_count": 58,
   "id": "a80657a1",
   "metadata": {},
   "outputs": [
    {
     "data": {
      "text/plain": [
       "'k'"
      ]
     },
     "execution_count": 58,
     "metadata": {},
     "output_type": "execute_result"
    }
   ],
   "source": [
    "labeled_alphabet['label_K']"
   ]
  },
  {
   "cell_type": "code",
   "execution_count": 59,
   "id": "8296208f",
   "metadata": {},
   "outputs": [
    {
     "data": {
      "text/plain": [
       "label_A    a\n",
       "label_B    b\n",
       "label_C    c\n",
       "dtype: object"
      ]
     },
     "execution_count": 59,
     "metadata": {},
     "output_type": "execute_result"
    }
   ],
   "source": [
    "labeled_alphabet[:'label_C']"
   ]
  },
  {
   "cell_type": "code",
   "execution_count": 60,
   "id": "97d56e15",
   "metadata": {},
   "outputs": [
    {
     "data": {
      "text/plain": [
       "label_F    f\n",
       "label_G    g\n",
       "label_H    h\n",
       "label_I    i\n",
       "label_J    j\n",
       "dtype: object"
      ]
     },
     "execution_count": 60,
     "metadata": {},
     "output_type": "execute_result"
    }
   ],
   "source": [
    "labeled_alphabet['label_F':'label_J']"
   ]
  },
  {
   "cell_type": "code",
   "execution_count": 61,
   "id": "ced435bc",
   "metadata": {},
   "outputs": [
    {
     "data": {
      "text/plain": [
       "label_U    u\n",
       "label_V    v\n",
       "label_W    w\n",
       "label_X    x\n",
       "label_Y    y\n",
       "label_Z    z\n",
       "dtype: object"
      ]
     },
     "execution_count": 61,
     "metadata": {},
     "output_type": "execute_result"
    }
   ],
   "source": [
    "labeled_alphabet['label_U':]"
   ]
  },
  {
   "cell_type": "code",
   "execution_count": 63,
   "id": "a34597dc",
   "metadata": {},
   "outputs": [
    {
     "data": {
      "text/plain": [
       "label_U    u\n",
       "label_V    v\n",
       "label_W    w\n",
       "label_X    x\n",
       "label_Y    y\n",
       "label_Z    z\n",
       "dtype: object"
      ]
     },
     "execution_count": 63,
     "metadata": {},
     "output_type": "execute_result"
    }
   ],
   "source": [
    "labeled_alphabet[-6:]"
   ]
  },
  {
   "cell_type": "code",
   "execution_count": 64,
   "id": "ce5a0ac2",
   "metadata": {},
   "outputs": [
    {
     "data": {
      "text/plain": [
       "Label_0     a\n",
       "Label_1     b\n",
       "Label_2     c\n",
       "Label_3     d\n",
       "Label_4     e\n",
       "Label_5     f\n",
       "Label_6     g\n",
       "Label_7     h\n",
       "Label_8     i\n",
       "Label_9     j\n",
       "Label_10    k\n",
       "Label_11    l\n",
       "Label_12    m\n",
       "Label_13    n\n",
       "Label_14    o\n",
       "Label_15    p\n",
       "Label_16    q\n",
       "Label_17    r\n",
       "Label_18    s\n",
       "Label_19    t\n",
       "Label_20    u\n",
       "Label_21    v\n",
       "Label_22    w\n",
       "Label_23    x\n",
       "Label_24    y\n",
       "Label_25    z\n",
       "dtype: object"
      ]
     },
     "execution_count": 64,
     "metadata": {},
     "output_type": "execute_result"
    }
   ],
   "source": [
    "alphabet.add_prefix('Label_')"
   ]
  },
  {
   "cell_type": "code",
   "execution_count": 65,
   "id": "478f76af",
   "metadata": {},
   "outputs": [
    {
     "data": {
      "text/plain": [
       "0_some_cool_endings     a\n",
       "1_some_cool_endings     b\n",
       "2_some_cool_endings     c\n",
       "3_some_cool_endings     d\n",
       "4_some_cool_endings     e\n",
       "5_some_cool_endings     f\n",
       "6_some_cool_endings     g\n",
       "7_some_cool_endings     h\n",
       "8_some_cool_endings     i\n",
       "9_some_cool_endings     j\n",
       "10_some_cool_endings    k\n",
       "11_some_cool_endings    l\n",
       "12_some_cool_endings    m\n",
       "13_some_cool_endings    n\n",
       "14_some_cool_endings    o\n",
       "15_some_cool_endings    p\n",
       "16_some_cool_endings    q\n",
       "17_some_cool_endings    r\n",
       "18_some_cool_endings    s\n",
       "19_some_cool_endings    t\n",
       "20_some_cool_endings    u\n",
       "21_some_cool_endings    v\n",
       "22_some_cool_endings    w\n",
       "23_some_cool_endings    x\n",
       "24_some_cool_endings    y\n",
       "25_some_cool_endings    z\n",
       "dtype: object"
      ]
     },
     "execution_count": 65,
     "metadata": {},
     "output_type": "execute_result"
    }
   ],
   "source": [
    "alphabet.add_suffix('_some_cool_endings')"
   ]
  },
  {
   "cell_type": "code",
   "execution_count": 67,
   "id": "17396228",
   "metadata": {},
   "outputs": [],
   "source": [
    "alphabet = alphabet.add_prefix('Label_')"
   ]
  },
  {
   "cell_type": "code",
   "execution_count": null,
   "id": "92a6c3b0",
   "metadata": {
    "collapsed": true
   },
   "outputs": [],
   "source": []
  },
  {
   "cell_type": "code",
   "execution_count": 68,
   "id": "d2ad727f",
   "metadata": {},
   "outputs": [
    {
     "data": {
      "text/plain": [
       "Label_0     a\n",
       "Label_1     b\n",
       "Label_2     c\n",
       "Label_3     d\n",
       "Label_4     e\n",
       "Label_5     f\n",
       "Label_6     g\n",
       "Label_7     h\n",
       "Label_8     i\n",
       "Label_9     j\n",
       "Label_10    k\n",
       "Label_11    l\n",
       "Label_12    m\n",
       "Label_13    n\n",
       "Label_14    o\n",
       "Label_15    p\n",
       "Label_16    q\n",
       "Label_17    r\n",
       "Label_18    s\n",
       "Label_19    t\n",
       "Label_20    u\n",
       "Label_21    v\n",
       "Label_22    w\n",
       "Label_23    x\n",
       "Label_24    y\n",
       "Label_25    z\n",
       "dtype: object"
      ]
     },
     "execution_count": 68,
     "metadata": {},
     "output_type": "execute_result"
    }
   ],
   "source": [
    "alphabet"
   ]
  },
  {
   "cell_type": "code",
   "execution_count": null,
   "id": "bd5bac11",
   "metadata": {},
   "outputs": [],
   "source": []
  }
 ],
 "metadata": {
  "kernelspec": {
   "display_name": "Python 3 (ipykernel)",
   "language": "python",
   "name": "python3"
  },
  "language_info": {
   "codemirror_mode": {
    "name": "ipython",
    "version": 3
   },
   "file_extension": ".py",
   "mimetype": "text/x-python",
   "name": "python",
   "nbconvert_exporter": "python",
   "pygments_lexer": "ipython3",
   "version": "3.9.12"
  }
 },
 "nbformat": 4,
 "nbformat_minor": 5
}
