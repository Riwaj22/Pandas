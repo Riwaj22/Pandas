{
 "cells": [
  {
   "cell_type": "code",
   "execution_count": 62,
   "id": "b6ed05cc",
   "metadata": {},
   "outputs": [],
   "source": [
    "import pandas as pd"
   ]
  },
  {
   "cell_type": "code",
   "execution_count": 66,
   "id": "44bf30ca",
   "metadata": {},
   "outputs": [],
   "source": [
    "books_list = pd.Series(books_list)"
   ]
  },
  {
   "cell_type": "code",
   "execution_count": 67,
   "id": "24a10f18",
   "metadata": {},
   "outputs": [],
   "source": [
    "books_series = books_list"
   ]
  },
  {
   "cell_type": "code",
   "execution_count": 68,
   "id": "b15934cb",
   "metadata": {},
   "outputs": [
    {
     "data": {
      "text/plain": [
       "0    A\n",
       "1    B\n",
       "2    C\n",
       "dtype: object"
      ]
     },
     "execution_count": 68,
     "metadata": {},
     "output_type": "execute_result"
    }
   ],
   "source": [
    "books_series"
   ]
  },
  {
   "cell_type": "code",
   "execution_count": 69,
   "id": "ace82ce6",
   "metadata": {},
   "outputs": [
    {
     "data": {
      "text/plain": [
       "3"
      ]
     },
     "execution_count": 69,
     "metadata": {},
     "output_type": "execute_result"
    }
   ],
   "source": [
    "books_series.size"
   ]
  },
  {
   "cell_type": "code",
   "execution_count": 70,
   "id": "d2d4f6f0",
   "metadata": {},
   "outputs": [
    {
     "data": {
      "text/plain": [
       "dtype('O')"
      ]
     },
     "execution_count": 70,
     "metadata": {},
     "output_type": "execute_result"
    }
   ],
   "source": [
    "books_series.dtype"
   ]
  },
  {
   "cell_type": "code",
   "execution_count": 73,
   "id": "33ddd9a6",
   "metadata": {},
   "outputs": [],
   "source": [
    "books_series.name"
   ]
  },
  {
   "cell_type": "code",
   "execution_count": 74,
   "id": "c4f238e0",
   "metadata": {},
   "outputs": [
    {
     "data": {
      "text/plain": [
       "True"
      ]
     },
     "execution_count": 74,
     "metadata": {},
     "output_type": "execute_result"
    }
   ],
   "source": [
    "books_series.name == None"
   ]
  },
  {
   "cell_type": "code",
   "execution_count": 75,
   "id": "906eca5c",
   "metadata": {},
   "outputs": [],
   "source": [
    "books_series.name = 'My favourite books'"
   ]
  },
  {
   "cell_type": "code",
   "execution_count": 76,
   "id": "d7f2ff9e",
   "metadata": {},
   "outputs": [
    {
     "data": {
      "text/plain": [
       "0    A\n",
       "1    B\n",
       "2    C\n",
       "Name: My favourite books, dtype: object"
      ]
     },
     "execution_count": 76,
     "metadata": {},
     "output_type": "execute_result"
    }
   ],
   "source": [
    "books_series"
   ]
  },
  {
   "cell_type": "code",
   "execution_count": 77,
   "id": "c0109cd2",
   "metadata": {},
   "outputs": [],
   "source": [
    "books_series.index.name = 'My books'"
   ]
  },
  {
   "cell_type": "code",
   "execution_count": 78,
   "id": "8b6ac609",
   "metadata": {},
   "outputs": [
    {
     "data": {
      "text/plain": [
       "My books\n",
       "0    A\n",
       "1    B\n",
       "2    C\n",
       "Name: My favourite books, dtype: object"
      ]
     },
     "execution_count": 78,
     "metadata": {},
     "output_type": "execute_result"
    }
   ],
   "source": [
    "books_series"
   ]
  },
  {
   "cell_type": "code",
   "execution_count": null,
   "id": "6a4f69fd",
   "metadata": {},
   "outputs": [],
   "source": []
  }
 ],
 "metadata": {
  "kernelspec": {
   "display_name": "Python 3 (ipykernel)",
   "language": "python",
   "name": "python3"
  },
  "language_info": {
   "codemirror_mode": {
    "name": "ipython",
    "version": 3
   },
   "file_extension": ".py",
   "mimetype": "text/x-python",
   "name": "python",
   "nbconvert_exporter": "python",
   "pygments_lexer": "ipython3",
   "version": "3.9.12"
  }
 },
 "nbformat": 4,
 "nbformat_minor": 5
}
