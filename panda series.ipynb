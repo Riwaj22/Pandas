{
 "cells": [
  {
   "cell_type": "code",
   "execution_count": 1,
   "id": "e54ccda1",
   "metadata": {},
   "outputs": [],
   "source": [
    "import pandas as pd"
   ]
  },
  {
   "cell_type": "code",
   "execution_count": 2,
   "id": "bb9789e9",
   "metadata": {},
   "outputs": [],
   "source": [
    "student_list = ['A','B','c']"
   ]
  },
  {
   "cell_type": "code",
   "execution_count": 3,
   "id": "7df07dab",
   "metadata": {},
   "outputs": [
    {
     "data": {
      "text/plain": [
       "list"
      ]
     },
     "execution_count": 3,
     "metadata": {},
     "output_type": "execute_result"
    }
   ],
   "source": [
    "type(student_list)"
   ]
  },
  {
   "cell_type": "code",
   "execution_count": 4,
   "id": "a5fec35b",
   "metadata": {},
   "outputs": [
    {
     "data": {
      "text/plain": [
       "0    A\n",
       "1    B\n",
       "2    c\n",
       "dtype: object"
      ]
     },
     "execution_count": 4,
     "metadata": {},
     "output_type": "execute_result"
    }
   ],
   "source": [
    "pd.Series(student_list\n",
    "         )"
   ]
  },
  {
   "cell_type": "code",
   "execution_count": 5,
   "id": "5213ff36",
   "metadata": {},
   "outputs": [],
   "source": [
    "ages = [27,29,33]"
   ]
  },
  {
   "cell_type": "code",
   "execution_count": 6,
   "id": "8e9afb46",
   "metadata": {},
   "outputs": [
    {
     "data": {
      "text/plain": [
       "0    27\n",
       "1    29\n",
       "2    33\n",
       "dtype: int64"
      ]
     },
     "execution_count": 6,
     "metadata": {},
     "output_type": "execute_result"
    }
   ],
   "source": [
    "pd.Series(ages)"
   ]
  },
  {
   "cell_type": "code",
   "execution_count": 7,
   "id": "e4a5639e",
   "metadata": {},
   "outputs": [],
   "source": [
    "heights = [167,188,199]\n"
   ]
  },
  {
   "cell_type": "code",
   "execution_count": 8,
   "id": "282302ad",
   "metadata": {},
   "outputs": [
    {
     "data": {
      "text/plain": [
       "0    167\n",
       "1    188\n",
       "2    199\n",
       "dtype: int64"
      ]
     },
     "execution_count": 8,
     "metadata": {},
     "output_type": "execute_result"
    }
   ],
   "source": [
    "pd.Series(heights)"
   ]
  },
  {
   "cell_type": "code",
   "execution_count": 9,
   "id": "13606077",
   "metadata": {},
   "outputs": [],
   "source": [
    "# Parameters vs Arguments"
   ]
  },
  {
   "cell_type": "code",
   "execution_count": 10,
   "id": "8a6d4274",
   "metadata": {},
   "outputs": [
    {
     "data": {
      "text/plain": [
       "0    A\n",
       "1    B\n",
       "2    c\n",
       "dtype: object"
      ]
     },
     "execution_count": 10,
     "metadata": {},
     "output_type": "execute_result"
    }
   ],
   "source": [
    "pd.Series(student_list)"
   ]
  },
  {
   "cell_type": "code",
   "execution_count": 11,
   "id": "bd82d3a0",
   "metadata": {},
   "outputs": [
    {
     "data": {
      "text/plain": [
       "0    A\n",
       "1    B\n",
       "2    c\n",
       "dtype: object"
      ]
     },
     "execution_count": 11,
     "metadata": {},
     "output_type": "execute_result"
    }
   ],
   "source": [
    "pd.Series(data=student_list)"
   ]
  },
  {
   "cell_type": "code",
   "execution_count": 12,
   "id": "ccf985d6",
   "metadata": {},
   "outputs": [],
   "source": [
    "def greeting(something):\n",
    "    print(something)"
   ]
  },
  {
   "cell_type": "code",
   "execution_count": 14,
   "id": "c6844a35",
   "metadata": {},
   "outputs": [
    {
     "name": "stdout",
     "output_type": "stream",
     "text": [
      "Riwaj\n"
     ]
    }
   ],
   "source": [
    "greeting('Riwaj')"
   ]
  },
  {
   "cell_type": "code",
   "execution_count": 15,
   "id": "328c2642",
   "metadata": {},
   "outputs": [],
   "source": [
    "books_list = ['a','B','C','d']"
   ]
  },
  {
   "cell_type": "code",
   "execution_count": 19,
   "id": "f1ec619e",
   "metadata": {},
   "outputs": [],
   "source": [
    "list_s = pd.Series(data=books_list)"
   ]
  },
  {
   "cell_type": "code",
   "execution_count": 20,
   "id": "b8903f31",
   "metadata": {},
   "outputs": [],
   "source": [
    "books_list = {0:'A',1:'B',2:'C'}\n"
   ]
  },
  {
   "cell_type": "code",
   "execution_count": 21,
   "id": "fa021c9c",
   "metadata": {},
   "outputs": [],
   "source": [
    "list_d = pd.Series(data=books_list)"
   ]
  },
  {
   "cell_type": "code",
   "execution_count": 23,
   "id": "02c589e1",
   "metadata": {},
   "outputs": [
    {
     "data": {
      "text/plain": [
       "True"
      ]
     },
     "execution_count": 23,
     "metadata": {},
     "output_type": "execute_result"
    }
   ],
   "source": [
    "list_s.equals(list_d)"
   ]
  },
  {
   "cell_type": "code",
   "execution_count": 24,
   "id": "5056ec6f",
   "metadata": {},
   "outputs": [
    {
     "data": {
      "text/plain": [
       "0    Riwaj\n",
       "dtype: object"
      ]
     },
     "execution_count": 24,
     "metadata": {},
     "output_type": "execute_result"
    }
   ],
   "source": [
    "pd.Series('Riwaj')"
   ]
  },
  {
   "cell_type": "code",
   "execution_count": null,
   "id": "75346b4b",
   "metadata": {},
   "outputs": [],
   "source": []
  }
 ],
 "metadata": {
  "kernelspec": {
   "display_name": "Python 3 (ipykernel)",
   "language": "python",
   "name": "python3"
  },
  "language_info": {
   "codemirror_mode": {
    "name": "ipython",
    "version": 3
   },
   "file_extension": ".py",
   "mimetype": "text/x-python",
   "name": "python",
   "nbconvert_exporter": "python",
   "pygments_lexer": "ipython3",
   "version": "3.9.12"
  }
 },
 "nbformat": 4,
 "nbformat_minor": 5
}
